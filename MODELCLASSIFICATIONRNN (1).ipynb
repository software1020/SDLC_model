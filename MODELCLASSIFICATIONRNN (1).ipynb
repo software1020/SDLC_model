{
 "cells": [
  {
   "cell_type": "code",
   "execution_count": 50,
   "id": "7f7bcb5d",
   "metadata": {
    "id": "7f7bcb5d"
   },
   "outputs": [],
   "source": [
    "import pandas\n",
    "from keras.models import Sequential\n",
    "from keras.layers import Dense\n",
    "from keras.wrappers.scikit_learn import KerasClassifier\n",
    "from keras.utils import np_utils\n",
    "from sklearn.model_selection import cross_val_score\n",
    "from sklearn.model_selection import KFold\n",
    "from sklearn.preprocessing import LabelEncoder\n",
    "from sklearn.model_selection import train_test_split\n",
    "from sklearn.preprocessing import MinMaxScaler\n",
    "import tensorflow as tf\n",
    "import matplotlib.pyplot as plt\n",
    "import numpy as np\n",
    "from sklearn.pipeline import Pipeline\n",
    "from tensorflow import keras"
   ]
  },
  {
   "cell_type": "code",
   "execution_count": 51,
   "id": "VcQJwTK9fHE-",
   "metadata": {
    "colab": {
     "base_uri": "https://localhost:8080/",
     "height": 270
    },
    "id": "VcQJwTK9fHE-",
    "outputId": "7c9ae59e-8529-4d02-b880-58480c6187eb"
   },
   "outputs": [
    {
     "data": {
      "text/html": [
       "<div>\n",
       "<style scoped>\n",
       "    .dataframe tbody tr th:only-of-type {\n",
       "        vertical-align: middle;\n",
       "    }\n",
       "\n",
       "    .dataframe tbody tr th {\n",
       "        vertical-align: top;\n",
       "    }\n",
       "\n",
       "    .dataframe thead th {\n",
       "        text-align: right;\n",
       "    }\n",
       "</style>\n",
       "<table border=\"1\" class=\"dataframe\">\n",
       "  <thead>\n",
       "    <tr style=\"text-align: right;\">\n",
       "      <th></th>\n",
       "      <th>ComplexProject</th>\n",
       "      <th>ProjectwithRisk</th>\n",
       "      <th>AssociatedCost</th>\n",
       "      <th>ProjectDuration</th>\n",
       "      <th>CustomerInvolvement</th>\n",
       "      <th>ImplementationStage</th>\n",
       "      <th>RequirementGathering</th>\n",
       "      <th>Maintainability</th>\n",
       "      <th>ErrorDiscovery</th>\n",
       "      <th>Flexibility</th>\n",
       "      <th>MODEL</th>\n",
       "    </tr>\n",
       "  </thead>\n",
       "  <tbody>\n",
       "    <tr>\n",
       "      <th>0</th>\n",
       "      <td>4</td>\n",
       "      <td>1</td>\n",
       "      <td>3</td>\n",
       "      <td>5</td>\n",
       "      <td>1</td>\n",
       "      <td>1</td>\n",
       "      <td>5</td>\n",
       "      <td>5</td>\n",
       "      <td>1</td>\n",
       "      <td>1</td>\n",
       "      <td>WATERFALL</td>\n",
       "    </tr>\n",
       "    <tr>\n",
       "      <th>1</th>\n",
       "      <td>5</td>\n",
       "      <td>4</td>\n",
       "      <td>4</td>\n",
       "      <td>5</td>\n",
       "      <td>3</td>\n",
       "      <td>4</td>\n",
       "      <td>5</td>\n",
       "      <td>4</td>\n",
       "      <td>4</td>\n",
       "      <td>5</td>\n",
       "      <td>WATERFALL</td>\n",
       "    </tr>\n",
       "    <tr>\n",
       "      <th>2</th>\n",
       "      <td>3</td>\n",
       "      <td>3</td>\n",
       "      <td>3</td>\n",
       "      <td>3</td>\n",
       "      <td>3</td>\n",
       "      <td>3</td>\n",
       "      <td>3</td>\n",
       "      <td>3</td>\n",
       "      <td>3</td>\n",
       "      <td>3</td>\n",
       "      <td>WATERFALL</td>\n",
       "    </tr>\n",
       "    <tr>\n",
       "      <th>3</th>\n",
       "      <td>4</td>\n",
       "      <td>4</td>\n",
       "      <td>3</td>\n",
       "      <td>4</td>\n",
       "      <td>5</td>\n",
       "      <td>3</td>\n",
       "      <td>3</td>\n",
       "      <td>5</td>\n",
       "      <td>5</td>\n",
       "      <td>3</td>\n",
       "      <td>WATERFALL</td>\n",
       "    </tr>\n",
       "    <tr>\n",
       "      <th>4</th>\n",
       "      <td>5</td>\n",
       "      <td>1</td>\n",
       "      <td>3</td>\n",
       "      <td>3</td>\n",
       "      <td>1</td>\n",
       "      <td>1</td>\n",
       "      <td>5</td>\n",
       "      <td>1</td>\n",
       "      <td>1</td>\n",
       "      <td>1</td>\n",
       "      <td>WATERFALL</td>\n",
       "    </tr>\n",
       "  </tbody>\n",
       "</table>\n",
       "</div>"
      ],
      "text/plain": [
       "   ComplexProject  ProjectwithRisk   AssociatedCost  ProjectDuration  \\\n",
       "0               4                 1               3                5   \n",
       "1               5                 4               4                5   \n",
       "2               3                 3               3                3   \n",
       "3               4                 4               3                4   \n",
       "4               5                 1               3                3   \n",
       "\n",
       "   CustomerInvolvement  ImplementationStage  RequirementGathering  \\\n",
       "0                    1                    1                     5   \n",
       "1                    3                    4                     5   \n",
       "2                    3                    3                     3   \n",
       "3                    5                    3                     3   \n",
       "4                    1                    1                     5   \n",
       "\n",
       "   Maintainability   ErrorDiscovery   Flexibility      MODEL  \n",
       "0                 5                1            1  WATERFALL  \n",
       "1                 4                4            5  WATERFALL  \n",
       "2                 3                3            3  WATERFALL  \n",
       "3                 5                5            3  WATERFALL  \n",
       "4                 1                1            1  WATERFALL  "
      ]
     },
     "execution_count": 51,
     "metadata": {},
     "output_type": "execute_result"
    }
   ],
   "source": [
    "mlb_data = pandas.read_csv(\"FATHIA DATASET NEW 6.1.csv\")\n",
    "mlb_data.head()"
   ]
  },
  {
   "cell_type": "code",
   "execution_count": 52,
   "id": "f5f4Ie3JfnO-",
   "metadata": {
    "colab": {
     "base_uri": "https://localhost:8080/"
    },
    "id": "f5f4Ie3JfnO-",
    "outputId": "56bfae39-4a59-4fa6-fbec-7f368343841f"
   },
   "outputs": [
    {
     "name": "stdout",
     "output_type": "stream",
     "text": [
      "<class 'pandas.core.frame.DataFrame'>\n",
      "RangeIndex: 8520 entries, 0 to 8519\n",
      "Data columns (total 11 columns):\n",
      " #   Column                Non-Null Count  Dtype \n",
      "---  ------                --------------  ----- \n",
      " 0   ComplexProject        8520 non-null   int64 \n",
      " 1   ProjectwithRisk       8520 non-null   int64 \n",
      " 2   AssociatedCost        8520 non-null   int64 \n",
      " 3   ProjectDuration       8520 non-null   int64 \n",
      " 4   CustomerInvolvement   8520 non-null   int64 \n",
      " 5   ImplementationStage   8520 non-null   int64 \n",
      " 6   RequirementGathering  8520 non-null   int64 \n",
      " 7   Maintainability       8520 non-null   int64 \n",
      " 8   ErrorDiscovery        8520 non-null   int64 \n",
      " 9   Flexibility           8520 non-null   int64 \n",
      " 10  MODEL                 8520 non-null   object\n",
      "dtypes: int64(10), object(1)\n",
      "memory usage: 732.3+ KB\n"
     ]
    }
   ],
   "source": [
    "mlb_data.info(verbose=True)"
   ]
  },
  {
   "cell_type": "code",
   "execution_count": 53,
   "id": "d47e1cde",
   "metadata": {},
   "outputs": [],
   "source": [
    "#mlb_data = mlb_data.drop(['TOTAL','CLASSIFICATION','SUBCLASSIFICATION','SUBCLASSIFICATION2'], axis=1)"
   ]
  },
  {
   "cell_type": "code",
   "execution_count": 54,
   "id": "f8b783de",
   "metadata": {},
   "outputs": [
    {
     "name": "stdout",
     "output_type": "stream",
     "text": [
      "      ComplexProject  ProjectwithRisk   AssociatedCost  ProjectDuration  \\\n",
      "0               0.75          0.000000            0.50             1.00   \n",
      "1               1.00          1.000000            0.75             1.00   \n",
      "2               0.50          0.666667            0.50             0.50   \n",
      "3               0.75          1.000000            0.50             0.75   \n",
      "4               1.00          0.000000            0.50             0.50   \n",
      "...              ...               ...             ...              ...   \n",
      "8515            0.00          0.000000            0.50             0.50   \n",
      "8516            0.00          0.000000            0.75             0.75   \n",
      "8517            0.00          0.000000            0.50             0.50   \n",
      "8518            0.00          0.333333            0.50             1.00   \n",
      "8519            0.00          0.000000            0.50             0.50   \n",
      "\n",
      "      CustomerInvolvement  ImplementationStage  RequirementGathering  \\\n",
      "0                     0.0                 0.00                   1.0   \n",
      "1                     0.5                 0.75                   1.0   \n",
      "2                     0.5                 0.50                   0.5   \n",
      "3                     1.0                 0.50                   0.5   \n",
      "4                     0.0                 0.00                   1.0   \n",
      "...                   ...                  ...                   ...   \n",
      "8515                  0.5                 1.00                   0.0   \n",
      "8516                  0.5                 1.00                   0.0   \n",
      "8517                  0.5                 0.00                   0.0   \n",
      "8518                  0.5                 1.00                   0.0   \n",
      "8519                  0.5                 1.00                   0.0   \n",
      "\n",
      "      Maintainability   ErrorDiscovery   Flexibility  \n",
      "0                 1.00             0.00          0.0  \n",
      "1                 0.75             0.75          1.0  \n",
      "2                 0.50             0.50          0.5  \n",
      "3                 1.00             1.00          0.5  \n",
      "4                 0.00             0.00          0.0  \n",
      "...                ...              ...          ...  \n",
      "8515              0.75             1.00          1.0  \n",
      "8516              0.75             1.00          1.0  \n",
      "8517              0.75             0.00          1.0  \n",
      "8518              0.75             1.00          1.0  \n",
      "8519              0.75             1.00          1.0  \n",
      "\n",
      "[8520 rows x 10 columns]\n"
     ]
    }
   ],
   "source": [
    "num_features = ['ComplexProject', 'ProjectwithRisk ', 'AssociatedCost',\n",
    "       'ProjectDuration', 'CustomerInvolvement', 'ImplementationStage',\n",
    "       'RequirementGathering', 'Maintainability ', 'ErrorDiscovery ',\n",
    "       'Flexibility']\n",
    "X = mlb_data[num_features]\n",
    "\n",
    "# Normalize data using StandardScaler\n",
    "scaler = MinMaxScaler()\n",
    "col = X.columns\n",
    "X_normalized = scaler.fit_transform(X)\n",
    "\n",
    "\n",
    "scalar_df = pandas.DataFrame(X_normalized, columns=col)\n",
    "\n",
    "# Print normalized data\n",
    "print(scalar_df)"
   ]
  },
  {
   "cell_type": "code",
   "execution_count": 55,
   "id": "342fa625",
   "metadata": {},
   "outputs": [],
   "source": [
    "# Convert dataframe to NumPy arrays\n",
    "X = scalar_df.values\n",
    "Y = mlb_data.iloc[:, -1].values"
   ]
  },
  {
   "cell_type": "code",
   "execution_count": 56,
   "id": "d2cc67f5",
   "metadata": {
    "id": "d2cc67f5"
   },
   "outputs": [],
   "source": [
    "# Encode the target variable to numerical labels\n",
    "label_encoder = LabelEncoder()\n",
    "Y_encoded = label_encoder.fit_transform(Y)"
   ]
  },
  {
   "cell_type": "code",
   "execution_count": null,
   "id": "78c4956e",
   "metadata": {},
   "outputs": [],
   "source": []
  },
  {
   "cell_type": "code",
   "execution_count": 57,
   "id": "7f6627c9",
   "metadata": {
    "id": "7f6627c9"
   },
   "outputs": [],
   "source": [
    "# Split the dataset into training and testing sets\n",
    "X_train, X_test, Y_train, Y_test = train_test_split(X, Y_encoded, test_size=0.2, random_state=42)"
   ]
  },
  {
   "cell_type": "code",
   "execution_count": 58,
   "id": "64b29001",
   "metadata": {
    "id": "64b29001"
   },
   "outputs": [],
   "source": [
    "# Normalize the input features\n",
    "X_train = (X_train - X_train.mean()) / X_train.std()\n",
    "X_test = (X_test - X_test.mean()) / X_test.std()"
   ]
  },
  {
   "cell_type": "code",
   "execution_count": 59,
   "id": "3936542e",
   "metadata": {
    "id": "3936542e"
   },
   "outputs": [],
   "source": [
    "# Convert target variable to one-hot encoded format\n",
    "Y_train_encoded = keras.utils.to_categorical(Y_train)\n",
    "Y_test_encoded = keras.utils.to_categorical(Y_test)"
   ]
  },
  {
   "cell_type": "code",
   "execution_count": null,
   "id": "b34d2ac6",
   "metadata": {},
   "outputs": [],
   "source": []
  },
  {
   "cell_type": "code",
   "execution_count": 60,
   "id": "41afa8d1",
   "metadata": {},
   "outputs": [],
   "source": [
    "X_train = np.reshape(X_train,((len(X_train),10,1)))\n",
    "X_test= np.reshape(X_test,(len(X_test),10,1))"
   ]
  },
  {
   "cell_type": "code",
   "execution_count": 61,
   "id": "08f384cb",
   "metadata": {
    "id": "08f384cb"
   },
   "outputs": [
    {
     "name": "stdout",
     "output_type": "stream",
     "text": [
      "Model: \"sequential_1\"\n",
      "_________________________________________________________________\n",
      "Layer (type)                 Output Shape              Param #   \n",
      "=================================================================\n",
      "simple_rnn_2 (SimpleRNN)     (None, 10, 64)            4224      \n",
      "_________________________________________________________________\n",
      "simple_rnn_3 (SimpleRNN)     (None, 64)                8256      \n",
      "_________________________________________________________________\n",
      "dense_2 (Dense)              (None, 128)               8320      \n",
      "_________________________________________________________________\n",
      "dropout_1 (Dropout)          (None, 128)               0         \n",
      "_________________________________________________________________\n",
      "dense_3 (Dense)              (None, 15)                1935      \n",
      "=================================================================\n",
      "Total params: 22,735\n",
      "Trainable params: 22,735\n",
      "Non-trainable params: 0\n",
      "_________________________________________________________________\n"
     ]
    }
   ],
   "source": [
    "model = keras.models.Sequential()\n",
    "#model.add(keras.layers.Embedding(10000, 128))\n",
    "model.add(keras.layers.SimpleRNN(64, return_sequences=True,input_shape=(10, 1)))\n",
    "model.add(keras.layers.SimpleRNN(64))\n",
    "model.add(keras.layers.Dense(128, activation=\"relu\"))\n",
    "model.add(keras.layers.Dropout(0.4))\n",
    "model.add(keras.layers.Dense(len(label_encoder.classes_), activation=\"softmax\"))\n",
    "  \n",
    "model.summary()"
   ]
  },
  {
   "cell_type": "code",
   "execution_count": 62,
   "id": "c52d9011",
   "metadata": {
    "id": "c52d9011"
   },
   "outputs": [],
   "source": [
    "# Compile the model\n",
    "model.compile(optimizer='adam', loss='categorical_crossentropy', metrics=['accuracy',tf.keras.metrics.Precision(), tf.keras.metrics.Recall(), tf.keras.metrics.RootMeanSquaredError(), tf.keras.metrics.MeanSquaredError(), tf.keras.metrics.MeanAbsoluteError()])"
   ]
  },
  {
   "cell_type": "code",
   "execution_count": 63,
   "id": "3a292891",
   "metadata": {},
   "outputs": [],
   "source": [
    "checkpoint_filepath = '/content/drive/MyDrive/jet data/models/cnn'"
   ]
  },
  {
   "cell_type": "code",
   "execution_count": 64,
   "id": "78f1cc61",
   "metadata": {},
   "outputs": [],
   "source": [
    "model_checkpoint_callback = tf.keras.callbacks.ModelCheckpoint(\n",
    "    filepath=checkpoint_filepath,\n",
    "    monitor='val_accuracy',\n",
    "    mode='max',\n",
    "    save_best_only=True)"
   ]
  },
  {
   "cell_type": "code",
   "execution_count": 65,
   "id": "eeaa97f8",
   "metadata": {},
   "outputs": [],
   "source": [
    "batch_size=32"
   ]
  },
  {
   "cell_type": "code",
   "execution_count": 66,
   "id": "32551e71",
   "metadata": {
    "colab": {
     "base_uri": "https://localhost:8080/"
    },
    "id": "32551e71",
    "outputId": "9f68e4df-002b-48ee-e503-d1ef523a10f5"
   },
   "outputs": [
    {
     "name": "stdout",
     "output_type": "stream",
     "text": [
      "Epoch 1/100\n",
      "212/213 [============================>.] - ETA: 0s - loss: 1.6816 - accuracy: 0.4589 - precision_1: 0.7669 - recall_1: 0.2440 - root_mean_squared_error: 0.2106 - mean_squared_error: 0.0443 - mean_absolute_error: 0.0916INFO:tensorflow:Assets written to: /content/drive/MyDrive/jet data/models\\cnn\\assets\n",
      "213/213 [==============================] - 23s 106ms/step - loss: 1.6795 - accuracy: 0.4602 - precision_1: 0.7678 - recall_1: 0.2450 - root_mean_squared_error: 0.2104 - mean_squared_error: 0.0443 - mean_absolute_error: 0.0915 - val_loss: 1.3514 - val_accuracy: 0.5601 - val_precision_1: 0.8769 - val_recall_1: 0.4074 - val_root_mean_squared_error: 0.1886 - val_mean_squared_error: 0.0356 - val_mean_absolute_error: 0.0751\n",
      "Epoch 2/100\n",
      "210/213 [============================>.] - ETA: 0s - loss: 1.3631 - accuracy: 0.5403 - precision_1: 0.7765 - recall_1: 0.3908 - root_mean_squared_error: 0.1936 - mean_squared_error: 0.0375 - mean_absolute_error: 0.0760INFO:tensorflow:Assets written to: /content/drive/MyDrive/jet data/models\\cnn\\assets\n",
      "213/213 [==============================] - 18s 84ms/step - loss: 1.3617 - accuracy: 0.5417 - precision_1: 0.7779 - recall_1: 0.3922 - root_mean_squared_error: 0.1934 - mean_squared_error: 0.0374 - mean_absolute_error: 0.0759 - val_loss: 1.2680 - val_accuracy: 0.5625 - val_precision_1: 0.8383 - val_recall_1: 0.4340 - val_root_mean_squared_error: 0.1859 - val_mean_squared_error: 0.0346 - val_mean_absolute_error: 0.0711\n",
      "Epoch 3/100\n",
      "210/213 [============================>.] - ETA: 0s - loss: 1.2767 - accuracy: 0.5656 - precision_1: 0.7981 - recall_1: 0.4219 - root_mean_squared_error: 0.1887 - mean_squared_error: 0.0356 - mean_absolute_error: 0.0722INFO:tensorflow:Assets written to: /content/drive/MyDrive/jet data/models\\cnn\\assets\n",
      "213/213 [==============================] - 17s 80ms/step - loss: 1.2761 - accuracy: 0.5651 - precision_1: 0.7979 - recall_1: 0.4212 - root_mean_squared_error: 0.1888 - mean_squared_error: 0.0356 - mean_absolute_error: 0.0722 - val_loss: 1.2082 - val_accuracy: 0.5772 - val_precision_1: 0.8341 - val_recall_1: 0.4534 - val_root_mean_squared_error: 0.1828 - val_mean_squared_error: 0.0334 - val_mean_absolute_error: 0.0683\n",
      "Epoch 4/100\n",
      "213/213 [==============================] - ETA: 0s - loss: 1.2116 - accuracy: 0.5742 - precision_1: 0.8060 - recall_1: 0.4278 - root_mean_squared_error: 0.1862 - mean_squared_error: 0.0347 - mean_absolute_error: 0.0699INFO:tensorflow:Assets written to: /content/drive/MyDrive/jet data/models\\cnn\\assets\n",
      "213/213 [==============================] - 17s 81ms/step - loss: 1.2116 - accuracy: 0.5742 - precision_1: 0.8060 - recall_1: 0.4278 - root_mean_squared_error: 0.1862 - mean_squared_error: 0.0347 - mean_absolute_error: 0.0699 - val_loss: 1.1565 - val_accuracy: 0.5843 - val_precision_1: 0.8490 - val_recall_1: 0.4540 - val_root_mean_squared_error: 0.1805 - val_mean_squared_error: 0.0326 - val_mean_absolute_error: 0.0667\n",
      "Epoch 5/100\n",
      "212/213 [============================>.] - ETA: 0s - loss: 1.1537 - accuracy: 0.5852 - precision_1: 0.8110 - recall_1: 0.4422 - root_mean_squared_error: 0.1831 - mean_squared_error: 0.0335 - mean_absolute_error: 0.0679 ETA: 0s - loss: 1.1536 - accuracy: 0.5862 - precision_1: 0.8129 - recall_1: 0.4424 - root_mean_squared_error: 0.1831 - mean_squared_error: 0.0335 - mean_absolute_error: INFO:tensorflow:Assets written to: /content/drive/MyDrive/jet data/models\\cnn\\assets\n",
      "213/213 [==============================] - 16s 74ms/step - loss: 1.1547 - accuracy: 0.5847 - precision_1: 0.8108 - recall_1: 0.4420 - root_mean_squared_error: 0.1832 - mean_squared_error: 0.0336 - mean_absolute_error: 0.0679 - val_loss: 1.1313 - val_accuracy: 0.6020 - val_precision_1: 0.8483 - val_recall_1: 0.4581 - val_root_mean_squared_error: 0.1802 - val_mean_squared_error: 0.0325 - val_mean_absolute_error: 0.0649\n",
      "Epoch 6/100\n",
      "211/213 [============================>.] - ETA: 0s - loss: 1.1139 - accuracy: 0.5912 - precision_1: 0.8164 - recall_1: 0.4473 - root_mean_squared_error: 0.1812 - mean_squared_error: 0.0328 - mean_absolute_error: 0.0664INFO:tensorflow:Assets written to: /content/drive/MyDrive/jet data/models\\cnn\\assets\n",
      "213/213 [==============================] - 17s 82ms/step - loss: 1.1128 - accuracy: 0.5913 - precision_1: 0.8171 - recall_1: 0.4476 - root_mean_squared_error: 0.1811 - mean_squared_error: 0.0328 - mean_absolute_error: 0.0663 - val_loss: 1.0802 - val_accuracy: 0.6150 - val_precision_1: 0.8531 - val_recall_1: 0.4758 - val_root_mean_squared_error: 0.1771 - val_mean_squared_error: 0.0314 - val_mean_absolute_error: 0.0632\n",
      "Epoch 7/100\n",
      "208/213 [============================>.] - ETA: 0s - loss: 1.0756 - accuracy: 0.6028 - precision_1: 0.8296 - recall_1: 0.4572 - root_mean_squared_error: 0.1792 - mean_squared_error: 0.0321 - mean_absolute_error: 0.0653 ETA: 1s - loss: 1.0797 - accuracy: 0.6058 - precision_1: 0.8325 - recall_1: 0.4624 - root_mean_squared_error: 0.1790 - mean_squINFO:tensorflow:Assets written to: /content/drive/MyDrive/jet data/models\\cnn\\assets\n",
      "213/213 [==============================] - 20s 93ms/step - loss: 1.0744 - accuracy: 0.6033 - precision_1: 0.8300 - recall_1: 0.4591 - root_mean_squared_error: 0.1790 - mean_squared_error: 0.0321 - mean_absolute_error: 0.0652 - val_loss: 1.0638 - val_accuracy: 0.6209 - val_precision_1: 0.8444 - val_recall_1: 0.4705 - val_root_mean_squared_error: 0.1763 - val_mean_squared_error: 0.0311 - val_mean_absolute_error: 0.0631\n",
      "Epoch 8/100\n",
      "213/213 [==============================] - 2s 10ms/step - loss: 1.0360 - accuracy: 0.6152 - precision_1: 0.8223 - recall_1: 0.4658 - root_mean_squared_error: 0.1772 - mean_squared_error: 0.0314 - mean_absolute_error: 0.0637 - val_loss: 1.0296 - val_accuracy: 0.6191 - val_precision_1: 0.8343 - val_recall_1: 0.4900 - val_root_mean_squared_error: 0.1752 - val_mean_squared_error: 0.0307 - val_mean_absolute_error: 0.0611\n",
      "Epoch 9/100\n",
      "211/213 [============================>.] - ETA: 0s - loss: 0.9879 - accuracy: 0.6293 - precision_1: 0.8306 - recall_1: 0.4809 - root_mean_squared_error: 0.1742 - mean_squared_error: 0.0304 - mean_absolute_error: 0.0619INFO:tensorflow:Assets written to: /content/drive/MyDrive/jet data/models\\cnn\\assets\n",
      "213/213 [==============================] - 16s 77ms/step - loss: 0.9886 - accuracy: 0.6281 - precision_1: 0.8300 - recall_1: 0.4800 - root_mean_squared_error: 0.1743 - mean_squared_error: 0.0304 - mean_absolute_error: 0.0620 - val_loss: 0.9771 - val_accuracy: 0.6327 - val_precision_1: 0.8696 - val_recall_1: 0.4876 - val_root_mean_squared_error: 0.1714 - val_mean_squared_error: 0.0294 - val_mean_absolute_error: 0.0602\n",
      "Epoch 10/100\n",
      "209/213 [============================>.] - ETA: 0s - loss: 0.9560 - accuracy: 0.6398 - precision_1: 0.8324 - recall_1: 0.4925 - root_mean_squared_error: 0.1725 - mean_squared_error: 0.0298 - mean_absolute_error: 0.0607INFO:tensorflow:Assets written to: /content/drive/MyDrive/jet data/models\\cnn\\assets\n",
      "213/213 [==============================] - 19s 91ms/step - loss: 0.9552 - accuracy: 0.6401 - precision_1: 0.8320 - recall_1: 0.4925 - root_mean_squared_error: 0.1725 - mean_squared_error: 0.0298 - mean_absolute_error: 0.0607 - val_loss: 0.9139 - val_accuracy: 0.6557 - val_precision_1: 0.8663 - val_recall_1: 0.5006 - val_root_mean_squared_error: 0.1680 - val_mean_squared_error: 0.0282 - val_mean_absolute_error: 0.0581\n",
      "Epoch 11/100\n",
      "207/213 [============================>.] - ETA: 0s - loss: 0.9011 - accuracy: 0.6600 - precision_1: 0.8428 - recall_1: 0.5060 - root_mean_squared_error: 0.1689 - mean_squared_error: 0.0285 - mean_absolute_error: 0.0588INFO:tensorflow:Assets written to: /content/drive/MyDrive/jet data/models\\cnn\\assets\n",
      "213/213 [==============================] - 19s 88ms/step - loss: 0.9038 - accuracy: 0.6595 - precision_1: 0.8420 - recall_1: 0.5057 - root_mean_squared_error: 0.1691 - mean_squared_error: 0.0286 - mean_absolute_error: 0.0589 - val_loss: 0.8974 - val_accuracy: 0.6586 - val_precision_1: 0.8469 - val_recall_1: 0.5218 - val_root_mean_squared_error: 0.1672 - val_mean_squared_error: 0.0280 - val_mean_absolute_error: 0.0571\n",
      "Epoch 12/100\n"
     ]
    },
    {
     "name": "stdout",
     "output_type": "stream",
     "text": [
      "213/213 [==============================] - ETA: 0s - loss: 0.8596 - accuracy: 0.6703 - precision_1: 0.8427 - recall_1: 0.5290 - root_mean_squared_error: 0.1661 - mean_squared_error: 0.0276 - mean_absolute_error: 0.0569INFO:tensorflow:Assets written to: /content/drive/MyDrive/jet data/models\\cnn\\assets\n",
      "213/213 [==============================] - 22s 105ms/step - loss: 0.8596 - accuracy: 0.6703 - precision_1: 0.8427 - recall_1: 0.5290 - root_mean_squared_error: 0.1661 - mean_squared_error: 0.0276 - mean_absolute_error: 0.0569 - val_loss: 0.8333 - val_accuracy: 0.6763 - val_precision_1: 0.8852 - val_recall_1: 0.5094 - val_root_mean_squared_error: 0.1626 - val_mean_squared_error: 0.0264 - val_mean_absolute_error: 0.0552\n",
      "Epoch 13/100\n",
      "213/213 [==============================] - 2s 9ms/step - loss: 0.8298 - accuracy: 0.6831 - precision_1: 0.8495 - recall_1: 0.5401 - root_mean_squared_error: 0.1642 - mean_squared_error: 0.0270 - mean_absolute_error: 0.0558 - val_loss: 0.8428 - val_accuracy: 0.6757 - val_precision_1: 0.8741 - val_recall_1: 0.5242 - val_root_mean_squared_error: 0.1639 - val_mean_squared_error: 0.0269 - val_mean_absolute_error: 0.0559\n",
      "Epoch 14/100\n",
      "212/213 [============================>.] - ETA: 0s - loss: 0.7903 - accuracy: 0.6969 - precision_1: 0.8519 - recall_1: 0.5510 - root_mean_squared_error: 0.1612 - mean_squared_error: 0.0260 - mean_absolute_error: 0.0540 ETA: 0s - loss: 0.7899 - accuracy: 0.6979 - precision_1: 0.8525 - recall_1: 0.5506 - root_mean_squared_error: 0.1611 - mean_squared_error: 0.0259 - mean_absolute_error: 0.05INFO:tensorflow:Assets written to: /content/drive/MyDrive/jet data/models\\cnn\\assets\n",
      "213/213 [==============================] - 21s 98ms/step - loss: 0.7897 - accuracy: 0.6969 - precision_1: 0.8520 - recall_1: 0.5515 - root_mean_squared_error: 0.1611 - mean_squared_error: 0.0260 - mean_absolute_error: 0.0540 - val_loss: 0.7835 - val_accuracy: 0.6928 - val_precision_1: 0.8708 - val_recall_1: 0.5566 - val_root_mean_squared_error: 0.1597 - val_mean_squared_error: 0.0255 - val_mean_absolute_error: 0.0524\n",
      "Epoch 15/100\n",
      "207/213 [============================>.] - ETA: 0s - loss: 0.7579 - accuracy: 0.7027 - precision_1: 0.8582 - recall_1: 0.5627 - root_mean_squared_error: 0.1585 - mean_squared_error: 0.0251 - mean_absolute_error: 0.0527INFO:tensorflow:Assets written to: /content/drive/MyDrive/jet data/models\\cnn\\assets\n",
      "213/213 [==============================] - 24s 111ms/step - loss: 0.7579 - accuracy: 0.7031 - precision_1: 0.8586 - recall_1: 0.5629 - root_mean_squared_error: 0.1585 - mean_squared_error: 0.0251 - mean_absolute_error: 0.0526 - val_loss: 0.7430 - val_accuracy: 0.7105 - val_precision_1: 0.8599 - val_recall_1: 0.5755 - val_root_mean_squared_error: 0.1565 - val_mean_squared_error: 0.0245 - val_mean_absolute_error: 0.0509\n",
      "Epoch 16/100\n",
      "208/213 [============================>.] - ETA: 0s - loss: 0.7183 - accuracy: 0.7168 - precision_1: 0.8549 - recall_1: 0.5852 - root_mean_squared_error: 0.1557 - mean_squared_error: 0.0243 - mean_absolute_error: 0.0508INFO:tensorflow:Assets written to: /content/drive/MyDrive/jet data/models\\cnn\\assets\n",
      "213/213 [==============================] - 24s 111ms/step - loss: 0.7163 - accuracy: 0.7174 - precision_1: 0.8553 - recall_1: 0.5861 - root_mean_squared_error: 0.1556 - mean_squared_error: 0.0242 - mean_absolute_error: 0.0507 - val_loss: 0.7180 - val_accuracy: 0.7205 - val_precision_1: 0.8623 - val_recall_1: 0.5796 - val_root_mean_squared_error: 0.1548 - val_mean_squared_error: 0.0240 - val_mean_absolute_error: 0.0499\n",
      "Epoch 17/100\n",
      "210/213 [============================>.] - ETA: 0s - loss: 0.6989 - accuracy: 0.7196 - precision_1: 0.8574 - recall_1: 0.5978 - root_mean_squared_error: 0.1540 - mean_squared_error: 0.0237 - mean_absolute_error: 0.0496INFO:tensorflow:Assets written to: /content/drive/MyDrive/jet data/models\\cnn\\assets\n",
      "213/213 [==============================] - 21s 98ms/step - loss: 0.6990 - accuracy: 0.7202 - precision_1: 0.8571 - recall_1: 0.5986 - root_mean_squared_error: 0.1540 - mean_squared_error: 0.0237 - mean_absolute_error: 0.0496 - val_loss: 0.6722 - val_accuracy: 0.7294 - val_precision_1: 0.8650 - val_recall_1: 0.6085 - val_root_mean_squared_error: 0.1514 - val_mean_squared_error: 0.0229 - val_mean_absolute_error: 0.0474\n",
      "Epoch 18/100\n",
      "211/213 [============================>.] - ETA: 0s - loss: 0.6620 - accuracy: 0.7290 - precision_1: 0.8633 - recall_1: 0.6106 - root_mean_squared_error: 0.1510 - mean_squared_error: 0.0228 - mean_absolute_error: 0.0479INFO:tensorflow:Assets written to: /content/drive/MyDrive/jet data/models\\cnn\\assets\n",
      "213/213 [==============================] - 18s 85ms/step - loss: 0.6620 - accuracy: 0.7292 - precision_1: 0.8624 - recall_1: 0.6108 - root_mean_squared_error: 0.1510 - mean_squared_error: 0.0228 - mean_absolute_error: 0.0478 - val_loss: 0.6221 - val_accuracy: 0.7512 - val_precision_1: 0.8909 - val_recall_1: 0.6162 - val_root_mean_squared_error: 0.1463 - val_mean_squared_error: 0.0214 - val_mean_absolute_error: 0.0455\n",
      "Epoch 19/100\n",
      "208/213 [============================>.] - ETA: 0s - loss: 0.6305 - accuracy: 0.7498 - precision_1: 0.8623 - recall_1: 0.6295 - root_mean_squared_error: 0.1479 - mean_squared_error: 0.0219 - mean_absolute_error: 0.0464INFO:tensorflow:Assets written to: /content/drive/MyDrive/jet data/models\\cnn\\assets\n",
      "213/213 [==============================] - 17s 81ms/step - loss: 0.6307 - accuracy: 0.7494 - precision_1: 0.8627 - recall_1: 0.6303 - root_mean_squared_error: 0.1478 - mean_squared_error: 0.0219 - mean_absolute_error: 0.0464 - val_loss: 0.6128 - val_accuracy: 0.7547 - val_precision_1: 0.8744 - val_recall_1: 0.6321 - val_root_mean_squared_error: 0.1454 - val_mean_squared_error: 0.0211 - val_mean_absolute_error: 0.0443\n",
      "Epoch 20/100\n",
      "213/213 [==============================] - 2s 9ms/step - loss: 0.6099 - accuracy: 0.7534 - precision_1: 0.8629 - recall_1: 0.6474 - root_mean_squared_error: 0.1461 - mean_squared_error: 0.0213 - mean_absolute_error: 0.0449 - val_loss: 0.6084 - val_accuracy: 0.7482 - val_precision_1: 0.8641 - val_recall_1: 0.6409 - val_root_mean_squared_error: 0.1458 - val_mean_squared_error: 0.0213 - val_mean_absolute_error: 0.0443\n",
      "Epoch 21/100\n",
      "207/213 [============================>.] - ETA: 0s - loss: 0.5820 - accuracy: 0.7622 - precision_1: 0.8646 - recall_1: 0.6558 - root_mean_squared_error: 0.1435 - mean_squared_error: 0.0206 - mean_absolute_error: 0.0437INFO:tensorflow:Assets written to: /content/drive/MyDrive/jet data/models\\cnn\\assets\n",
      "213/213 [==============================] - 17s 81ms/step - loss: 0.5804 - accuracy: 0.7631 - precision_1: 0.8656 - recall_1: 0.6567 - root_mean_squared_error: 0.1433 - mean_squared_error: 0.0205 - mean_absolute_error: 0.0436 - val_loss: 0.5679 - val_accuracy: 0.7783 - val_precision_1: 0.8828 - val_recall_1: 0.6486 - val_root_mean_squared_error: 0.1404 - val_mean_squared_error: 0.0197 - val_mean_absolute_error: 0.0424\n",
      "Epoch 22/100\n",
      "211/213 [============================>.] - ETA: 0s - loss: 0.5671 - accuracy: 0.7684 - precision_1: 0.8695 - recall_1: 0.6674 - root_mean_squared_error: 0.1418 - mean_squared_error: 0.0201 - mean_absolute_error: 0.0426INFO:tensorflow:Assets written to: /content/drive/MyDrive/jet data/models\\cnn\\assets\n",
      "213/213 [==============================] - 17s 81ms/step - loss: 0.5654 - accuracy: 0.7689 - precision_1: 0.8700 - recall_1: 0.6684 - root_mean_squared_error: 0.1416 - mean_squared_error: 0.0200 - mean_absolute_error: 0.0425 - val_loss: 0.5024 - val_accuracy: 0.7883 - val_precision_1: 0.8995 - val_recall_1: 0.6910 - val_root_mean_squared_error: 0.1336 - val_mean_squared_error: 0.0179 - val_mean_absolute_error: 0.0395\n",
      "Epoch 23/100\n",
      "208/213 [============================>.] - ETA: 0s - loss: 0.5529 - accuracy: 0.7694 - precision_1: 0.8654 - recall_1: 0.6773 - root_mean_squared_error: 0.1409 - mean_squared_error: 0.0198 - mean_absolute_error: 0.0417INFO:tensorflow:Assets written to: /content/drive/MyDrive/jet data/models\\cnn\\assets\n",
      "213/213 [==============================] - 17s 79ms/step - loss: 0.5553 - accuracy: 0.7682 - precision_1: 0.8646 - recall_1: 0.6746 - root_mean_squared_error: 0.1411 - mean_squared_error: 0.0199 - mean_absolute_error: 0.0419 - val_loss: 0.5214 - val_accuracy: 0.7889 - val_precision_1: 0.8894 - val_recall_1: 0.6733 - val_root_mean_squared_error: 0.1355 - val_mean_squared_error: 0.0184 - val_mean_absolute_error: 0.0406\n"
     ]
    },
    {
     "name": "stdout",
     "output_type": "stream",
     "text": [
      "Epoch 24/100\n",
      "212/213 [============================>.] - ETA: 0s - loss: 0.5310 - accuracy: 0.7755 - precision_1: 0.8722 - recall_1: 0.6840 - root_mean_squared_error: 0.1382 - mean_squared_error: 0.0191 - mean_absolute_error: 0.0406INFO:tensorflow:Assets written to: /content/drive/MyDrive/jet data/models\\cnn\\assets\n",
      "213/213 [==============================] - 18s 84ms/step - loss: 0.5315 - accuracy: 0.7757 - precision_1: 0.8721 - recall_1: 0.6840 - root_mean_squared_error: 0.1382 - mean_squared_error: 0.0191 - mean_absolute_error: 0.0406 - val_loss: 0.4771 - val_accuracy: 0.8084 - val_precision_1: 0.8939 - val_recall_1: 0.7152 - val_root_mean_squared_error: 0.1311 - val_mean_squared_error: 0.0172 - val_mean_absolute_error: 0.0375\n",
      "Epoch 25/100\n",
      "213/213 [==============================] - 2s 9ms/step - loss: 0.4939 - accuracy: 0.7965 - precision_1: 0.8829 - recall_1: 0.7091 - root_mean_squared_error: 0.1336 - mean_squared_error: 0.0179 - mean_absolute_error: 0.0385 - val_loss: 0.4606 - val_accuracy: 0.8060 - val_precision_1: 0.8867 - val_recall_1: 0.7288 - val_root_mean_squared_error: 0.1295 - val_mean_squared_error: 0.0168 - val_mean_absolute_error: 0.0356\n",
      "Epoch 26/100\n",
      "213/213 [==============================] - 2s 9ms/step - loss: 0.4984 - accuracy: 0.7895 - precision_1: 0.8751 - recall_1: 0.7072 - root_mean_squared_error: 0.1346 - mean_squared_error: 0.0181 - mean_absolute_error: 0.0382 - val_loss: 0.4524 - val_accuracy: 0.8031 - val_precision_1: 0.8952 - val_recall_1: 0.7199 - val_root_mean_squared_error: 0.1283 - val_mean_squared_error: 0.0165 - val_mean_absolute_error: 0.0362\n",
      "Epoch 27/100\n",
      "208/213 [============================>.] - ETA: 0s - loss: 0.4715 - accuracy: 0.8003 - precision_1: 0.8874 - recall_1: 0.7210 - root_mean_squared_error: 0.1315 - mean_squared_error: 0.0173 - mean_absolute_error: 0.0371INFO:tensorflow:Assets written to: /content/drive/MyDrive/jet data/models\\cnn\\assets\n",
      "213/213 [==============================] - 16s 74ms/step - loss: 0.4720 - accuracy: 0.8000 - precision_1: 0.8872 - recall_1: 0.7215 - root_mean_squared_error: 0.1315 - mean_squared_error: 0.0173 - mean_absolute_error: 0.0371 - val_loss: 0.4200 - val_accuracy: 0.8113 - val_precision_1: 0.8953 - val_recall_1: 0.7512 - val_root_mean_squared_error: 0.1250 - val_mean_squared_error: 0.0156 - val_mean_absolute_error: 0.0336\n",
      "Epoch 28/100\n",
      "213/213 [==============================] - ETA: 0s - loss: 0.4629 - accuracy: 0.8006 - precision_1: 0.8817 - recall_1: 0.7314 - root_mean_squared_error: 0.1306 - mean_squared_error: 0.0171 - mean_absolute_error: 0.0361INFO:tensorflow:Assets written to: /content/drive/MyDrive/jet data/models\\cnn\\assets\n",
      "213/213 [==============================] - 20s 92ms/step - loss: 0.4629 - accuracy: 0.8006 - precision_1: 0.8817 - recall_1: 0.7314 - root_mean_squared_error: 0.1306 - mean_squared_error: 0.0171 - mean_absolute_error: 0.0361 - val_loss: 0.3890 - val_accuracy: 0.8325 - val_precision_1: 0.9058 - val_recall_1: 0.7600 - val_root_mean_squared_error: 0.1197 - val_mean_squared_error: 0.0143 - val_mean_absolute_error: 0.0325\n",
      "Epoch 29/100\n",
      "213/213 [==============================] - 2s 9ms/step - loss: 0.4480 - accuracy: 0.8022 - precision_1: 0.8792 - recall_1: 0.7339 - root_mean_squared_error: 0.1288 - mean_squared_error: 0.0166 - mean_absolute_error: 0.0354 - val_loss: 0.4122 - val_accuracy: 0.8172 - val_precision_1: 0.8860 - val_recall_1: 0.7565 - val_root_mean_squared_error: 0.1235 - val_mean_squared_error: 0.0153 - val_mean_absolute_error: 0.0323\n",
      "Epoch 30/100\n",
      "213/213 [==============================] - 2s 10ms/step - loss: 0.4509 - accuracy: 0.8012 - precision_1: 0.8802 - recall_1: 0.7362 - root_mean_squared_error: 0.1293 - mean_squared_error: 0.0167 - mean_absolute_error: 0.0352 - val_loss: 0.4134 - val_accuracy: 0.8172 - val_precision_1: 0.8854 - val_recall_1: 0.7606 - val_root_mean_squared_error: 0.1238 - val_mean_squared_error: 0.0153 - val_mean_absolute_error: 0.0324\n",
      "Epoch 31/100\n",
      "213/213 [==============================] - 2s 10ms/step - loss: 0.4255 - accuracy: 0.8163 - precision_1: 0.8875 - recall_1: 0.7522 - root_mean_squared_error: 0.1256 - mean_squared_error: 0.0158 - mean_absolute_error: 0.0335 - val_loss: 0.4067 - val_accuracy: 0.8219 - val_precision_1: 0.8872 - val_recall_1: 0.7653 - val_root_mean_squared_error: 0.1228 - val_mean_squared_error: 0.0151 - val_mean_absolute_error: 0.0316\n",
      "Epoch 32/100\n",
      "213/213 [==============================] - 2s 9ms/step - loss: 0.4333 - accuracy: 0.8118 - precision_1: 0.8828 - recall_1: 0.7481 - root_mean_squared_error: 0.1268 - mean_squared_error: 0.0161 - mean_absolute_error: 0.0337 - val_loss: 0.3840 - val_accuracy: 0.8213 - val_precision_1: 0.9029 - val_recall_1: 0.7783 - val_root_mean_squared_error: 0.1191 - val_mean_squared_error: 0.0142 - val_mean_absolute_error: 0.0308\n",
      "Epoch 33/100\n",
      "213/213 [==============================] - 2s 8ms/step - loss: 0.4132 - accuracy: 0.8099 - precision_1: 0.8875 - recall_1: 0.7548 - root_mean_squared_error: 0.1246 - mean_squared_error: 0.0155 - mean_absolute_error: 0.0329 - val_loss: 0.3671 - val_accuracy: 0.8278 - val_precision_1: 0.8873 - val_recall_1: 0.7848 - val_root_mean_squared_error: 0.1178 - val_mean_squared_error: 0.0139 - val_mean_absolute_error: 0.0298\n",
      "Epoch 34/100\n",
      "207/213 [============================>.] - ETA: 0s - loss: 0.4055 - accuracy: 0.8204 - precision_1: 0.8914 - recall_1: 0.7631 - root_mean_squared_error: 0.1232 - mean_squared_error: 0.0152 - mean_absolute_error: 0.0320INFO:tensorflow:Assets written to: /content/drive/MyDrive/jet data/models\\cnn\\assets\n",
      "213/213 [==============================] - 16s 75ms/step - loss: 0.4096 - accuracy: 0.8181 - precision_1: 0.8896 - recall_1: 0.7614 - root_mean_squared_error: 0.1238 - mean_squared_error: 0.0153 - mean_absolute_error: 0.0322 - val_loss: 0.3566 - val_accuracy: 0.8390 - val_precision_1: 0.8946 - val_recall_1: 0.7860 - val_root_mean_squared_error: 0.1166 - val_mean_squared_error: 0.0136 - val_mean_absolute_error: 0.0288\n",
      "Epoch 35/100\n",
      "213/213 [==============================] - 2s 8ms/step - loss: 0.3989 - accuracy: 0.8261 - precision_1: 0.8892 - recall_1: 0.7698 - root_mean_squared_error: 0.1224 - mean_squared_error: 0.0150 - mean_absolute_error: 0.0317 - val_loss: 0.3611 - val_accuracy: 0.8361 - val_precision_1: 0.8912 - val_recall_1: 0.7925 - val_root_mean_squared_error: 0.1165 - val_mean_squared_error: 0.0136 - val_mean_absolute_error: 0.0288\n",
      "Epoch 36/100\n",
      "209/213 [============================>.] - ETA: 0s - loss: 0.4046 - accuracy: 0.8165 - precision_1: 0.8835 - recall_1: 0.7618 - root_mean_squared_error: 0.1238 - mean_squared_error: 0.0153 - mean_absolute_error: 0.0320INFO:tensorflow:Assets written to: /content/drive/MyDrive/jet data/models\\cnn\\assets\n",
      "213/213 [==============================] - 17s 82ms/step - loss: 0.4038 - accuracy: 0.8163 - precision_1: 0.8835 - recall_1: 0.7619 - root_mean_squared_error: 0.1237 - mean_squared_error: 0.0153 - mean_absolute_error: 0.0319 - val_loss: 0.3497 - val_accuracy: 0.8408 - val_precision_1: 0.8985 - val_recall_1: 0.8090 - val_root_mean_squared_error: 0.1151 - val_mean_squared_error: 0.0132 - val_mean_absolute_error: 0.0280\n",
      "Epoch 37/100\n",
      "213/213 [==============================] - ETA: 0s - loss: 0.3908 - accuracy: 0.8238 - precision_1: 0.8906 - recall_1: 0.7701 - root_mean_squared_error: 0.1219 - mean_squared_error: 0.0149 - mean_absolute_error: 0.0312INFO:tensorflow:Assets written to: /content/drive/MyDrive/jet data/models\\cnn\\assets\n",
      "213/213 [==============================] - 17s 78ms/step - loss: 0.3908 - accuracy: 0.8238 - precision_1: 0.8906 - recall_1: 0.7701 - root_mean_squared_error: 0.1219 - mean_squared_error: 0.0149 - mean_absolute_error: 0.0312 - val_loss: 0.3221 - val_accuracy: 0.8514 - val_precision_1: 0.9126 - val_recall_1: 0.8060 - val_root_mean_squared_error: 0.1100 - val_mean_squared_error: 0.0121 - val_mean_absolute_error: 0.0263\n",
      "Epoch 38/100\n",
      "213/213 [==============================] - ETA: 0s - loss: 0.3741 - accuracy: 0.8310 - precision_1: 0.8943 - recall_1: 0.7780 - root_mean_squared_error: 0.1194 - mean_squared_error: 0.0143 - mean_absolute_error: 0.0300INFO:tensorflow:Assets written to: /content/drive/MyDrive/jet data/models\\cnn\\assets\n"
     ]
    },
    {
     "name": "stdout",
     "output_type": "stream",
     "text": [
      "213/213 [==============================] - 18s 82ms/step - loss: 0.3741 - accuracy: 0.8310 - precision_1: 0.8943 - recall_1: 0.7780 - root_mean_squared_error: 0.1194 - mean_squared_error: 0.0143 - mean_absolute_error: 0.0300 - val_loss: 0.3196 - val_accuracy: 0.8550 - val_precision_1: 0.9089 - val_recall_1: 0.8172 - val_root_mean_squared_error: 0.1109 - val_mean_squared_error: 0.0123 - val_mean_absolute_error: 0.0255\n",
      "Epoch 39/100\n",
      "213/213 [==============================] - 2s 9ms/step - loss: 0.3751 - accuracy: 0.8335 - precision_1: 0.8939 - recall_1: 0.7799 - root_mean_squared_error: 0.1191 - mean_squared_error: 0.0142 - mean_absolute_error: 0.0298 - val_loss: 0.3405 - val_accuracy: 0.8302 - val_precision_1: 0.8879 - val_recall_1: 0.7942 - val_root_mean_squared_error: 0.1153 - val_mean_squared_error: 0.0133 - val_mean_absolute_error: 0.0271\n",
      "Epoch 40/100\n",
      "213/213 [==============================] - 2s 9ms/step - loss: 0.3765 - accuracy: 0.8308 - precision_1: 0.8942 - recall_1: 0.7839 - root_mean_squared_error: 0.1189 - mean_squared_error: 0.0141 - mean_absolute_error: 0.0296 - val_loss: 0.3167 - val_accuracy: 0.8532 - val_precision_1: 0.9013 - val_recall_1: 0.8131 - val_root_mean_squared_error: 0.1111 - val_mean_squared_error: 0.0123 - val_mean_absolute_error: 0.0257\n",
      "Epoch 41/100\n",
      "213/213 [==============================] - 2s 9ms/step - loss: 0.3657 - accuracy: 0.8344 - precision_1: 0.8953 - recall_1: 0.7842 - root_mean_squared_error: 0.1182 - mean_squared_error: 0.0140 - mean_absolute_error: 0.0291 - val_loss: 0.3068 - val_accuracy: 0.8514 - val_precision_1: 0.9117 - val_recall_1: 0.8219 - val_root_mean_squared_error: 0.1086 - val_mean_squared_error: 0.0118 - val_mean_absolute_error: 0.0246\n",
      "Epoch 42/100\n",
      "212/213 [============================>.] - ETA: 0s - loss: 0.3627 - accuracy: 0.8265 - precision_1: 0.8904 - recall_1: 0.7818 - root_mean_squared_error: 0.1181 - mean_squared_error: 0.0139 - mean_absolute_error: 0.0288INFO:tensorflow:Assets written to: /content/drive/MyDrive/jet data/models\\cnn\\assets\n",
      "213/213 [==============================] - 17s 78ms/step - loss: 0.3641 - accuracy: 0.8256 - precision_1: 0.8893 - recall_1: 0.7811 - root_mean_squared_error: 0.1183 - mean_squared_error: 0.0140 - mean_absolute_error: 0.0289 - val_loss: 0.2924 - val_accuracy: 0.8591 - val_precision_1: 0.9135 - val_recall_1: 0.8219 - val_root_mean_squared_error: 0.1069 - val_mean_squared_error: 0.0114 - val_mean_absolute_error: 0.0237\n",
      "Epoch 43/100\n",
      "213/213 [==============================] - 2s 9ms/step - loss: 0.3883 - accuracy: 0.8288 - precision_1: 0.8925 - recall_1: 0.7818 - root_mean_squared_error: 0.1199 - mean_squared_error: 0.0144 - mean_absolute_error: 0.0296 - val_loss: 0.4019 - val_accuracy: 0.8113 - val_precision_1: 0.8753 - val_recall_1: 0.7653 - val_root_mean_squared_error: 0.1225 - val_mean_squared_error: 0.0150 - val_mean_absolute_error: 0.0307\n",
      "Epoch 44/100\n",
      "213/213 [==============================] - 2s 8ms/step - loss: 0.3785 - accuracy: 0.8310 - precision_1: 0.8948 - recall_1: 0.7798 - root_mean_squared_error: 0.1198 - mean_squared_error: 0.0144 - mean_absolute_error: 0.0299 - val_loss: 0.2977 - val_accuracy: 0.8520 - val_precision_1: 0.9146 - val_recall_1: 0.8143 - val_root_mean_squared_error: 0.1073 - val_mean_squared_error: 0.0115 - val_mean_absolute_error: 0.0243\n",
      "Epoch 45/100\n",
      "213/213 [==============================] - 2s 9ms/step - loss: 0.3545 - accuracy: 0.8363 - precision_1: 0.8986 - recall_1: 0.7893 - root_mean_squared_error: 0.1163 - mean_squared_error: 0.0135 - mean_absolute_error: 0.0282 - val_loss: 0.2886 - val_accuracy: 0.8585 - val_precision_1: 0.9147 - val_recall_1: 0.8219 - val_root_mean_squared_error: 0.1053 - val_mean_squared_error: 0.0111 - val_mean_absolute_error: 0.0230\n",
      "Epoch 46/100\n",
      "213/213 [==============================] - ETA: 0s - loss: 0.3462 - accuracy: 0.8393 - precision_1: 0.9017 - recall_1: 0.7945 - root_mean_squared_error: 0.1152 - mean_squared_error: 0.0133 - mean_absolute_error: 0.0276INFO:tensorflow:Assets written to: /content/drive/MyDrive/jet data/models\\cnn\\assets\n",
      "213/213 [==============================] - 19s 91ms/step - loss: 0.3462 - accuracy: 0.8393 - precision_1: 0.9017 - recall_1: 0.7945 - root_mean_squared_error: 0.1152 - mean_squared_error: 0.0133 - mean_absolute_error: 0.0276 - val_loss: 0.2778 - val_accuracy: 0.8597 - val_precision_1: 0.9185 - val_recall_1: 0.8302 - val_root_mean_squared_error: 0.1036 - val_mean_squared_error: 0.0107 - val_mean_absolute_error: 0.0226\n",
      "Epoch 47/100\n",
      "213/213 [==============================] - 2s 9ms/step - loss: 0.3340 - accuracy: 0.8417 - precision_1: 0.9045 - recall_1: 0.7994 - root_mean_squared_error: 0.1132 - mean_squared_error: 0.0128 - mean_absolute_error: 0.0267 - val_loss: 0.2902 - val_accuracy: 0.8591 - val_precision_1: 0.9059 - val_recall_1: 0.8231 - val_root_mean_squared_error: 0.1076 - val_mean_squared_error: 0.0116 - val_mean_absolute_error: 0.0235\n",
      "Epoch 48/100\n",
      "213/213 [==============================] - 2s 9ms/step - loss: 0.3443 - accuracy: 0.8395 - precision_1: 0.8978 - recall_1: 0.7964 - root_mean_squared_error: 0.1154 - mean_squared_error: 0.0133 - mean_absolute_error: 0.0273 - val_loss: 0.2950 - val_accuracy: 0.8502 - val_precision_1: 0.9017 - val_recall_1: 0.8219 - val_root_mean_squared_error: 0.1077 - val_mean_squared_error: 0.0116 - val_mean_absolute_error: 0.0237\n",
      "Epoch 49/100\n",
      "213/213 [==============================] - 2s 10ms/step - loss: 0.3536 - accuracy: 0.8332 - precision_1: 0.8944 - recall_1: 0.7927 - root_mean_squared_error: 0.1171 - mean_squared_error: 0.0137 - mean_absolute_error: 0.0282 - val_loss: 0.2661 - val_accuracy: 0.8573 - val_precision_1: 0.9134 - val_recall_1: 0.8272 - val_root_mean_squared_error: 0.1021 - val_mean_squared_error: 0.0104 - val_mean_absolute_error: 0.0215\n",
      "Epoch 50/100\n",
      "213/213 [==============================] - ETA: 0s - loss: 0.3145 - accuracy: 0.8511 - precision_1: 0.9058 - recall_1: 0.8094 - root_mean_squared_error: 0.1105 - mean_squared_error: 0.0122 - mean_absolute_error: 0.0254INFO:tensorflow:Assets written to: /content/drive/MyDrive/jet data/models\\cnn\\assets\n",
      "213/213 [==============================] - 17s 79ms/step - loss: 0.3145 - accuracy: 0.8511 - precision_1: 0.9058 - recall_1: 0.8094 - root_mean_squared_error: 0.1105 - mean_squared_error: 0.0122 - mean_absolute_error: 0.0254 - val_loss: 0.2661 - val_accuracy: 0.8691 - val_precision_1: 0.9202 - val_recall_1: 0.8290 - val_root_mean_squared_error: 0.1026 - val_mean_squared_error: 0.0105 - val_mean_absolute_error: 0.0216\n",
      "Epoch 51/100\n",
      "213/213 [==============================] - 2s 10ms/step - loss: 0.3312 - accuracy: 0.8436 - precision_1: 0.9037 - recall_1: 0.8031 - root_mean_squared_error: 0.1130 - mean_squared_error: 0.0128 - mean_absolute_error: 0.0265 - val_loss: 0.3151 - val_accuracy: 0.8555 - val_precision_1: 0.9013 - val_recall_1: 0.8237 - val_root_mean_squared_error: 0.1087 - val_mean_squared_error: 0.0118 - val_mean_absolute_error: 0.0232\n",
      "Epoch 52/100\n",
      "213/213 [==============================] - 2s 9ms/step - loss: 0.3499 - accuracy: 0.8367 - precision_1: 0.8927 - recall_1: 0.7933 - root_mean_squared_error: 0.1165 - mean_squared_error: 0.0136 - mean_absolute_error: 0.0277 - val_loss: 0.2842 - val_accuracy: 0.8608 - val_precision_1: 0.9094 - val_recall_1: 0.8284 - val_root_mean_squared_error: 0.1058 - val_mean_squared_error: 0.0112 - val_mean_absolute_error: 0.0223\n",
      "Epoch 53/100\n",
      "213/213 [==============================] - 2s 9ms/step - loss: 0.3215 - accuracy: 0.8468 - precision_1: 0.9026 - recall_1: 0.8036 - root_mean_squared_error: 0.1116 - mean_squared_error: 0.0125 - mean_absolute_error: 0.0257 - val_loss: 0.2652 - val_accuracy: 0.8603 - val_precision_1: 0.9086 - val_recall_1: 0.8325 - val_root_mean_squared_error: 0.1028 - val_mean_squared_error: 0.0106 - val_mean_absolute_error: 0.0211\n",
      "Epoch 54/100\n",
      "213/213 [==============================] - 2s 9ms/step - loss: 0.3402 - accuracy: 0.8420 - precision_1: 0.8966 - recall_1: 0.8012 - root_mean_squared_error: 0.1149 - mean_squared_error: 0.0132 - mean_absolute_error: 0.0266 - val_loss: 0.2823 - val_accuracy: 0.8555 - val_precision_1: 0.9136 - val_recall_1: 0.8225 - val_root_mean_squared_error: 0.1055 - val_mean_squared_error: 0.0111 - val_mean_absolute_error: 0.0231\n"
     ]
    },
    {
     "name": "stdout",
     "output_type": "stream",
     "text": [
      "Epoch 55/100\n",
      "213/213 [==============================] - 2s 9ms/step - loss: 0.3422 - accuracy: 0.8367 - precision_1: 0.8958 - recall_1: 0.7949 - root_mean_squared_error: 0.1148 - mean_squared_error: 0.0132 - mean_absolute_error: 0.0271 - val_loss: 0.2878 - val_accuracy: 0.8526 - val_precision_1: 0.9025 - val_recall_1: 0.8190 - val_root_mean_squared_error: 0.1071 - val_mean_squared_error: 0.0115 - val_mean_absolute_error: 0.0230\n",
      "Epoch 56/100\n",
      "213/213 [==============================] - 2s 9ms/step - loss: 0.3191 - accuracy: 0.8473 - precision_1: 0.9054 - recall_1: 0.8074 - root_mean_squared_error: 0.1114 - mean_squared_error: 0.0124 - mean_absolute_error: 0.0255 - val_loss: 0.2695 - val_accuracy: 0.8579 - val_precision_1: 0.9075 - val_recall_1: 0.8331 - val_root_mean_squared_error: 0.1035 - val_mean_squared_error: 0.0107 - val_mean_absolute_error: 0.0212\n",
      "Epoch 57/100\n",
      "213/213 [==============================] - 2s 9ms/step - loss: 0.3200 - accuracy: 0.8504 - precision_1: 0.9049 - recall_1: 0.8058 - root_mean_squared_error: 0.1117 - mean_squared_error: 0.0125 - mean_absolute_error: 0.0254 - val_loss: 0.2950 - val_accuracy: 0.8508 - val_precision_1: 0.9024 - val_recall_1: 0.8178 - val_root_mean_squared_error: 0.1078 - val_mean_squared_error: 0.0116 - val_mean_absolute_error: 0.0230\n",
      "Epoch 58/100\n",
      "213/213 [==============================] - 2s 9ms/step - loss: 0.3372 - accuracy: 0.8414 - precision_1: 0.8958 - recall_1: 0.7969 - root_mean_squared_error: 0.1145 - mean_squared_error: 0.0131 - mean_absolute_error: 0.0266 - val_loss: 0.2839 - val_accuracy: 0.8597 - val_precision_1: 0.9099 - val_recall_1: 0.8331 - val_root_mean_squared_error: 0.1055 - val_mean_squared_error: 0.0111 - val_mean_absolute_error: 0.0218\n",
      "Epoch 59/100\n",
      "213/213 [==============================] - 2s 9ms/step - loss: 0.3196 - accuracy: 0.8492 - precision_1: 0.9039 - recall_1: 0.8082 - root_mean_squared_error: 0.1119 - mean_squared_error: 0.0125 - mean_absolute_error: 0.0255 - val_loss: 0.2647 - val_accuracy: 0.8591 - val_precision_1: 0.9069 - val_recall_1: 0.8325 - val_root_mean_squared_error: 0.1033 - val_mean_squared_error: 0.0107 - val_mean_absolute_error: 0.0212\n",
      "Epoch 60/100\n",
      "213/213 [==============================] - 2s 9ms/step - loss: 0.3116 - accuracy: 0.8458 - precision_1: 0.9039 - recall_1: 0.8085 - root_mean_squared_error: 0.1108 - mean_squared_error: 0.0123 - mean_absolute_error: 0.0251 - val_loss: 0.2471 - val_accuracy: 0.8673 - val_precision_1: 0.9167 - val_recall_1: 0.8367 - val_root_mean_squared_error: 0.1000 - val_mean_squared_error: 0.0100 - val_mean_absolute_error: 0.0203\n",
      "Epoch 61/100\n",
      "213/213 [==============================] - 2s 8ms/step - loss: 0.3054 - accuracy: 0.8479 - precision_1: 0.9067 - recall_1: 0.8129 - root_mean_squared_error: 0.1097 - mean_squared_error: 0.0120 - mean_absolute_error: 0.0246 - val_loss: 0.2661 - val_accuracy: 0.8579 - val_precision_1: 0.8992 - val_recall_1: 0.8314 - val_root_mean_squared_error: 0.1026 - val_mean_squared_error: 0.0105 - val_mean_absolute_error: 0.0209\n",
      "Epoch 62/100\n",
      "213/213 [==============================] - 2s 9ms/step - loss: 0.3168 - accuracy: 0.8458 - precision_1: 0.9025 - recall_1: 0.8069 - root_mean_squared_error: 0.1116 - mean_squared_error: 0.0125 - mean_absolute_error: 0.0252 - val_loss: 0.2497 - val_accuracy: 0.8632 - val_precision_1: 0.9111 - val_recall_1: 0.8337 - val_root_mean_squared_error: 0.1010 - val_mean_squared_error: 0.0102 - val_mean_absolute_error: 0.0202\n",
      "Epoch 63/100\n",
      "213/213 [==============================] - 2s 9ms/step - loss: 0.3005 - accuracy: 0.8487 - precision_1: 0.9079 - recall_1: 0.8144 - root_mean_squared_error: 0.1089 - mean_squared_error: 0.0119 - mean_absolute_error: 0.0241 - val_loss: 0.2424 - val_accuracy: 0.8656 - val_precision_1: 0.9155 - val_recall_1: 0.8367 - val_root_mean_squared_error: 0.0996 - val_mean_squared_error: 0.0099 - val_mean_absolute_error: 0.0198\n",
      "Epoch 64/100\n",
      "213/213 [==============================] - 2s 9ms/step - loss: 0.2989 - accuracy: 0.8549 - precision_1: 0.9138 - recall_1: 0.8179 - root_mean_squared_error: 0.1081 - mean_squared_error: 0.0117 - mean_absolute_error: 0.0241 - val_loss: 0.2650 - val_accuracy: 0.8632 - val_precision_1: 0.9089 - val_recall_1: 0.8355 - val_root_mean_squared_error: 0.1025 - val_mean_squared_error: 0.0105 - val_mean_absolute_error: 0.0207\n",
      "Epoch 65/100\n",
      "213/213 [==============================] - 2s 9ms/step - loss: 0.3209 - accuracy: 0.8479 - precision_1: 0.9031 - recall_1: 0.8099 - root_mean_squared_error: 0.1119 - mean_squared_error: 0.0125 - mean_absolute_error: 0.0253 - val_loss: 0.2481 - val_accuracy: 0.8667 - val_precision_1: 0.9215 - val_recall_1: 0.8373 - val_root_mean_squared_error: 0.0996 - val_mean_squared_error: 0.0099 - val_mean_absolute_error: 0.0200\n",
      "Epoch 66/100\n",
      "213/213 [==============================] - 2s 9ms/step - loss: 0.3115 - accuracy: 0.8511 - precision_1: 0.9027 - recall_1: 0.8157 - root_mean_squared_error: 0.1106 - mean_squared_error: 0.0122 - mean_absolute_error: 0.0247 - val_loss: 0.3150 - val_accuracy: 0.8367 - val_precision_1: 0.8912 - val_recall_1: 0.7972 - val_root_mean_squared_error: 0.1114 - val_mean_squared_error: 0.0124 - val_mean_absolute_error: 0.0245\n",
      "Epoch 67/100\n",
      "213/213 [==============================] - 2s 9ms/step - loss: 0.3491 - accuracy: 0.8341 - precision_1: 0.8980 - recall_1: 0.7934 - root_mean_squared_error: 0.1156 - mean_squared_error: 0.0134 - mean_absolute_error: 0.0268 - val_loss: 0.3182 - val_accuracy: 0.8438 - val_precision_1: 0.8906 - val_recall_1: 0.8160 - val_root_mean_squared_error: 0.1112 - val_mean_squared_error: 0.0124 - val_mean_absolute_error: 0.0240\n",
      "Epoch 68/100\n",
      "213/213 [==============================] - 2s 9ms/step - loss: 0.3203 - accuracy: 0.8470 - precision_1: 0.9094 - recall_1: 0.8088 - root_mean_squared_error: 0.1113 - mean_squared_error: 0.0124 - mean_absolute_error: 0.0254 - val_loss: 0.2909 - val_accuracy: 0.8579 - val_precision_1: 0.9105 - val_recall_1: 0.8278 - val_root_mean_squared_error: 0.1047 - val_mean_squared_error: 0.0110 - val_mean_absolute_error: 0.0211\n",
      "Epoch 69/100\n",
      "207/213 [============================>.] - ETA: 0s - loss: 0.2984 - accuracy: 0.8533 - precision_1: 0.9068 - recall_1: 0.8151 - root_mean_squared_error: 0.1086 - mean_squared_error: 0.0118 - mean_absolute_error: 0.0238INFO:tensorflow:Assets written to: /content/drive/MyDrive/jet data/models\\cnn\\assets\n",
      "213/213 [==============================] - 16s 76ms/step - loss: 0.2979 - accuracy: 0.8539 - precision_1: 0.9072 - recall_1: 0.8157 - root_mean_squared_error: 0.1084 - mean_squared_error: 0.0118 - mean_absolute_error: 0.0237 - val_loss: 0.2523 - val_accuracy: 0.8703 - val_precision_1: 0.9216 - val_recall_1: 0.8384 - val_root_mean_squared_error: 0.1001 - val_mean_squared_error: 0.0100 - val_mean_absolute_error: 0.0193\n",
      "Epoch 70/100\n",
      "213/213 [==============================] - 2s 10ms/step - loss: 0.2984 - accuracy: 0.8520 - precision_1: 0.9062 - recall_1: 0.8124 - root_mean_squared_error: 0.1089 - mean_squared_error: 0.0119 - mean_absolute_error: 0.0238 - val_loss: 0.2855 - val_accuracy: 0.8614 - val_precision_1: 0.9169 - val_recall_1: 0.8325 - val_root_mean_squared_error: 0.1051 - val_mean_squared_error: 0.0110 - val_mean_absolute_error: 0.0209\n",
      "Epoch 71/100\n",
      "213/213 [==============================] - 2s 10ms/step - loss: 0.2899 - accuracy: 0.8556 - precision_1: 0.9070 - recall_1: 0.8209 - root_mean_squared_error: 0.1075 - mean_squared_error: 0.0116 - mean_absolute_error: 0.0235 - val_loss: 0.2456 - val_accuracy: 0.8632 - val_precision_1: 0.9144 - val_recall_1: 0.8379 - val_root_mean_squared_error: 0.1005 - val_mean_squared_error: 0.0101 - val_mean_absolute_error: 0.0195\n",
      "Epoch 72/100\n",
      "213/213 [==============================] - 2s 9ms/step - loss: 0.2945 - accuracy: 0.8552 - precision_1: 0.9099 - recall_1: 0.8194 - root_mean_squared_error: 0.1079 - mean_squared_error: 0.0116 - mean_absolute_error: 0.0235 - val_loss: 0.2486 - val_accuracy: 0.8644 - val_precision_1: 0.9079 - val_recall_1: 0.8373 - val_root_mean_squared_error: 0.0994 - val_mean_squared_error: 0.0099 - val_mean_absolute_error: 0.0196\n",
      "Epoch 73/100\n"
     ]
    },
    {
     "name": "stdout",
     "output_type": "stream",
     "text": [
      "213/213 [==============================] - 2s 9ms/step - loss: 0.2943 - accuracy: 0.8493 - precision_1: 0.9057 - recall_1: 0.8132 - root_mean_squared_error: 0.1083 - mean_squared_error: 0.0117 - mean_absolute_error: 0.0237 - val_loss: 0.2420 - val_accuracy: 0.8656 - val_precision_1: 0.9137 - val_recall_1: 0.8432 - val_root_mean_squared_error: 0.0996 - val_mean_squared_error: 0.0099 - val_mean_absolute_error: 0.0192\n",
      "Epoch 74/100\n",
      "213/213 [==============================] - 2s 9ms/step - loss: 0.3023 - accuracy: 0.8518 - precision_1: 0.9088 - recall_1: 0.8159 - root_mean_squared_error: 0.1085 - mean_squared_error: 0.0118 - mean_absolute_error: 0.0238 - val_loss: 0.2980 - val_accuracy: 0.8555 - val_precision_1: 0.9025 - val_recall_1: 0.8243 - val_root_mean_squared_error: 0.1079 - val_mean_squared_error: 0.0116 - val_mean_absolute_error: 0.0234\n",
      "Epoch 75/100\n",
      "213/213 [==============================] - 2s 9ms/step - loss: 0.3394 - accuracy: 0.8379 - precision_1: 0.8972 - recall_1: 0.7993 - root_mean_squared_error: 0.1144 - mean_squared_error: 0.0131 - mean_absolute_error: 0.0264 - val_loss: 0.2595 - val_accuracy: 0.8638 - val_precision_1: 0.9153 - val_recall_1: 0.8343 - val_root_mean_squared_error: 0.1008 - val_mean_squared_error: 0.0102 - val_mean_absolute_error: 0.0199\n",
      "Epoch 76/100\n",
      "213/213 [==============================] - ETA: 0s - loss: 0.2913 - accuracy: 0.8606 - precision_1: 0.9177 - recall_1: 0.8225 - root_mean_squared_error: 0.1071 - mean_squared_error: 0.0115 - mean_absolute_error: 0.0234INFO:tensorflow:Assets written to: /content/drive/MyDrive/jet data/models\\cnn\\assets\n",
      "213/213 [==============================] - 17s 81ms/step - loss: 0.2913 - accuracy: 0.8606 - precision_1: 0.9177 - recall_1: 0.8225 - root_mean_squared_error: 0.1071 - mean_squared_error: 0.0115 - mean_absolute_error: 0.0234 - val_loss: 0.2325 - val_accuracy: 0.8709 - val_precision_1: 0.9217 - val_recall_1: 0.8473 - val_root_mean_squared_error: 0.0979 - val_mean_squared_error: 0.0096 - val_mean_absolute_error: 0.0187\n",
      "Epoch 77/100\n",
      "213/213 [==============================] - 2s 9ms/step - loss: 0.2950 - accuracy: 0.8524 - precision_1: 0.9080 - recall_1: 0.8141 - root_mean_squared_error: 0.1079 - mean_squared_error: 0.0116 - mean_absolute_error: 0.0234 - val_loss: 0.2442 - val_accuracy: 0.8691 - val_precision_1: 0.9192 - val_recall_1: 0.8384 - val_root_mean_squared_error: 0.0995 - val_mean_squared_error: 0.0099 - val_mean_absolute_error: 0.0202\n",
      "Epoch 78/100\n",
      "213/213 [==============================] - 2s 8ms/step - loss: 0.2958 - accuracy: 0.8511 - precision_1: 0.9098 - recall_1: 0.8182 - root_mean_squared_error: 0.1081 - mean_squared_error: 0.0117 - mean_absolute_error: 0.0236 - val_loss: 0.2630 - val_accuracy: 0.8679 - val_precision_1: 0.9138 - val_recall_1: 0.8438 - val_root_mean_squared_error: 0.1006 - val_mean_squared_error: 0.0101 - val_mean_absolute_error: 0.0193\n",
      "Epoch 79/100\n",
      "213/213 [==============================] - 2s 8ms/step - loss: 0.3128 - accuracy: 0.8470 - precision_1: 0.9020 - recall_1: 0.8085 - root_mean_squared_error: 0.1108 - mean_squared_error: 0.0123 - mean_absolute_error: 0.0245 - val_loss: 0.2629 - val_accuracy: 0.8620 - val_precision_1: 0.9023 - val_recall_1: 0.8390 - val_root_mean_squared_error: 0.1031 - val_mean_squared_error: 0.0106 - val_mean_absolute_error: 0.0201\n",
      "Epoch 80/100\n",
      "213/213 [==============================] - 2s 9ms/step - loss: 0.3019 - accuracy: 0.8514 - precision_1: 0.9093 - recall_1: 0.8137 - root_mean_squared_error: 0.1090 - mean_squared_error: 0.0119 - mean_absolute_error: 0.0239 - val_loss: 0.2645 - val_accuracy: 0.8673 - val_precision_1: 0.9163 - val_recall_1: 0.8396 - val_root_mean_squared_error: 0.1002 - val_mean_squared_error: 0.0100 - val_mean_absolute_error: 0.0196\n",
      "Epoch 81/100\n",
      "213/213 [==============================] - 2s 9ms/step - loss: 0.2956 - accuracy: 0.8524 - precision_1: 0.9069 - recall_1: 0.8159 - root_mean_squared_error: 0.1086 - mean_squared_error: 0.0118 - mean_absolute_error: 0.0237 - val_loss: 0.2403 - val_accuracy: 0.8697 - val_precision_1: 0.9177 - val_recall_1: 0.8414 - val_root_mean_squared_error: 0.0997 - val_mean_squared_error: 0.0099 - val_mean_absolute_error: 0.0193\n",
      "Epoch 82/100\n",
      "213/213 [==============================] - 2s 9ms/step - loss: 0.3518 - accuracy: 0.8355 - precision_1: 0.8931 - recall_1: 0.7968 - root_mean_squared_error: 0.1162 - mean_squared_error: 0.0135 - mean_absolute_error: 0.0264 - val_loss: 0.2881 - val_accuracy: 0.8526 - val_precision_1: 0.9063 - val_recall_1: 0.8213 - val_root_mean_squared_error: 0.1063 - val_mean_squared_error: 0.0113 - val_mean_absolute_error: 0.0219\n",
      "Epoch 83/100\n",
      "213/213 [==============================] - 2s 9ms/step - loss: 0.3096 - accuracy: 0.8480 - precision_1: 0.9039 - recall_1: 0.8090 - root_mean_squared_error: 0.1105 - mean_squared_error: 0.0122 - mean_absolute_error: 0.0244 - val_loss: 0.2415 - val_accuracy: 0.8697 - val_precision_1: 0.9162 - val_recall_1: 0.8449 - val_root_mean_squared_error: 0.0983 - val_mean_squared_error: 0.0097 - val_mean_absolute_error: 0.0189\n",
      "Epoch 84/100\n",
      "213/213 [==============================] - 2s 10ms/step - loss: 0.2759 - accuracy: 0.8577 - precision_1: 0.9139 - recall_1: 0.8250 - root_mean_squared_error: 0.1051 - mean_squared_error: 0.0110 - mean_absolute_error: 0.0222 - val_loss: 0.2366 - val_accuracy: 0.8673 - val_precision_1: 0.9238 - val_recall_1: 0.8432 - val_root_mean_squared_error: 0.0988 - val_mean_squared_error: 0.0098 - val_mean_absolute_error: 0.0186\n",
      "Epoch 85/100\n",
      "212/213 [============================>.] - ETA: 0s - loss: 0.2709 - accuracy: 0.8614 - precision_1: 0.9167 - recall_1: 0.8261 - root_mean_squared_error: 0.1042 - mean_squared_error: 0.0109 - mean_absolute_error: 0.0220INFO:tensorflow:Assets written to: /content/drive/MyDrive/jet data/models\\cnn\\assets\n",
      "213/213 [==============================] - 17s 82ms/step - loss: 0.2706 - accuracy: 0.8615 - precision_1: 0.9168 - recall_1: 0.8261 - root_mean_squared_error: 0.1042 - mean_squared_error: 0.0109 - mean_absolute_error: 0.0220 - val_loss: 0.2403 - val_accuracy: 0.8744 - val_precision_1: 0.9185 - val_recall_1: 0.8443 - val_root_mean_squared_error: 0.0986 - val_mean_squared_error: 0.0097 - val_mean_absolute_error: 0.0190\n",
      "Epoch 86/100\n",
      "213/213 [==============================] - 2s 9ms/step - loss: 0.2756 - accuracy: 0.8650 - precision_1: 0.9142 - recall_1: 0.8285 - root_mean_squared_error: 0.1052 - mean_squared_error: 0.0111 - mean_absolute_error: 0.0222 - val_loss: 0.2478 - val_accuracy: 0.8603 - val_precision_1: 0.9088 - val_recall_1: 0.8402 - val_root_mean_squared_error: 0.0991 - val_mean_squared_error: 0.0098 - val_mean_absolute_error: 0.0190\n",
      "Epoch 87/100\n",
      "213/213 [==============================] - 2s 9ms/step - loss: 0.2792 - accuracy: 0.8593 - precision_1: 0.9155 - recall_1: 0.8237 - root_mean_squared_error: 0.1057 - mean_squared_error: 0.0112 - mean_absolute_error: 0.0226 - val_loss: 0.2517 - val_accuracy: 0.8662 - val_precision_1: 0.9066 - val_recall_1: 0.8414 - val_root_mean_squared_error: 0.1001 - val_mean_squared_error: 0.0100 - val_mean_absolute_error: 0.0186\n",
      "Epoch 88/100\n",
      "213/213 [==============================] - 2s 9ms/step - loss: 0.2814 - accuracy: 0.8553 - precision_1: 0.9113 - recall_1: 0.8195 - root_mean_squared_error: 0.1067 - mean_squared_error: 0.0114 - mean_absolute_error: 0.0226 - val_loss: 0.2480 - val_accuracy: 0.8685 - val_precision_1: 0.9140 - val_recall_1: 0.8402 - val_root_mean_squared_error: 0.1006 - val_mean_squared_error: 0.0101 - val_mean_absolute_error: 0.0192\n",
      "Epoch 89/100\n",
      "213/213 [==============================] - 2s 10ms/step - loss: 0.2830 - accuracy: 0.8564 - precision_1: 0.9089 - recall_1: 0.8209 - root_mean_squared_error: 0.1066 - mean_squared_error: 0.0114 - mean_absolute_error: 0.0228 - val_loss: 0.2512 - val_accuracy: 0.8685 - val_precision_1: 0.9130 - val_recall_1: 0.8414 - val_root_mean_squared_error: 0.0990 - val_mean_squared_error: 0.0098 - val_mean_absolute_error: 0.0192\n",
      "Epoch 90/100\n",
      "213/213 [==============================] - 2s 9ms/step - loss: 0.2825 - accuracy: 0.8583 - precision_1: 0.9080 - recall_1: 0.8184 - root_mean_squared_error: 0.1065 - mean_squared_error: 0.0113 - mean_absolute_error: 0.0228 - val_loss: 0.3180 - val_accuracy: 0.8573 - val_precision_1: 0.9022 - val_recall_1: 0.8325 - val_root_mean_squared_error: 0.1067 - val_mean_squared_error: 0.0114 - val_mean_absolute_error: 0.0206\n"
     ]
    },
    {
     "name": "stdout",
     "output_type": "stream",
     "text": [
      "Epoch 91/100\n",
      "213/213 [==============================] - 2s 10ms/step - loss: 0.3770 - accuracy: 0.8305 - precision_1: 0.8880 - recall_1: 0.7918 - root_mean_squared_error: 0.1187 - mean_squared_error: 0.0141 - mean_absolute_error: 0.0272 - val_loss: 0.2839 - val_accuracy: 0.8526 - val_precision_1: 0.9072 - val_recall_1: 0.8184 - val_root_mean_squared_error: 0.1068 - val_mean_squared_error: 0.0114 - val_mean_absolute_error: 0.0223\n",
      "Epoch 92/100\n",
      "213/213 [==============================] - 2s 9ms/step - loss: 0.3029 - accuracy: 0.8496 - precision_1: 0.9034 - recall_1: 0.8106 - root_mean_squared_error: 0.1098 - mean_squared_error: 0.0120 - mean_absolute_error: 0.0242 - val_loss: 0.2486 - val_accuracy: 0.8644 - val_precision_1: 0.9076 - val_recall_1: 0.8396 - val_root_mean_squared_error: 0.1008 - val_mean_squared_error: 0.0102 - val_mean_absolute_error: 0.0194\n",
      "Epoch 93/100\n",
      "213/213 [==============================] - 2s 9ms/step - loss: 0.2727 - accuracy: 0.8614 - precision_1: 0.9167 - recall_1: 0.8245 - root_mean_squared_error: 0.1046 - mean_squared_error: 0.0109 - mean_absolute_error: 0.0223 - val_loss: 0.2414 - val_accuracy: 0.8626 - val_precision_1: 0.9132 - val_recall_1: 0.8373 - val_root_mean_squared_error: 0.0994 - val_mean_squared_error: 0.0099 - val_mean_absolute_error: 0.0185\n",
      "Epoch 94/100\n",
      "213/213 [==============================] - 2s 9ms/step - loss: 0.2716 - accuracy: 0.8606 - precision_1: 0.9169 - recall_1: 0.8238 - root_mean_squared_error: 0.1046 - mean_squared_error: 0.0109 - mean_absolute_error: 0.0220 - val_loss: 0.2411 - val_accuracy: 0.8715 - val_precision_1: 0.9198 - val_recall_1: 0.8455 - val_root_mean_squared_error: 0.0995 - val_mean_squared_error: 0.0099 - val_mean_absolute_error: 0.0187\n",
      "Epoch 95/100\n",
      "213/213 [==============================] - 2s 8ms/step - loss: 0.2654 - accuracy: 0.8619 - precision_1: 0.9177 - recall_1: 0.8250 - root_mean_squared_error: 0.1035 - mean_squared_error: 0.0107 - mean_absolute_error: 0.0218 - val_loss: 0.2523 - val_accuracy: 0.8620 - val_precision_1: 0.9076 - val_recall_1: 0.8396 - val_root_mean_squared_error: 0.0989 - val_mean_squared_error: 0.0098 - val_mean_absolute_error: 0.0185\n",
      "Epoch 96/100\n",
      "213/213 [==============================] - 2s 9ms/step - loss: 0.3808 - accuracy: 0.8297 - precision_1: 0.8832 - recall_1: 0.7920 - root_mean_squared_error: 0.1185 - mean_squared_error: 0.0140 - mean_absolute_error: 0.0266 - val_loss: 0.3098 - val_accuracy: 0.8461 - val_precision_1: 0.8908 - val_recall_1: 0.8125 - val_root_mean_squared_error: 0.1090 - val_mean_squared_error: 0.0119 - val_mean_absolute_error: 0.0233\n",
      "Epoch 97/100\n",
      "213/213 [==============================] - 2s 9ms/step - loss: 0.3073 - accuracy: 0.8465 - precision_1: 0.9042 - recall_1: 0.8087 - root_mean_squared_error: 0.1096 - mean_squared_error: 0.0120 - mean_absolute_error: 0.0244 - val_loss: 0.2583 - val_accuracy: 0.8656 - val_precision_1: 0.9137 - val_recall_1: 0.8361 - val_root_mean_squared_error: 0.1007 - val_mean_squared_error: 0.0101 - val_mean_absolute_error: 0.0194\n",
      "Epoch 98/100\n",
      "213/213 [==============================] - 2s 9ms/step - loss: 0.2801 - accuracy: 0.8572 - precision_1: 0.9147 - recall_1: 0.8223 - root_mean_squared_error: 0.1054 - mean_squared_error: 0.0111 - mean_absolute_error: 0.0225 - val_loss: 0.2812 - val_accuracy: 0.8662 - val_precision_1: 0.9142 - val_recall_1: 0.8420 - val_root_mean_squared_error: 0.1016 - val_mean_squared_error: 0.0103 - val_mean_absolute_error: 0.0195\n",
      "Epoch 99/100\n",
      "213/213 [==============================] - 2s 9ms/step - loss: 0.2974 - accuracy: 0.8531 - precision_1: 0.9093 - recall_1: 0.8173 - root_mean_squared_error: 0.1082 - mean_squared_error: 0.0117 - mean_absolute_error: 0.0233 - val_loss: 0.2570 - val_accuracy: 0.8715 - val_precision_1: 0.9081 - val_recall_1: 0.8390 - val_root_mean_squared_error: 0.1005 - val_mean_squared_error: 0.0101 - val_mean_absolute_error: 0.0191\n",
      "Epoch 100/100\n",
      "213/213 [==============================] - 2s 9ms/step - loss: 0.2749 - accuracy: 0.8584 - precision_1: 0.9137 - recall_1: 0.8217 - root_mean_squared_error: 0.1054 - mean_squared_error: 0.0111 - mean_absolute_error: 0.0223 - val_loss: 0.2421 - val_accuracy: 0.8679 - val_precision_1: 0.9190 - val_recall_1: 0.8426 - val_root_mean_squared_error: 0.0981 - val_mean_squared_error: 0.0096 - val_mean_absolute_error: 0.0181\n"
     ]
    }
   ],
   "source": [
    "# Train the model\n",
    "history = model.fit(X_train, Y_train_encoded, batch_size = batch_size, epochs = 100, \n",
    "                   steps_per_epoch = len(X_train) // batch_size,\n",
    "                   validation_steps = len(X_test) // batch_size, \n",
    "                   validation_data = (X_test, Y_test_encoded),\n",
    "                   callbacks = [model_checkpoint_callback])"
   ]
  },
  {
   "cell_type": "code",
   "execution_count": 67,
   "id": "6a751e81",
   "metadata": {},
   "outputs": [
    {
     "data": {
      "image/png": "[encoded data removed]",
      "text/plain": [
       "<Figure size 432x288 with 1 Axes>"
      ]
     },
     "metadata": {
      "needs_background": "light"
     },
     "output_type": "display_data"
    },
    {
     "data": {
      "image/png": "[encoded data removed]",
      "text/plain": [
       "<Figure size 432x288 with 1 Axes>"
      ]
     },
     "metadata": {
      "needs_background": "light"
     },
     "output_type": "display_data"
    }
   ],
   "source": [
    "import matplotlib.pyplot as plt\n",
    "acc = history.history['accuracy']\n",
    "val_acc = history.history['val_accuracy']\n",
    "loss = history.history['loss']\n",
    "val_loss = history.history['val_loss']\n",
    "\n",
    "epochs = range(len(acc))\n",
    "\n",
    "plt.plot(epochs, acc, 'r', label='Training accuracy')\n",
    "plt.plot(epochs, val_acc, 'b', label='Validation accuracy')\n",
    "plt.title('Training and validation accuracy')\n",
    "\n",
    "plt.figure()\n",
    "\n",
    "plt.plot(epochs, loss, 'r', label='Training Loss')\n",
    "plt.plot(epochs, val_loss, 'b', label='Validation Loss')\n",
    "plt.title('Training and validation loss')\n",
    "plt.legend()\n",
    "\n",
    "plt.show()"
   ]
  },
  {
   "cell_type": "code",
   "execution_count": 68,
   "id": "7a0607ff",
   "metadata": {
    "colab": {
     "base_uri": "https://localhost:8080/"
    },
    "id": "7a0607ff",
    "outputId": "5b248be3-ea84-4de3-ba90-6d70bad3f1d7"
   },
   "outputs": [],
   "source": [
    "# Evaluate the model on the test set\n"
   ]
  },
  {
   "cell_type": "code",
   "execution_count": 69,
   "id": "5e8db91f",
   "metadata": {},
   "outputs": [
    {
     "name": "stdout",
     "output_type": "stream",
     "text": [
      "The Training metrics are:\n",
      "213/213 [==============================] - 1s 6ms/step - loss: 0.2281 - accuracy: 0.8750 - precision_1: 0.9330 - recall_1: 0.8360 - root_mean_squared_error: 0.0972 - mean_squared_error: 0.0094 - mean_absolute_error: 0.0190\n"
     ]
    },
    {
     "data": {
      "text/plain": [
       "[0.22814276814460754,\n",
       " 0.875,\n",
       " 0.9330276846885681,\n",
       " 0.8359741568565369,\n",
       " 0.09720294922590256,\n",
       " 0.00944841280579567,\n",
       " 0.018985074013471603]"
      ]
     },
     "execution_count": 69,
     "metadata": {},
     "output_type": "execute_result"
    }
   ],
   "source": [
    "print('The Training metrics are:')\n",
    "model.evaluate(X_train, Y_train_encoded)"
   ]
  },
  {
   "cell_type": "code",
   "execution_count": 70,
   "id": "31b6ed49",
   "metadata": {},
   "outputs": [
    {
     "name": "stdout",
     "output_type": "stream",
     "text": [
      "The validation metrics are:\n",
      "54/54 [==============================] - 0s 4ms/step - loss: 0.2465 - accuracy: 0.8680 - precision_1: 0.9187 - recall_1: 0.8427 - root_mean_squared_error: 0.0983 - mean_squared_error: 0.0097 - mean_absolute_error: 0.0182\n"
     ]
    },
    {
     "data": {
      "text/plain": [
       "[0.24647608399391174,\n",
       " 0.8679577708244324,\n",
       " 0.9187459945678711,\n",
       " 0.84272301197052,\n",
       " 0.0983191505074501,\n",
       " 0.009666652418673038,\n",
       " 0.018176481127738953]"
      ]
     },
     "execution_count": 70,
     "metadata": {},
     "output_type": "execute_result"
    }
   ],
   "source": [
    "print('The validation metrics are:')\n",
    "model.evaluate(X_test, Y_test_encoded)"
   ]
  },
  {
   "cell_type": "code",
   "execution_count": 74,
   "id": "2735f7ba",
   "metadata": {},
   "outputs": [
    {
     "name": "stdout",
     "output_type": "stream",
     "text": [
      "[[2.01714579e-02 2.56545445e-05 2.98756375e-09 ... 2.35282513e-08\n",
      "  7.31987658e-13 4.85808778e-06]\n",
      " [6.99902469e-10 2.02491925e-08 1.21951498e-05 ... 2.96781016e-10\n",
      "  6.66967244e-05 1.15724094e-06]\n",
      " [9.70948349e-06 2.14095600e-03 3.95552925e-04 ... 3.37469915e-04\n",
      "  4.42294912e-09 1.29111531e-05]\n",
      " ...\n",
      " [2.54267361e-05 2.39965070e-09 2.84574057e-12 ... 6.08431654e-13\n",
      "  3.47178926e-16 5.16822782e-12]\n",
      " [2.67286756e-17 6.60506719e-11 8.15235466e-12 ... 7.23776683e-09\n",
      "  3.27488687e-12 5.88454654e-08]\n",
      " [2.13572285e-10 1.13677561e-06 2.45851295e-09 ... 2.42859579e-13\n",
      "  1.73085712e-11 1.25405375e-08]]\n"
     ]
    }
   ],
   "source": [
    "prediction = model.predict( X_test)\n",
    "print(prediction)"
   ]
  },
  {
   "cell_type": "code",
   "execution_count": 80,
   "id": "7WrYttFYmIGy",
   "metadata": {
    "id": "7WrYttFYmIGy"
   },
   "outputs": [
    {
     "data": {
      "text/html": [
       "<div>\n",
       "<style scoped>\n",
       "    .dataframe tbody tr th:only-of-type {\n",
       "        vertical-align: middle;\n",
       "    }\n",
       "\n",
       "    .dataframe tbody tr th {\n",
       "        vertical-align: top;\n",
       "    }\n",
       "\n",
       "    .dataframe thead th {\n",
       "        text-align: right;\n",
       "    }\n",
       "</style>\n",
       "<table border=\"1\" class=\"dataframe\">\n",
       "  <thead>\n",
       "    <tr style=\"text-align: right;\">\n",
       "      <th></th>\n",
       "      <th>Actual Value</th>\n",
       "      <th>RNN Prediction</th>\n",
       "      <th>RNN Error</th>\n",
       "    </tr>\n",
       "  </thead>\n",
       "  <tbody>\n",
       "    <tr>\n",
       "      <th>0</th>\n",
       "      <td>[0.0, 0.0, 0.0, 0.0, 0.0, 1.0, 0.0, 0.0, 0.0, ...</td>\n",
       "      <td>[0.020171458, 2.5654545e-05, 2.9875638e-09, 0....</td>\n",
       "      <td>[-0.020171458, -2.5654545e-05, -2.9875638e-09,...</td>\n",
       "    </tr>\n",
       "    <tr>\n",
       "      <th>1</th>\n",
       "      <td>[0.0, 0.0, 0.0, 0.0, 0.0, 0.0, 0.0, 0.0, 1.0, ...</td>\n",
       "      <td>[6.9990247e-10, 2.0249193e-08, 1.219515e-05, 7...</td>\n",
       "      <td>[-6.9990247e-10, -2.0249193e-08, -1.219515e-05...</td>\n",
       "    </tr>\n",
       "    <tr>\n",
       "      <th>2</th>\n",
       "      <td>[0.0, 0.0, 0.0, 0.0, 0.0, 0.0, 0.0, 1.0, 0.0, ...</td>\n",
       "      <td>[9.7094835e-06, 0.002140956, 0.00039555292, 5....</td>\n",
       "      <td>[-9.7094835e-06, -0.002140956, -0.00039555292,...</td>\n",
       "    </tr>\n",
       "    <tr>\n",
       "      <th>3</th>\n",
       "      <td>[0.0, 0.0, 0.0, 0.0, 0.0, 1.0, 0.0, 0.0, 0.0, ...</td>\n",
       "      <td>[5.6771455e-06, 1.5121413e-08, 3.5030532e-13, ...</td>\n",
       "      <td>[-5.6771455e-06, -1.5121413e-08, -3.5030532e-1...</td>\n",
       "    </tr>\n",
       "    <tr>\n",
       "      <th>4</th>\n",
       "      <td>[0.0, 0.0, 0.0, 0.0, 0.0, 0.0, 0.0, 0.0, 1.0, ...</td>\n",
       "      <td>[1.3432958e-09, 3.4538112e-11, 1.3516429e-06, ...</td>\n",
       "      <td>[-1.3432958e-09, -3.4538112e-11, -1.3516429e-0...</td>\n",
       "    </tr>\n",
       "    <tr>\n",
       "      <th>...</th>\n",
       "      <td>...</td>\n",
       "      <td>...</td>\n",
       "      <td>...</td>\n",
       "    </tr>\n",
       "    <tr>\n",
       "      <th>1699</th>\n",
       "      <td>[0.0, 0.0, 0.0, 0.0, 0.0, 1.0, 0.0, 0.0, 0.0, ...</td>\n",
       "      <td>[0.0010450258, 1.2244598e-06, 1.7329284e-06, 8...</td>\n",
       "      <td>[-0.0010450258, -1.2244598e-06, -1.7329284e-06...</td>\n",
       "    </tr>\n",
       "    <tr>\n",
       "      <th>1700</th>\n",
       "      <td>[0.0, 0.0, 0.0, 0.0, 1.0, 0.0, 0.0, 0.0, 0.0, ...</td>\n",
       "      <td>[1.2859485e-14, 6.056705e-10, 1.1699175e-06, 0...</td>\n",
       "      <td>[-1.2859485e-14, -6.056705e-10, -1.1699175e-06...</td>\n",
       "    </tr>\n",
       "    <tr>\n",
       "      <th>1701</th>\n",
       "      <td>[0.0, 0.0, 0.0, 0.0, 0.0, 1.0, 0.0, 0.0, 0.0, ...</td>\n",
       "      <td>[2.5426736e-05, 2.3996507e-09, 2.8457406e-12, ...</td>\n",
       "      <td>[-2.5426736e-05, -2.3996507e-09, -2.8457406e-1...</td>\n",
       "    </tr>\n",
       "    <tr>\n",
       "      <th>1702</th>\n",
       "      <td>[0.0, 0.0, 0.0, 1.0, 0.0, 0.0, 0.0, 0.0, 0.0, ...</td>\n",
       "      <td>[2.6728676e-17, 6.605067e-11, 8.152355e-12, 0....</td>\n",
       "      <td>[-2.6728676e-17, -6.605067e-11, -8.152355e-12,...</td>\n",
       "    </tr>\n",
       "    <tr>\n",
       "      <th>1703</th>\n",
       "      <td>[0.0, 0.0, 0.0, 0.0, 0.0, 0.0, 0.0, 0.0, 1.0, ...</td>\n",
       "      <td>[2.1357228e-10, 1.1367756e-06, 2.458513e-09, 1...</td>\n",
       "      <td>[-2.1357228e-10, -1.1367756e-06, -2.458513e-09...</td>\n",
       "    </tr>\n",
       "  </tbody>\n",
       "</table>\n",
       "<p>1704 rows × 3 columns</p>\n",
       "</div>"
      ],
      "text/plain": [
       "                                           Actual Value  \\\n",
       "0     [0.0, 0.0, 0.0, 0.0, 0.0, 1.0, 0.0, 0.0, 0.0, ...   \n",
       "1     [0.0, 0.0, 0.0, 0.0, 0.0, 0.0, 0.0, 0.0, 1.0, ...   \n",
       "2     [0.0, 0.0, 0.0, 0.0, 0.0, 0.0, 0.0, 1.0, 0.0, ...   \n",
       "3     [0.0, 0.0, 0.0, 0.0, 0.0, 1.0, 0.0, 0.0, 0.0, ...   \n",
       "4     [0.0, 0.0, 0.0, 0.0, 0.0, 0.0, 0.0, 0.0, 1.0, ...   \n",
       "...                                                 ...   \n",
       "1699  [0.0, 0.0, 0.0, 0.0, 0.0, 1.0, 0.0, 0.0, 0.0, ...   \n",
       "1700  [0.0, 0.0, 0.0, 0.0, 1.0, 0.0, 0.0, 0.0, 0.0, ...   \n",
       "1701  [0.0, 0.0, 0.0, 0.0, 0.0, 1.0, 0.0, 0.0, 0.0, ...   \n",
       "1702  [0.0, 0.0, 0.0, 1.0, 0.0, 0.0, 0.0, 0.0, 0.0, ...   \n",
       "1703  [0.0, 0.0, 0.0, 0.0, 0.0, 0.0, 0.0, 0.0, 1.0, ...   \n",
       "\n",
       "                                         RNN Prediction  \\\n",
       "0     [0.020171458, 2.5654545e-05, 2.9875638e-09, 0....   \n",
       "1     [6.9990247e-10, 2.0249193e-08, 1.219515e-05, 7...   \n",
       "2     [9.7094835e-06, 0.002140956, 0.00039555292, 5....   \n",
       "3     [5.6771455e-06, 1.5121413e-08, 3.5030532e-13, ...   \n",
       "4     [1.3432958e-09, 3.4538112e-11, 1.3516429e-06, ...   \n",
       "...                                                 ...   \n",
       "1699  [0.0010450258, 1.2244598e-06, 1.7329284e-06, 8...   \n",
       "1700  [1.2859485e-14, 6.056705e-10, 1.1699175e-06, 0...   \n",
       "1701  [2.5426736e-05, 2.3996507e-09, 2.8457406e-12, ...   \n",
       "1702  [2.6728676e-17, 6.605067e-11, 8.152355e-12, 0....   \n",
       "1703  [2.1357228e-10, 1.1367756e-06, 2.458513e-09, 1...   \n",
       "\n",
       "                                              RNN Error  \n",
       "0     [-0.020171458, -2.5654545e-05, -2.9875638e-09,...  \n",
       "1     [-6.9990247e-10, -2.0249193e-08, -1.219515e-05...  \n",
       "2     [-9.7094835e-06, -0.002140956, -0.00039555292,...  \n",
       "3     [-5.6771455e-06, -1.5121413e-08, -3.5030532e-1...  \n",
       "4     [-1.3432958e-09, -3.4538112e-11, -1.3516429e-0...  \n",
       "...                                                 ...  \n",
       "1699  [-0.0010450258, -1.2244598e-06, -1.7329284e-06...  \n",
       "1700  [-1.2859485e-14, -6.056705e-10, -1.1699175e-06...  \n",
       "1701  [-2.5426736e-05, -2.3996507e-09, -2.8457406e-1...  \n",
       "1702  [-2.6728676e-17, -6.605067e-11, -8.152355e-12,...  \n",
       "1703  [-2.1357228e-10, -1.1367756e-06, -2.458513e-09...  \n",
       "\n",
       "[1704 rows x 3 columns]"
      ]
     },
     "execution_count": 80,
     "metadata": {},
     "output_type": "execute_result"
    }
   ],
   "source": [
    "rnn_error = np.subtract(Y_test_encoded, prediction)\n",
    "df = pandas.DataFrame(list(zip(Y_test_encoded, prediction, rnn_error)), \n",
    "    columns=['Actual Value', 'RNN Prediction', 'RNN Error'])\n",
    "#df.to_excel(\"result for cnn 80_20.xlsx\")\n",
    "df"
   ]
  },
  {
   "cell_type": "code",
   "execution_count": 41,
   "id": "e6354a30",
   "metadata": {},
   "outputs": [],
   "source": []
  },
  {
   "cell_type": "code",
   "execution_count": 81,
   "id": "95da7288",
   "metadata": {},
   "outputs": [],
   "source": [
    "# Save the model as a pickle in a file\n"
   ]
  },
  {
   "cell_type": "code",
   "execution_count": 82,
   "id": "b9fe1be3",
   "metadata": {},
   "outputs": [
    {
     "ename": "OSError",
     "evalue": "Unable to create file (unable to open file: name = 'C:/Users/NCC/Documents/SOFTWAREML/model/dumped.keras', errno = 2, error message = 'No such file or directory', flags = 13, o_flags = 302)",
     "output_type": "error",
     "traceback": [
      "\u001b[1;31m---------------------------------------------------------------------------\u001b[0m",
      "\u001b[1;31mOSError\u001b[0m                                   Traceback (most recent call last)",
      "Input \u001b[1;32mIn [82]\u001b[0m, in \u001b[0;36m<cell line: 1>\u001b[1;34m()\u001b[0m\n\u001b[1;32m----> 1\u001b[0m \u001b[43mmodel\u001b[49m\u001b[38;5;241;43m.\u001b[39;49m\u001b[43msave\u001b[49m\u001b[43m(\u001b[49m\u001b[38;5;124;43m\"\u001b[39;49m\u001b[38;5;124;43mC:/Users/NCC/Documents/SOFTWAREML/model/dumped.keras\u001b[39;49m\u001b[38;5;124;43m\"\u001b[39;49m\u001b[43m)\u001b[49m\n",
      "File \u001b[1;32m~\\anaconda3\\envs\\tensor-kera evn\\lib\\site-packages\\tensorflow\\python\\keras\\engine\\training.py:1978\u001b[0m, in \u001b[0;36mModel.save\u001b[1;34m(self, filepath, overwrite, include_optimizer, save_format, signatures, options)\u001b[0m\n\u001b[0;32m   1918\u001b[0m \u001b[38;5;28;01mdef\u001b[39;00m \u001b[38;5;21msave\u001b[39m(\u001b[38;5;28mself\u001b[39m,\n\u001b[0;32m   1919\u001b[0m          filepath,\n\u001b[0;32m   1920\u001b[0m          overwrite\u001b[38;5;241m=\u001b[39m\u001b[38;5;28;01mTrue\u001b[39;00m,\n\u001b[1;32m   (...)\u001b[0m\n\u001b[0;32m   1923\u001b[0m          signatures\u001b[38;5;241m=\u001b[39m\u001b[38;5;28;01mNone\u001b[39;00m,\n\u001b[0;32m   1924\u001b[0m          options\u001b[38;5;241m=\u001b[39m\u001b[38;5;28;01mNone\u001b[39;00m):\n\u001b[0;32m   1925\u001b[0m   \u001b[38;5;124;03m\"\"\"Saves the model to Tensorflow SavedModel or a single HDF5 file.\u001b[39;00m\n\u001b[0;32m   1926\u001b[0m \n\u001b[0;32m   1927\u001b[0m \u001b[38;5;124;03m  The savefile includes:\u001b[39;00m\n\u001b[1;32m   (...)\u001b[0m\n\u001b[0;32m   1976\u001b[0m \u001b[38;5;124;03m  ```\u001b[39;00m\n\u001b[0;32m   1977\u001b[0m \u001b[38;5;124;03m  \"\"\"\u001b[39;00m\n\u001b[1;32m-> 1978\u001b[0m   \u001b[43msave\u001b[49m\u001b[38;5;241;43m.\u001b[39;49m\u001b[43msave_model\u001b[49m\u001b[43m(\u001b[49m\u001b[38;5;28;43mself\u001b[39;49m\u001b[43m,\u001b[49m\u001b[43m \u001b[49m\u001b[43mfilepath\u001b[49m\u001b[43m,\u001b[49m\u001b[43m \u001b[49m\u001b[43moverwrite\u001b[49m\u001b[43m,\u001b[49m\u001b[43m \u001b[49m\u001b[43minclude_optimizer\u001b[49m\u001b[43m,\u001b[49m\u001b[43m \u001b[49m\u001b[43msave_format\u001b[49m\u001b[43m,\u001b[49m\n\u001b[0;32m   1979\u001b[0m \u001b[43m                  \u001b[49m\u001b[43msignatures\u001b[49m\u001b[43m,\u001b[49m\u001b[43m \u001b[49m\u001b[43moptions\u001b[49m\u001b[43m)\u001b[49m\n",
      "File \u001b[1;32m~\\anaconda3\\envs\\tensor-kera evn\\lib\\site-packages\\tensorflow\\python\\keras\\saving\\save.py:130\u001b[0m, in \u001b[0;36msave_model\u001b[1;34m(model, filepath, overwrite, include_optimizer, save_format, signatures, options)\u001b[0m\n\u001b[0;32m    121\u001b[0m   \u001b[38;5;28;01mif\u001b[39;00m (\u001b[38;5;129;01mnot\u001b[39;00m model\u001b[38;5;241m.\u001b[39m_is_graph_network \u001b[38;5;129;01mand\u001b[39;00m  \u001b[38;5;66;03m# pylint:disable=protected-access\u001b[39;00m\n\u001b[0;32m    122\u001b[0m       \u001b[38;5;129;01mnot\u001b[39;00m \u001b[38;5;28misinstance\u001b[39m(model, sequential\u001b[38;5;241m.\u001b[39mSequential)):\n\u001b[0;32m    123\u001b[0m     \u001b[38;5;28;01mraise\u001b[39;00m \u001b[38;5;167;01mNotImplementedError\u001b[39;00m(\n\u001b[0;32m    124\u001b[0m         \u001b[38;5;124m'\u001b[39m\u001b[38;5;124mSaving the model to HDF5 format requires the model to be a \u001b[39m\u001b[38;5;124m'\u001b[39m\n\u001b[0;32m    125\u001b[0m         \u001b[38;5;124m'\u001b[39m\u001b[38;5;124mFunctional model or a Sequential model. It does not work for \u001b[39m\u001b[38;5;124m'\u001b[39m\n\u001b[1;32m   (...)\u001b[0m\n\u001b[0;32m    128\u001b[0m         \u001b[38;5;124m'\u001b[39m\u001b[38;5;124mto the Tensorflow SavedModel format (by setting save_format=\u001b[39m\u001b[38;5;124m\"\u001b[39m\u001b[38;5;124mtf\u001b[39m\u001b[38;5;124m\"\u001b[39m\u001b[38;5;124m) \u001b[39m\u001b[38;5;124m'\u001b[39m\n\u001b[0;32m    129\u001b[0m         \u001b[38;5;124m'\u001b[39m\u001b[38;5;124mor using `save_weights`.\u001b[39m\u001b[38;5;124m'\u001b[39m)\n\u001b[1;32m--> 130\u001b[0m   \u001b[43mhdf5_format\u001b[49m\u001b[38;5;241;43m.\u001b[39;49m\u001b[43msave_model_to_hdf5\u001b[49m\u001b[43m(\u001b[49m\n\u001b[0;32m    131\u001b[0m \u001b[43m      \u001b[49m\u001b[43mmodel\u001b[49m\u001b[43m,\u001b[49m\u001b[43m \u001b[49m\u001b[43mfilepath\u001b[49m\u001b[43m,\u001b[49m\u001b[43m \u001b[49m\u001b[43moverwrite\u001b[49m\u001b[43m,\u001b[49m\u001b[43m \u001b[49m\u001b[43minclude_optimizer\u001b[49m\u001b[43m)\u001b[49m\n\u001b[0;32m    132\u001b[0m \u001b[38;5;28;01melse\u001b[39;00m:\n\u001b[0;32m    133\u001b[0m   saved_model_save\u001b[38;5;241m.\u001b[39msave(model, filepath, overwrite, include_optimizer,\n\u001b[0;32m    134\u001b[0m                         signatures, options)\n",
      "File \u001b[1;32m~\\anaconda3\\envs\\tensor-kera evn\\lib\\site-packages\\tensorflow\\python\\keras\\saving\\hdf5_format.py:102\u001b[0m, in \u001b[0;36msave_model_to_hdf5\u001b[1;34m(model, filepath, overwrite, include_optimizer)\u001b[0m\n\u001b[0;32m     99\u001b[0m     \u001b[38;5;28;01mif\u001b[39;00m \u001b[38;5;129;01mnot\u001b[39;00m proceed:\n\u001b[0;32m    100\u001b[0m       \u001b[38;5;28;01mreturn\u001b[39;00m\n\u001b[1;32m--> 102\u001b[0m   f \u001b[38;5;241m=\u001b[39m \u001b[43mh5py\u001b[49m\u001b[38;5;241;43m.\u001b[39;49m\u001b[43mFile\u001b[49m\u001b[43m(\u001b[49m\u001b[43mfilepath\u001b[49m\u001b[43m,\u001b[49m\u001b[43m \u001b[49m\u001b[43mmode\u001b[49m\u001b[38;5;241;43m=\u001b[39;49m\u001b[38;5;124;43m'\u001b[39;49m\u001b[38;5;124;43mw\u001b[39;49m\u001b[38;5;124;43m'\u001b[39;49m\u001b[43m)\u001b[49m\n\u001b[0;32m    103\u001b[0m   opened_new_file \u001b[38;5;241m=\u001b[39m \u001b[38;5;28;01mTrue\u001b[39;00m\n\u001b[0;32m    104\u001b[0m \u001b[38;5;28;01melse\u001b[39;00m:\n",
      "File \u001b[1;32m~\\anaconda3\\envs\\tensor-kera evn\\lib\\site-packages\\h5py\\_hl\\files.py:406\u001b[0m, in \u001b[0;36mFile.__init__\u001b[1;34m(self, name, mode, driver, libver, userblock_size, swmr, rdcc_nslots, rdcc_nbytes, rdcc_w0, track_order, **kwds)\u001b[0m\n\u001b[0;32m    404\u001b[0m \u001b[38;5;28;01mwith\u001b[39;00m phil:\n\u001b[0;32m    405\u001b[0m     fapl \u001b[38;5;241m=\u001b[39m make_fapl(driver, libver, rdcc_nslots, rdcc_nbytes, rdcc_w0, \u001b[38;5;241m*\u001b[39m\u001b[38;5;241m*\u001b[39mkwds)\n\u001b[1;32m--> 406\u001b[0m     fid \u001b[38;5;241m=\u001b[39m \u001b[43mmake_fid\u001b[49m\u001b[43m(\u001b[49m\u001b[43mname\u001b[49m\u001b[43m,\u001b[49m\u001b[43m \u001b[49m\u001b[43mmode\u001b[49m\u001b[43m,\u001b[49m\u001b[43m \u001b[49m\u001b[43muserblock_size\u001b[49m\u001b[43m,\u001b[49m\n\u001b[0;32m    407\u001b[0m \u001b[43m                   \u001b[49m\u001b[43mfapl\u001b[49m\u001b[43m,\u001b[49m\u001b[43m \u001b[49m\u001b[43mfcpl\u001b[49m\u001b[38;5;241;43m=\u001b[39;49m\u001b[43mmake_fcpl\u001b[49m\u001b[43m(\u001b[49m\u001b[43mtrack_order\u001b[49m\u001b[38;5;241;43m=\u001b[39;49m\u001b[43mtrack_order\u001b[49m\u001b[43m)\u001b[49m\u001b[43m,\u001b[49m\n\u001b[0;32m    408\u001b[0m \u001b[43m                   \u001b[49m\u001b[43mswmr\u001b[49m\u001b[38;5;241;43m=\u001b[39;49m\u001b[43mswmr\u001b[49m\u001b[43m)\u001b[49m\n\u001b[0;32m    410\u001b[0m \u001b[38;5;28;01mif\u001b[39;00m \u001b[38;5;28misinstance\u001b[39m(libver, \u001b[38;5;28mtuple\u001b[39m):\n\u001b[0;32m    411\u001b[0m     \u001b[38;5;28mself\u001b[39m\u001b[38;5;241m.\u001b[39m_libver \u001b[38;5;241m=\u001b[39m libver\n",
      "File \u001b[1;32m~\\anaconda3\\envs\\tensor-kera evn\\lib\\site-packages\\h5py\\_hl\\files.py:179\u001b[0m, in \u001b[0;36mmake_fid\u001b[1;34m(name, mode, userblock_size, fapl, fcpl, swmr)\u001b[0m\n\u001b[0;32m    177\u001b[0m     fid \u001b[38;5;241m=\u001b[39m h5f\u001b[38;5;241m.\u001b[39mcreate(name, h5f\u001b[38;5;241m.\u001b[39mACC_EXCL, fapl\u001b[38;5;241m=\u001b[39mfapl, fcpl\u001b[38;5;241m=\u001b[39mfcpl)\n\u001b[0;32m    178\u001b[0m \u001b[38;5;28;01melif\u001b[39;00m mode \u001b[38;5;241m==\u001b[39m \u001b[38;5;124m'\u001b[39m\u001b[38;5;124mw\u001b[39m\u001b[38;5;124m'\u001b[39m:\n\u001b[1;32m--> 179\u001b[0m     fid \u001b[38;5;241m=\u001b[39m \u001b[43mh5f\u001b[49m\u001b[38;5;241;43m.\u001b[39;49m\u001b[43mcreate\u001b[49m\u001b[43m(\u001b[49m\u001b[43mname\u001b[49m\u001b[43m,\u001b[49m\u001b[43m \u001b[49m\u001b[43mh5f\u001b[49m\u001b[38;5;241;43m.\u001b[39;49m\u001b[43mACC_TRUNC\u001b[49m\u001b[43m,\u001b[49m\u001b[43m \u001b[49m\u001b[43mfapl\u001b[49m\u001b[38;5;241;43m=\u001b[39;49m\u001b[43mfapl\u001b[49m\u001b[43m,\u001b[49m\u001b[43m \u001b[49m\u001b[43mfcpl\u001b[49m\u001b[38;5;241;43m=\u001b[39;49m\u001b[43mfcpl\u001b[49m\u001b[43m)\u001b[49m\n\u001b[0;32m    180\u001b[0m \u001b[38;5;28;01melif\u001b[39;00m mode \u001b[38;5;241m==\u001b[39m \u001b[38;5;124m'\u001b[39m\u001b[38;5;124ma\u001b[39m\u001b[38;5;124m'\u001b[39m:\n\u001b[0;32m    181\u001b[0m     \u001b[38;5;66;03m# Open in append mode (read/write).\u001b[39;00m\n\u001b[0;32m    182\u001b[0m     \u001b[38;5;66;03m# If that fails, create a new file only if it won't clobber an\u001b[39;00m\n\u001b[0;32m    183\u001b[0m     \u001b[38;5;66;03m# existing one (ACC_EXCL)\u001b[39;00m\n\u001b[0;32m    184\u001b[0m     \u001b[38;5;28;01mtry\u001b[39;00m:\n",
      "File \u001b[1;32mh5py\\_objects.pyx:54\u001b[0m, in \u001b[0;36mh5py._objects.with_phil.wrapper\u001b[1;34m()\u001b[0m\n",
      "File \u001b[1;32mh5py\\_objects.pyx:55\u001b[0m, in \u001b[0;36mh5py._objects.with_phil.wrapper\u001b[1;34m()\u001b[0m\n",
      "File \u001b[1;32mh5py\\h5f.pyx:108\u001b[0m, in \u001b[0;36mh5py.h5f.create\u001b[1;34m()\u001b[0m\n",
      "\u001b[1;31mOSError\u001b[0m: Unable to create file (unable to open file: name = 'C:/Users/NCC/Documents/SOFTWAREML/model/dumped.keras', errno = 2, error message = 'No such file or directory', flags = 13, o_flags = 302)"
     ]
    }
   ],
   "source": [
    "model.save(\"C:/Users/NCC/Documents/SOFTWAREML/model/dumped.keras\")"
   ]
  },
  {
   "cell_type": "code",
   "execution_count": 49,
   "id": "20fcdc04",
   "metadata": {},
   "outputs": [
    {
     "data": {
      "text/plain": [
       "<tensorflow.python.keras.engine.sequential.Sequential at 0x200919b45e0>"
      ]
     },
     "execution_count": 49,
     "metadata": {},
     "output_type": "execute_result"
    }
   ],
   "source": [
    "keras.models.load_model(\"C:/Users/NCC/Documents/SOFTWAREML/model/dumped.keras\")"
   ]
  }
 ],
 "metadata": {
  "colab": {
   "provenance": []
  },
  "kernelspec": {
   "display_name": "Python 3 (ipykernel)",
   "language": "python",
   "name": "python3"
  },
  "language_info": {
   "codemirror_mode": {
    "name": "ipython",
    "version": 3
   },
   "file_extension": ".py",
   "mimetype": "text/x-python",
   "name": "python",
   "nbconvert_exporter": "python",
   "pygments_lexer": "ipython3",
   "version": "3.8.13"
  }
 },
 "nbformat": 4,
 "nbformat_minor": 5
}
