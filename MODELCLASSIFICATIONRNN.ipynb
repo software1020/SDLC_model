{
 "cells": [
  {
   "cell_type": "code",
   "execution_count": 1,
   "id": "7f7bcb5d",
   "metadata": {
    "id": "7f7bcb5d"
   },
   "outputs": [],
   "source": [
    "import pandas\n",
    "from keras.models import Sequential\n",
    "from keras.layers import Dense\n",
    "from keras.wrappers.scikit_learn import KerasClassifier\n",
    "from keras.utils import np_utils\n",
    "from sklearn.model_selection import cross_val_score\n",
    "from sklearn.model_selection import KFold\n",
    "from sklearn.preprocessing import LabelEncoder\n",
    "from sklearn.model_selection import train_test_split\n",
    "from sklearn.preprocessing import MinMaxScaler\n",
    "import tensorflow as tf\n",
    "import matplotlib.pyplot as plt\n",
    "import numpy as np\n",
    "from sklearn.pipeline import Pipeline\n",
    "from tensorflow import keras"
   ]
  },
  {
   "cell_type": "code",
   "execution_count": 2,
   "id": "VcQJwTK9fHE-",
   "metadata": {
    "colab": {
     "base_uri": "https://localhost:8080/",
     "height": 270
    },
    "id": "VcQJwTK9fHE-",
    "outputId": "7c9ae59e-8529-4d02-b880-58480c6187eb"
   },
   "outputs": [
    {
     "data": {
      "text/html": [
       "<div>\n",
       "<style scoped>\n",
       "    .dataframe tbody tr th:only-of-type {\n",
       "        vertical-align: middle;\n",
       "    }\n",
       "\n",
       "    .dataframe tbody tr th {\n",
       "        vertical-align: top;\n",
       "    }\n",
       "\n",
       "    .dataframe thead th {\n",
       "        text-align: right;\n",
       "    }\n",
       "</style>\n",
       "<table border=\"1\" class=\"dataframe\">\n",
       "  <thead>\n",
       "    <tr style=\"text-align: right;\">\n",
       "      <th></th>\n",
       "      <th>ComplexProject</th>\n",
       "      <th>ProjectwithRisk</th>\n",
       "      <th>AssociatedCost</th>\n",
       "      <th>ProjectDuration</th>\n",
       "      <th>CustomerInvolvement</th>\n",
       "      <th>ImplementationStage</th>\n",
       "      <th>RequirementGathering</th>\n",
       "      <th>Maintainability</th>\n",
       "      <th>ErrorDiscovery</th>\n",
       "      <th>Flexibility</th>\n",
       "      <th>MODEL</th>\n",
       "    </tr>\n",
       "  </thead>\n",
       "  <tbody>\n",
       "    <tr>\n",
       "      <th>0</th>\n",
       "      <td>4</td>\n",
       "      <td>1</td>\n",
       "      <td>3</td>\n",
       "      <td>5</td>\n",
       "      <td>1</td>\n",
       "      <td>1</td>\n",
       "      <td>5</td>\n",
       "      <td>5</td>\n",
       "      <td>1</td>\n",
       "      <td>1</td>\n",
       "      <td>WATERFALL</td>\n",
       "    </tr>\n",
       "    <tr>\n",
       "      <th>1</th>\n",
       "      <td>5</td>\n",
       "      <td>4</td>\n",
       "      <td>4</td>\n",
       "      <td>5</td>\n",
       "      <td>3</td>\n",
       "      <td>4</td>\n",
       "      <td>5</td>\n",
       "      <td>4</td>\n",
       "      <td>4</td>\n",
       "      <td>5</td>\n",
       "      <td>WATERFALL</td>\n",
       "    </tr>\n",
       "    <tr>\n",
       "      <th>2</th>\n",
       "      <td>3</td>\n",
       "      <td>3</td>\n",
       "      <td>3</td>\n",
       "      <td>3</td>\n",
       "      <td>3</td>\n",
       "      <td>3</td>\n",
       "      <td>3</td>\n",
       "      <td>3</td>\n",
       "      <td>3</td>\n",
       "      <td>3</td>\n",
       "      <td>WATERFALL</td>\n",
       "    </tr>\n",
       "    <tr>\n",
       "      <th>3</th>\n",
       "      <td>4</td>\n",
       "      <td>4</td>\n",
       "      <td>3</td>\n",
       "      <td>4</td>\n",
       "      <td>5</td>\n",
       "      <td>3</td>\n",
       "      <td>3</td>\n",
       "      <td>5</td>\n",
       "      <td>5</td>\n",
       "      <td>3</td>\n",
       "      <td>WATERFALL</td>\n",
       "    </tr>\n",
       "    <tr>\n",
       "      <th>4</th>\n",
       "      <td>5</td>\n",
       "      <td>1</td>\n",
       "      <td>3</td>\n",
       "      <td>3</td>\n",
       "      <td>1</td>\n",
       "      <td>1</td>\n",
       "      <td>5</td>\n",
       "      <td>1</td>\n",
       "      <td>1</td>\n",
       "      <td>1</td>\n",
       "      <td>WATERFALL</td>\n",
       "    </tr>\n",
       "  </tbody>\n",
       "</table>\n",
       "</div>"
      ],
      "text/plain": [
       "   ComplexProject  ProjectwithRisk   AssociatedCost  ProjectDuration  \\\n",
       "0               4                 1               3                5   \n",
       "1               5                 4               4                5   \n",
       "2               3                 3               3                3   \n",
       "3               4                 4               3                4   \n",
       "4               5                 1               3                3   \n",
       "\n",
       "   CustomerInvolvement  ImplementationStage  RequirementGathering  \\\n",
       "0                    1                    1                     5   \n",
       "1                    3                    4                     5   \n",
       "2                    3                    3                     3   \n",
       "3                    5                    3                     3   \n",
       "4                    1                    1                     5   \n",
       "\n",
       "   Maintainability   ErrorDiscovery   Flexibility      MODEL  \n",
       "0                 5                1            1  WATERFALL  \n",
       "1                 4                4            5  WATERFALL  \n",
       "2                 3                3            3  WATERFALL  \n",
       "3                 5                5            3  WATERFALL  \n",
       "4                 1                1            1  WATERFALL  "
      ]
     },
     "execution_count": 2,
     "metadata": {},
     "output_type": "execute_result"
    }
   ],
   "source": [
    "mlb_data = pandas.read_csv(\"FATHIA DATASET NEW 6.1.csv\")\n",
    "mlb_data.head()"
   ]
  },
  {
   "cell_type": "code",
   "execution_count": 3,
   "id": "f5f4Ie3JfnO-",
   "metadata": {
    "colab": {
     "base_uri": "https://localhost:8080/"
    },
    "id": "f5f4Ie3JfnO-",
    "outputId": "56bfae39-4a59-4fa6-fbec-7f368343841f"
   },
   "outputs": [
    {
     "name": "stdout",
     "output_type": "stream",
     "text": [
      "<class 'pandas.core.frame.DataFrame'>\n",
      "RangeIndex: 8520 entries, 0 to 8519\n",
      "Data columns (total 11 columns):\n",
      " #   Column                Non-Null Count  Dtype \n",
      "---  ------                --------------  ----- \n",
      " 0   ComplexProject        8520 non-null   int64 \n",
      " 1   ProjectwithRisk       8520 non-null   int64 \n",
      " 2   AssociatedCost        8520 non-null   int64 \n",
      " 3   ProjectDuration       8520 non-null   int64 \n",
      " 4   CustomerInvolvement   8520 non-null   int64 \n",
      " 5   ImplementationStage   8520 non-null   int64 \n",
      " 6   RequirementGathering  8520 non-null   int64 \n",
      " 7   Maintainability       8520 non-null   int64 \n",
      " 8   ErrorDiscovery        8520 non-null   int64 \n",
      " 9   Flexibility           8520 non-null   int64 \n",
      " 10  MODEL                 8520 non-null   object\n",
      "dtypes: int64(10), object(1)\n",
      "memory usage: 732.3+ KB\n"
     ]
    }
   ],
   "source": [
    "mlb_data.info(verbose=True)"
   ]
  },
  {
   "cell_type": "code",
   "execution_count": 4,
   "id": "d47e1cde",
   "metadata": {},
   "outputs": [],
   "source": [
    "#mlb_data = mlb_data.drop(['TOTAL','CLASSIFICATION','SUBCLASSIFICATION','SUBCLASSIFICATION2'], axis=1)"
   ]
  },
  {
   "cell_type": "code",
   "execution_count": 5,
   "id": "f8b783de",
   "metadata": {},
   "outputs": [
    {
     "name": "stdout",
     "output_type": "stream",
     "text": [
      "      ComplexProject  ProjectwithRisk   AssociatedCost  ProjectDuration  \\\n",
      "0               0.75          0.000000            0.50             1.00   \n",
      "1               1.00          1.000000            0.75             1.00   \n",
      "2               0.50          0.666667            0.50             0.50   \n",
      "3               0.75          1.000000            0.50             0.75   \n",
      "4               1.00          0.000000            0.50             0.50   \n",
      "...              ...               ...             ...              ...   \n",
      "8515            0.00          0.000000            0.50             0.50   \n",
      "8516            0.00          0.000000            0.75             0.75   \n",
      "8517            0.00          0.000000            0.50             0.50   \n",
      "8518            0.00          0.333333            0.50             1.00   \n",
      "8519            0.00          0.000000            0.50             0.50   \n",
      "\n",
      "      CustomerInvolvement  ImplementationStage  RequirementGathering  \\\n",
      "0                     0.0                 0.00                   1.0   \n",
      "1                     0.5                 0.75                   1.0   \n",
      "2                     0.5                 0.50                   0.5   \n",
      "3                     1.0                 0.50                   0.5   \n",
      "4                     0.0                 0.00                   1.0   \n",
      "...                   ...                  ...                   ...   \n",
      "8515                  0.5                 1.00                   0.0   \n",
      "8516                  0.5                 1.00                   0.0   \n",
      "8517                  0.5                 0.00                   0.0   \n",
      "8518                  0.5                 1.00                   0.0   \n",
      "8519                  0.5                 1.00                   0.0   \n",
      "\n",
      "      Maintainability   ErrorDiscovery   Flexibility  \n",
      "0                 1.00             0.00          0.0  \n",
      "1                 0.75             0.75          1.0  \n",
      "2                 0.50             0.50          0.5  \n",
      "3                 1.00             1.00          0.5  \n",
      "4                 0.00             0.00          0.0  \n",
      "...                ...              ...          ...  \n",
      "8515              0.75             1.00          1.0  \n",
      "8516              0.75             1.00          1.0  \n",
      "8517              0.75             0.00          1.0  \n",
      "8518              0.75             1.00          1.0  \n",
      "8519              0.75             1.00          1.0  \n",
      "\n",
      "[8520 rows x 10 columns]\n"
     ]
    }
   ],
   "source": [
    "num_features = ['ComplexProject', 'ProjectwithRisk ', 'AssociatedCost',\n",
    "       'ProjectDuration', 'CustomerInvolvement', 'ImplementationStage',\n",
    "       'RequirementGathering', 'Maintainability ', 'ErrorDiscovery ',\n",
    "       'Flexibility']\n",
    "X = mlb_data[num_features]\n",
    "\n",
    "# Normalize data using StandardScaler\n",
    "scaler = MinMaxScaler()\n",
    "col = X.columns\n",
    "X_normalized = scaler.fit_transform(X)\n",
    "\n",
    "\n",
    "scalar_df = pandas.DataFrame(X_normalized, columns=col)\n",
    "\n",
    "# Print normalized data\n",
    "print(scalar_df)"
   ]
  },
  {
   "cell_type": "code",
   "execution_count": 6,
   "id": "342fa625",
   "metadata": {},
   "outputs": [],
   "source": [
    "# Convert dataframe to NumPy arrays\n",
    "X = scalar_df.values\n",
    "Y = mlb_data.iloc[:, -1].values"
   ]
  },
  {
   "cell_type": "code",
   "execution_count": 7,
   "id": "d2cc67f5",
   "metadata": {
    "id": "d2cc67f5"
   },
   "outputs": [],
   "source": [
    "# Encode the target variable to numerical labels\n",
    "label_encoder = LabelEncoder()\n",
    "Y_encoded = label_encoder.fit_transform(Y)"
   ]
  },
  {
   "cell_type": "code",
   "execution_count": null,
   "id": "78c4956e",
   "metadata": {},
   "outputs": [],
   "source": []
  },
  {
   "cell_type": "code",
   "execution_count": 8,
   "id": "7f6627c9",
   "metadata": {
    "id": "7f6627c9"
   },
   "outputs": [],
   "source": [
    "# Split the dataset into training and testing sets\n",
    "X_train, X_test, Y_train, Y_test = train_test_split(X, Y_encoded, test_size=0.2, random_state=42)"
   ]
  },
  {
   "cell_type": "code",
   "execution_count": 9,
   "id": "64b29001",
   "metadata": {
    "id": "64b29001"
   },
   "outputs": [],
   "source": [
    "# Normalize the input features\n",
    "X_train = (X_train - X_train.mean()) / X_train.std()\n",
    "X_test = (X_test - X_test.mean()) / X_test.std()"
   ]
  },
  {
   "cell_type": "code",
   "execution_count": 10,
   "id": "3936542e",
   "metadata": {
    "id": "3936542e"
   },
   "outputs": [],
   "source": [
    "# Convert target variable to one-hot encoded format\n",
    "Y_train_encoded = keras.utils.to_categorical(Y_train)\n",
    "Y_test_encoded = keras.utils.to_categorical(Y_test)"
   ]
  },
  {
   "cell_type": "code",
   "execution_count": null,
   "id": "b34d2ac6",
   "metadata": {},
   "outputs": [],
   "source": []
  },
  {
   "cell_type": "code",
   "execution_count": 11,
   "id": "41afa8d1",
   "metadata": {},
   "outputs": [],
   "source": [
    "X_train = np.reshape(X_train,((len(X_train),10,1)))\n",
    "X_test= np.reshape(X_test,(len(X_test),10,1))"
   ]
  },
  {
   "cell_type": "code",
   "execution_count": 12,
   "id": "08f384cb",
   "metadata": {
    "id": "08f384cb"
   },
   "outputs": [
    {
     "name": "stdout",
     "output_type": "stream",
     "text": [
      "Model: \"sequential\"\n",
      "_________________________________________________________________\n",
      "Layer (type)                 Output Shape              Param #   \n",
      "=================================================================\n",
      "simple_rnn (SimpleRNN)       (None, 10, 64)            4224      \n",
      "_________________________________________________________________\n",
      "simple_rnn_1 (SimpleRNN)     (None, 64)                8256      \n",
      "_________________________________________________________________\n",
      "dense (Dense)                (None, 128)               8320      \n",
      "_________________________________________________________________\n",
      "dropout (Dropout)            (None, 128)               0         \n",
      "_________________________________________________________________\n",
      "dense_1 (Dense)              (None, 15)                1935      \n",
      "=================================================================\n",
      "Total params: 22,735\n",
      "Trainable params: 22,735\n",
      "Non-trainable params: 0\n",
      "_________________________________________________________________\n"
     ]
    }
   ],
   "source": [
    "model = keras.models.Sequential()\n",
    "#model.add(keras.layers.Embedding(10000, 128))\n",
    "model.add(keras.layers.SimpleRNN(64, return_sequences=True,input_shape=(10, 1)))\n",
    "model.add(keras.layers.SimpleRNN(64))\n",
    "model.add(keras.layers.Dense(128, activation=\"relu\"))\n",
    "model.add(keras.layers.Dropout(0.4))\n",
    "model.add(keras.layers.Dense(len(label_encoder.classes_), activation=\"softmax\"))\n",
    "  \n",
    "model.summary()"
   ]
  },
  {
   "cell_type": "code",
   "execution_count": 13,
   "id": "c52d9011",
   "metadata": {
    "id": "c52d9011"
   },
   "outputs": [],
   "source": [
    "# Compile the model\n",
    "model.compile(optimizer='adam', loss='categorical_crossentropy', metrics=['accuracy',tf.keras.metrics.Precision(), tf.keras.metrics.Recall(), tf.keras.metrics.RootMeanSquaredError(), tf.keras.metrics.MeanSquaredError(), tf.keras.metrics.MeanAbsoluteError()])"
   ]
  },
  {
   "cell_type": "code",
   "execution_count": 14,
   "id": "3a292891",
   "metadata": {},
   "outputs": [],
   "source": [
    "checkpoint_filepath = '/content/drive/MyDrive/jet data/models/cnn'"
   ]
  },
  {
   "cell_type": "code",
   "execution_count": 15,
   "id": "78f1cc61",
   "metadata": {},
   "outputs": [],
   "source": [
    "model_checkpoint_callback = tf.keras.callbacks.ModelCheckpoint(\n",
    "    filepath=checkpoint_filepath,\n",
    "    monitor='val_accuracy',\n",
    "    mode='max',\n",
    "    save_best_only=True)"
   ]
  },
  {
   "cell_type": "code",
   "execution_count": 16,
   "id": "eeaa97f8",
   "metadata": {},
   "outputs": [],
   "source": [
    "batch_size=32"
   ]
  },
  {
   "cell_type": "code",
   "execution_count": 17,
   "id": "32551e71",
   "metadata": {
    "colab": {
     "base_uri": "https://localhost:8080/"
    },
    "id": "32551e71",
    "outputId": "9f68e4df-002b-48ee-e503-d1ef523a10f5"
   },
   "outputs": [
    {
     "name": "stdout",
     "output_type": "stream",
     "text": [
      "Epoch 1/100\n",
      "213/213 [==============================] - ETA: 0s - loss: 1.6605 - accuracy: 0.4674 - precision: 0.7715 - recall: 0.2457 - root_mean_squared_error: 0.2099 - mean_squared_error: 0.0440 - mean_absolute_error: 0.0911WARNING:tensorflow:From C:\\Users\\NCC\\anaconda3\\envs\\tensor-kera evn\\lib\\site-packages\\tensorflow\\python\\training\\tracking\\tracking.py:111: Model.state_updates (from tensorflow.python.keras.engine.training) is deprecated and will be removed in a future version.\n",
      "Instructions for updating:\n",
      "This property should not be used in TensorFlow 2.0, as updates are applied automatically.\n",
      "WARNING:tensorflow:From C:\\Users\\NCC\\anaconda3\\envs\\tensor-kera evn\\lib\\site-packages\\tensorflow\\python\\training\\tracking\\tracking.py:111: Layer.updates (from tensorflow.python.keras.engine.base_layer) is deprecated and will be removed in a future version.\n",
      "Instructions for updating:\n",
      "This property should not be used in TensorFlow 2.0, as updates are applied automatically.\n",
      "INFO:tensorflow:Assets written to: /content/drive/MyDrive/jet data/models\\cnn\\assets\n",
      "213/213 [==============================] - 14s 65ms/step - loss: 1.6605 - accuracy: 0.4674 - precision: 0.7715 - recall: 0.2457 - root_mean_squared_error: 0.2099 - mean_squared_error: 0.0440 - mean_absolute_error: 0.0911 - val_loss: 1.3536 - val_accuracy: 0.5554 - val_precision: 0.8265 - val_recall: 0.4157 - val_root_mean_squared_error: 0.1898 - val_mean_squared_error: 0.0360 - val_mean_absolute_error: 0.0745\n",
      "Epoch 2/100\n",
      "208/213 [============================>.] - ETA: 0s - loss: 1.3594 - accuracy: 0.5448 - precision: 0.7810 - recall: 0.3950 - root_mean_squared_error: 0.1931 - mean_squared_error: 0.0373 - mean_absolute_error: 0.0755INFO:tensorflow:Assets written to: /content/drive/MyDrive/jet data/models\\cnn\\assets\n",
      "213/213 [==============================] - 12s 55ms/step - loss: 1.3553 - accuracy: 0.5465 - precision: 0.7817 - recall: 0.3967 - root_mean_squared_error: 0.1929 - mean_squared_error: 0.0372 - mean_absolute_error: 0.0754 - val_loss: 1.2617 - val_accuracy: 0.5672 - val_precision: 0.8298 - val_recall: 0.4399 - val_root_mean_squared_error: 0.1853 - val_mean_squared_error: 0.0343 - val_mean_absolute_error: 0.0704\n",
      "Epoch 3/100\n",
      "204/213 [===========================>..] - ETA: 0s - loss: 1.2587 - accuracy: 0.5573 - precision: 0.7943 - recall: 0.4099 - root_mean_squared_error: 0.1885 - mean_squared_error: 0.0355 - mean_absolute_error: 0.0719INFO:tensorflow:Assets written to: /content/drive/MyDrive/jet data/models\\cnn\\assets\n",
      "213/213 [==============================] - 12s 58ms/step - loss: 1.2610 - accuracy: 0.5566 - precision: 0.7938 - recall: 0.4101 - root_mean_squared_error: 0.1886 - mean_squared_error: 0.0356 - mean_absolute_error: 0.0720 - val_loss: 1.2013 - val_accuracy: 0.5825 - val_precision: 0.8381 - val_recall: 0.4487 - val_root_mean_squared_error: 0.1831 - val_mean_squared_error: 0.0335 - val_mean_absolute_error: 0.0682\n",
      "Epoch 4/100\n",
      "213/213 [==============================] - ETA: 0s - loss: 1.1980 - accuracy: 0.5732 - precision: 0.8196 - recall: 0.4278 - root_mean_squared_error: 0.1854 - mean_squared_error: 0.0344 - mean_absolute_error: 0.0696INFO:tensorflow:Assets written to: /content/drive/MyDrive/jet data/models\\cnn\\assets\n",
      "213/213 [==============================] - 12s 58ms/step - loss: 1.1980 - accuracy: 0.5732 - precision: 0.8196 - recall: 0.4278 - root_mean_squared_error: 0.1854 - mean_squared_error: 0.0344 - mean_absolute_error: 0.0696 - val_loss: 1.1424 - val_accuracy: 0.5961 - val_precision: 0.8453 - val_recall: 0.4640 - val_root_mean_squared_error: 0.1801 - val_mean_squared_error: 0.0324 - val_mean_absolute_error: 0.0660\n",
      "Epoch 5/100\n",
      "206/213 [============================>.] - ETA: 0s - loss: 1.1435 - accuracy: 0.5934 - precision: 0.8244 - recall: 0.4431 - root_mean_squared_error: 0.1827 - mean_squared_error: 0.0334 - mean_absolute_error: 0.0676INFO:tensorflow:Assets written to: /content/drive/MyDrive/jet data/models\\cnn\\assets\n",
      "213/213 [==============================] - 12s 55ms/step - loss: 1.1436 - accuracy: 0.5942 - precision: 0.8249 - recall: 0.4438 - root_mean_squared_error: 0.1827 - mean_squared_error: 0.0334 - mean_absolute_error: 0.0676 - val_loss: 1.1057 - val_accuracy: 0.6020 - val_precision: 0.8487 - val_recall: 0.4764 - val_root_mean_squared_error: 0.1786 - val_mean_squared_error: 0.0319 - val_mean_absolute_error: 0.0642\n",
      "Epoch 6/100\n",
      "208/213 [============================>.] - ETA: 0s - loss: 1.0953 - accuracy: 0.5978 - precision: 0.8221 - recall: 0.4507 - root_mean_squared_error: 0.1802 - mean_squared_error: 0.0325 - mean_absolute_error: 0.0658INFO:tensorflow:Assets written to: /content/drive/MyDrive/jet data/models\\cnn\\assets\n",
      "213/213 [==============================] - 12s 57ms/step - loss: 1.0941 - accuracy: 0.5977 - precision: 0.8218 - recall: 0.4507 - root_mean_squared_error: 0.1801 - mean_squared_error: 0.0324 - mean_absolute_error: 0.0657 - val_loss: 1.0481 - val_accuracy: 0.6026 - val_precision: 0.8443 - val_recall: 0.4858 - val_root_mean_squared_error: 0.1757 - val_mean_squared_error: 0.0309 - val_mean_absolute_error: 0.0620\n",
      "Epoch 7/100\n",
      "206/213 [============================>.] - ETA: 0s - loss: 1.0574 - accuracy: 0.6133 - precision: 0.8274 - recall: 0.4633 - root_mean_squared_error: 0.1778 - mean_squared_error: 0.0316 - mean_absolute_error: 0.0642INFO:tensorflow:Assets written to: /content/drive/MyDrive/jet data/models\\cnn\\assets\n",
      "213/213 [==============================] - 12s 56ms/step - loss: 1.0616 - accuracy: 0.6118 - precision: 0.8262 - recall: 0.4617 - root_mean_squared_error: 0.1782 - mean_squared_error: 0.0317 - mean_absolute_error: 0.0643 - val_loss: 1.0269 - val_accuracy: 0.6167 - val_precision: 0.8690 - val_recall: 0.4770 - val_root_mean_squared_error: 0.1747 - val_mean_squared_error: 0.0305 - val_mean_absolute_error: 0.0628\n",
      "Epoch 8/100\n",
      "206/213 [============================>.] - ETA: 0s - loss: 1.0030 - accuracy: 0.6247 - precision: 0.8351 - recall: 0.4779 - root_mean_squared_error: 0.1749 - mean_squared_error: 0.0306 - mean_absolute_error: 0.0624INFO:tensorflow:Assets written to: /content/drive/MyDrive/jet data/models\\cnn\\assets\n",
      "213/213 [==============================] - 12s 57ms/step - loss: 1.0017 - accuracy: 0.6249 - precision: 0.8358 - recall: 0.4786 - root_mean_squared_error: 0.1748 - mean_squared_error: 0.0305 - mean_absolute_error: 0.0624 - val_loss: 0.9635 - val_accuracy: 0.6344 - val_precision: 0.8775 - val_recall: 0.4900 - val_root_mean_squared_error: 0.1704 - val_mean_squared_error: 0.0290 - val_mean_absolute_error: 0.0598\n",
      "Epoch 9/100\n",
      "208/213 [============================>.] - ETA: 0s - loss: 0.9681 - accuracy: 0.6345 - precision: 0.8359 - recall: 0.4814 - root_mean_squared_error: 0.1735 - mean_squared_error: 0.0301 - mean_absolute_error: 0.0614INFO:tensorflow:Assets written to: /content/drive/MyDrive/jet data/models\\cnn\\assets\n",
      "213/213 [==============================] - 12s 58ms/step - loss: 0.9679 - accuracy: 0.6341 - precision: 0.8362 - recall: 0.4815 - root_mean_squared_error: 0.1735 - mean_squared_error: 0.0301 - mean_absolute_error: 0.0614 - val_loss: 0.9489 - val_accuracy: 0.6362 - val_precision: 0.8576 - val_recall: 0.5112 - val_root_mean_squared_error: 0.1703 - val_mean_squared_error: 0.0290 - val_mean_absolute_error: 0.0580\n",
      "Epoch 10/100\n",
      "206/213 [============================>.] - ETA: 0s - loss: 0.9245 - accuracy: 0.6426 - precision: 0.8433 - recall: 0.5005 - root_mean_squared_error: 0.1701 - mean_squared_error: 0.0289 - mean_absolute_error: 0.0595INFO:tensorflow:Assets written to: /content/drive/MyDrive/jet data/models\\cnn\\assets\n",
      "213/213 [==============================] - 13s 59ms/step - loss: 0.9242 - accuracy: 0.6429 - precision: 0.8429 - recall: 0.5000 - root_mean_squared_error: 0.1702 - mean_squared_error: 0.0290 - mean_absolute_error: 0.0595 - val_loss: 0.9212 - val_accuracy: 0.6480 - val_precision: 0.8580 - val_recall: 0.5059 - val_root_mean_squared_error: 0.1693 - val_mean_squared_error: 0.0287 - val_mean_absolute_error: 0.0579\n",
      "Epoch 11/100\n"
     ]
    },
    {
     "name": "stdout",
     "output_type": "stream",
     "text": [
      "212/213 [============================>.] - ETA: 0s - loss: 0.8738 - accuracy: 0.6629 - precision: 0.8433 - recall: 0.5174 - root_mean_squared_error: 0.1672 - mean_squared_error: 0.0280 - mean_absolute_error: 0.0576INFO:tensorflow:Assets written to: /content/drive/MyDrive/jet data/models\\cnn\\assets\n",
      "213/213 [==============================] - 12s 57ms/step - loss: 0.8730 - accuracy: 0.6629 - precision: 0.8435 - recall: 0.5172 - root_mean_squared_error: 0.1672 - mean_squared_error: 0.0279 - mean_absolute_error: 0.0576 - val_loss: 0.8547 - val_accuracy: 0.6639 - val_precision: 0.8599 - val_recall: 0.5248 - val_root_mean_squared_error: 0.1649 - val_mean_squared_error: 0.0272 - val_mean_absolute_error: 0.0553\n",
      "Epoch 12/100\n",
      "210/213 [============================>.] - ETA: 0s - loss: 0.8443 - accuracy: 0.6737 - precision: 0.8448 - recall: 0.5347 - root_mean_squared_error: 0.1652 - mean_squared_error: 0.0273 - mean_absolute_error: 0.0561INFO:tensorflow:Assets written to: /content/drive/MyDrive/jet data/models\\cnn\\assets\n",
      "213/213 [==============================] - 12s 56ms/step - loss: 0.8436 - accuracy: 0.6740 - precision: 0.8452 - recall: 0.5351 - root_mean_squared_error: 0.1652 - mean_squared_error: 0.0273 - mean_absolute_error: 0.0561 - val_loss: 0.8034 - val_accuracy: 0.6869 - val_precision: 0.8682 - val_recall: 0.5360 - val_root_mean_squared_error: 0.1607 - val_mean_squared_error: 0.0258 - val_mean_absolute_error: 0.0538\n",
      "Epoch 13/100\n",
      "207/213 [============================>.] - ETA: 0s - loss: 0.7976 - accuracy: 0.6896 - precision: 0.8501 - recall: 0.5470 - root_mean_squared_error: 0.1619 - mean_squared_error: 0.0262 - mean_absolute_error: 0.0544INFO:tensorflow:Assets written to: /content/drive/MyDrive/jet data/models\\cnn\\assets\n",
      "213/213 [==============================] - 12s 58ms/step - loss: 0.7948 - accuracy: 0.6900 - precision: 0.8502 - recall: 0.5486 - root_mean_squared_error: 0.1616 - mean_squared_error: 0.0261 - mean_absolute_error: 0.0543 - val_loss: 0.7777 - val_accuracy: 0.6958 - val_precision: 0.8698 - val_recall: 0.5554 - val_root_mean_squared_error: 0.1587 - val_mean_squared_error: 0.0252 - val_mean_absolute_error: 0.0518\n",
      "Epoch 14/100\n",
      "208/213 [============================>.] - ETA: 0s - loss: 0.7629 - accuracy: 0.6967 - precision: 0.8499 - recall: 0.5658 - root_mean_squared_error: 0.1595 - mean_squared_error: 0.0254 - mean_absolute_error: 0.0527INFO:tensorflow:Assets written to: /content/drive/MyDrive/jet data/models\\cnn\\assets\n",
      "213/213 [==============================] - 13s 60ms/step - loss: 0.7623 - accuracy: 0.6970 - precision: 0.8503 - recall: 0.5660 - root_mean_squared_error: 0.1594 - mean_squared_error: 0.0254 - mean_absolute_error: 0.0527 - val_loss: 0.7682 - val_accuracy: 0.6975 - val_precision: 0.8685 - val_recall: 0.5607 - val_root_mean_squared_error: 0.1588 - val_mean_squared_error: 0.0252 - val_mean_absolute_error: 0.0523\n",
      "Epoch 15/100\n",
      "207/213 [============================>.] - ETA: 0s - loss: 0.7317 - accuracy: 0.7135 - precision: 0.8558 - recall: 0.5850 - root_mean_squared_error: 0.1569 - mean_squared_error: 0.0246 - mean_absolute_error: 0.0513INFO:tensorflow:Assets written to: /content/drive/MyDrive/jet data/models\\cnn\\assets\n",
      "213/213 [==============================] - 12s 58ms/step - loss: 0.7308 - accuracy: 0.7135 - precision: 0.8556 - recall: 0.5857 - root_mean_squared_error: 0.1568 - mean_squared_error: 0.0246 - mean_absolute_error: 0.0512 - val_loss: 0.6979 - val_accuracy: 0.7158 - val_precision: 0.8656 - val_recall: 0.5884 - val_root_mean_squared_error: 0.1532 - val_mean_squared_error: 0.0235 - val_mean_absolute_error: 0.0490\n",
      "Epoch 16/100\n",
      "213/213 [==============================] - ETA: 0s - loss: 0.6928 - accuracy: 0.7252 - precision: 0.8604 - recall: 0.6005 - root_mean_squared_error: 0.1531 - mean_squared_error: 0.0234 - mean_absolute_error: 0.0491 ETA: 0s - loss: 0.6942 - accuracy: 0.7231 - precision: 0.8599 - recall: 0.5971 - root_mean_squared_error: 0.1533 - mean_squared_error: 0.0235 - mean_absolute_error: INFO:tensorflow:Assets written to: /content/drive/MyDrive/jet data/models\\cnn\\assets\n",
      "213/213 [==============================] - 13s 61ms/step - loss: 0.6928 - accuracy: 0.7252 - precision: 0.8604 - recall: 0.6005 - root_mean_squared_error: 0.1531 - mean_squared_error: 0.0234 - mean_absolute_error: 0.0491 - val_loss: 0.6606 - val_accuracy: 0.7500 - val_precision: 0.8680 - val_recall: 0.5973 - val_root_mean_squared_error: 0.1500 - val_mean_squared_error: 0.0225 - val_mean_absolute_error: 0.0475\n",
      "Epoch 17/100\n",
      "208/213 [============================>.] - ETA: 0s - loss: 0.6596 - accuracy: 0.7402 - precision: 0.8597 - recall: 0.6178 - root_mean_squared_error: 0.1503 - mean_squared_error: 0.0226 - mean_absolute_error: 0.0475INFO:tensorflow:Assets written to: /content/drive/MyDrive/jet data/models\\cnn\\assets\n",
      "213/213 [==============================] - 12s 59ms/step - loss: 0.6578 - accuracy: 0.7411 - precision: 0.8599 - recall: 0.6180 - root_mean_squared_error: 0.1501 - mean_squared_error: 0.0225 - mean_absolute_error: 0.0474 - val_loss: 0.6241 - val_accuracy: 0.7529 - val_precision: 0.8814 - val_recall: 0.6309 - val_root_mean_squared_error: 0.1456 - val_mean_squared_error: 0.0212 - val_mean_absolute_error: 0.0453\n",
      "Epoch 18/100\n",
      "213/213 [==============================] - 1s 6ms/step - loss: 0.6331 - accuracy: 0.7424 - precision: 0.8615 - recall: 0.6285 - root_mean_squared_error: 0.1484 - mean_squared_error: 0.0220 - mean_absolute_error: 0.0464 - val_loss: 0.5996 - val_accuracy: 0.7476 - val_precision: 0.8805 - val_recall: 0.6433 - val_root_mean_squared_error: 0.1441 - val_mean_squared_error: 0.0208 - val_mean_absolute_error: 0.0439\n",
      "Epoch 19/100\n",
      "210/213 [============================>.] - ETA: 0s - loss: 0.5990 - accuracy: 0.7635 - precision: 0.8730 - recall: 0.6516 - root_mean_squared_error: 0.1446 - mean_squared_error: 0.0209 - mean_absolute_error: 0.0445INFO:tensorflow:Assets written to: /content/drive/MyDrive/jet data/models\\cnn\\assets\n",
      "213/213 [==============================] - 13s 59ms/step - loss: 0.5975 - accuracy: 0.7636 - precision: 0.8735 - recall: 0.6523 - root_mean_squared_error: 0.1445 - mean_squared_error: 0.0209 - mean_absolute_error: 0.0444 - val_loss: 0.5600 - val_accuracy: 0.7818 - val_precision: 0.8846 - val_recall: 0.6551 - val_root_mean_squared_error: 0.1392 - val_mean_squared_error: 0.0194 - val_mean_absolute_error: 0.0420\n",
      "Epoch 20/100\n",
      "210/213 [============================>.] - ETA: 0s - loss: 0.5714 - accuracy: 0.7644 - precision: 0.8599 - recall: 0.6622 - root_mean_squared_error: 0.1423 - mean_squared_error: 0.0202 - mean_absolute_error: 0.0430INFO:tensorflow:Assets written to: /content/drive/MyDrive/jet data/models\\cnn\\assets\n",
      "213/213 [==============================] - 13s 60ms/step - loss: 0.5703 - accuracy: 0.7654 - precision: 0.8609 - recall: 0.6637 - root_mean_squared_error: 0.1421 - mean_squared_error: 0.0202 - mean_absolute_error: 0.0429 - val_loss: 0.5286 - val_accuracy: 0.7830 - val_precision: 0.8859 - val_recall: 0.6822 - val_root_mean_squared_error: 0.1366 - val_mean_squared_error: 0.0187 - val_mean_absolute_error: 0.0399\n",
      "Epoch 21/100\n",
      "210/213 [============================>.] - ETA: 0s - loss: 0.5619 - accuracy: 0.7719 - precision: 0.8714 - recall: 0.6708 - root_mean_squared_error: 0.1414 - mean_squared_error: 0.0200 - mean_absolute_error: 0.0423INFO:tensorflow:Assets written to: /content/drive/MyDrive/jet data/models\\cnn\\assets\n",
      "213/213 [==============================] - 13s 61ms/step - loss: 0.5643 - accuracy: 0.7710 - precision: 0.8706 - recall: 0.6700 - root_mean_squared_error: 0.1417 - mean_squared_error: 0.0201 - mean_absolute_error: 0.0424 - val_loss: 0.5139 - val_accuracy: 0.7960 - val_precision: 0.9016 - val_recall: 0.6969 - val_root_mean_squared_error: 0.1341 - val_mean_squared_error: 0.0180 - val_mean_absolute_error: 0.0393\n",
      "Epoch 22/100\n",
      "213/213 [==============================] - 1s 7ms/step - loss: 0.5447 - accuracy: 0.7746 - precision: 0.8676 - recall: 0.6788 - root_mean_squared_error: 0.1401 - mean_squared_error: 0.0196 - mean_absolute_error: 0.0414 - val_loss: 0.4872 - val_accuracy: 0.7913 - val_precision: 0.8867 - val_recall: 0.7152 - val_root_mean_squared_error: 0.1318 - val_mean_squared_error: 0.0174 - val_mean_absolute_error: 0.0373\n"
     ]
    },
    {
     "name": "stdout",
     "output_type": "stream",
     "text": [
      "Epoch 23/100\n",
      "207/213 [============================>.] - ETA: 0s - loss: 0.5065 - accuracy: 0.7914 - precision: 0.8798 - recall: 0.7074 - root_mean_squared_error: 0.1349 - mean_squared_error: 0.0182 - mean_absolute_error: 0.0390INFO:tensorflow:Assets written to: /content/drive/MyDrive/jet data/models\\cnn\\assets\n",
      "213/213 [==============================] - 13s 62ms/step - loss: 0.5094 - accuracy: 0.7899 - precision: 0.8788 - recall: 0.7054 - root_mean_squared_error: 0.1352 - mean_squared_error: 0.0183 - mean_absolute_error: 0.0392 - val_loss: 0.4812 - val_accuracy: 0.8066 - val_precision: 0.8948 - val_recall: 0.7170 - val_root_mean_squared_error: 0.1303 - val_mean_squared_error: 0.0170 - val_mean_absolute_error: 0.0369\n",
      "Epoch 24/100\n",
      "210/213 [============================>.] - ETA: 0s - loss: 0.5008 - accuracy: 0.7899 - precision: 0.8795 - recall: 0.7083 - root_mean_squared_error: 0.1346 - mean_squared_error: 0.0181 - mean_absolute_error: 0.0387INFO:tensorflow:Assets written to: /content/drive/MyDrive/jet data/models\\cnn\\assets\n",
      "213/213 [==============================] - 13s 63ms/step - loss: 0.5004 - accuracy: 0.7903 - precision: 0.8798 - recall: 0.7089 - root_mean_squared_error: 0.1346 - mean_squared_error: 0.0181 - mean_absolute_error: 0.0387 - val_loss: 0.4505 - val_accuracy: 0.8096 - val_precision: 0.8866 - val_recall: 0.7423 - val_root_mean_squared_error: 0.1274 - val_mean_squared_error: 0.0162 - val_mean_absolute_error: 0.0345\n",
      "Epoch 25/100\n",
      "208/213 [============================>.] - ETA: 0s - loss: 0.4884 - accuracy: 0.7939 - precision: 0.8778 - recall: 0.7188 - root_mean_squared_error: 0.1334 - mean_squared_error: 0.0178 - mean_absolute_error: 0.0375INFO:tensorflow:Assets written to: /content/drive/MyDrive/jet data/models\\cnn\\assets\n",
      "213/213 [==============================] - 13s 61ms/step - loss: 0.4881 - accuracy: 0.7936 - precision: 0.8785 - recall: 0.7182 - root_mean_squared_error: 0.1334 - mean_squared_error: 0.0178 - mean_absolute_error: 0.0376 - val_loss: 0.4200 - val_accuracy: 0.8208 - val_precision: 0.9088 - val_recall: 0.7465 - val_root_mean_squared_error: 0.1229 - val_mean_squared_error: 0.0151 - val_mean_absolute_error: 0.0336\n",
      "Epoch 26/100\n",
      "209/213 [============================>.] - ETA: 0s - loss: 0.4730 - accuracy: 0.7986 - precision: 0.8739 - recall: 0.7243 - root_mean_squared_error: 0.1320 - mean_squared_error: 0.0174 - mean_absolute_error: 0.0366INFO:tensorflow:Assets written to: /content/drive/MyDrive/jet data/models\\cnn\\assets\n",
      "213/213 [==============================] - 12s 56ms/step - loss: 0.4715 - accuracy: 0.7996 - precision: 0.8751 - recall: 0.7246 - root_mean_squared_error: 0.1318 - mean_squared_error: 0.0174 - mean_absolute_error: 0.0366 - val_loss: 0.4117 - val_accuracy: 0.8243 - val_precision: 0.9081 - val_recall: 0.7512 - val_root_mean_squared_error: 0.1222 - val_mean_squared_error: 0.0149 - val_mean_absolute_error: 0.0333\n",
      "Epoch 27/100\n",
      "213/213 [==============================] - 1s 6ms/step - loss: 0.4766 - accuracy: 0.7990 - precision: 0.8797 - recall: 0.7283 - root_mean_squared_error: 0.1315 - mean_squared_error: 0.0173 - mean_absolute_error: 0.0365 - val_loss: 0.4561 - val_accuracy: 0.7989 - val_precision: 0.8833 - val_recall: 0.7317 - val_root_mean_squared_error: 0.1290 - val_mean_squared_error: 0.0167 - val_mean_absolute_error: 0.0355\n",
      "Epoch 28/100\n",
      "213/213 [==============================] - ETA: 0s - loss: 0.4439 - accuracy: 0.8162 - precision: 0.8914 - recall: 0.7455 - root_mean_squared_error: 0.1272 - mean_squared_error: 0.0162 - mean_absolute_error: 0.0347INFO:tensorflow:Assets written to: /content/drive/MyDrive/jet data/models\\cnn\\assets\n",
      "213/213 [==============================] - 12s 57ms/step - loss: 0.4439 - accuracy: 0.8162 - precision: 0.8914 - recall: 0.7455 - root_mean_squared_error: 0.1272 - mean_squared_error: 0.0162 - mean_absolute_error: 0.0347 - val_loss: 0.3782 - val_accuracy: 0.8278 - val_precision: 0.8977 - val_recall: 0.7812 - val_root_mean_squared_error: 0.1180 - val_mean_squared_error: 0.0139 - val_mean_absolute_error: 0.0305\n",
      "Epoch 29/100\n",
      "213/213 [==============================] - 1s 6ms/step - loss: 0.4262 - accuracy: 0.8190 - precision: 0.8888 - recall: 0.7543 - root_mean_squared_error: 0.1255 - mean_squared_error: 0.0158 - mean_absolute_error: 0.0336 - val_loss: 0.3936 - val_accuracy: 0.8255 - val_precision: 0.9048 - val_recall: 0.7736 - val_root_mean_squared_error: 0.1194 - val_mean_squared_error: 0.0143 - val_mean_absolute_error: 0.0308\n",
      "Epoch 30/100\n",
      "212/213 [============================>.] - ETA: 0s - loss: 0.4128 - accuracy: 0.8172 - precision: 0.8891 - recall: 0.7597 - root_mean_squared_error: 0.1243 - mean_squared_error: 0.0154 - mean_absolute_error: 0.0328INFO:tensorflow:Assets written to: /content/drive/MyDrive/jet data/models\\cnn\\assets\n",
      "213/213 [==============================] - 12s 56ms/step - loss: 0.4133 - accuracy: 0.8169 - precision: 0.8889 - recall: 0.7591 - root_mean_squared_error: 0.1244 - mean_squared_error: 0.0155 - mean_absolute_error: 0.0328 - val_loss: 0.3785 - val_accuracy: 0.8325 - val_precision: 0.9095 - val_recall: 0.7818 - val_root_mean_squared_error: 0.1180 - val_mean_squared_error: 0.0139 - val_mean_absolute_error: 0.0297\n",
      "Epoch 31/100\n",
      "208/213 [============================>.] - ETA: 0s - loss: 0.4170 - accuracy: 0.8224 - precision: 0.8877 - recall: 0.7592 - root_mean_squared_error: 0.1246 - mean_squared_error: 0.0155 - mean_absolute_error: 0.0327INFO:tensorflow:Assets written to: /content/drive/MyDrive/jet data/models\\cnn\\assets\n",
      "213/213 [==============================] - 13s 59ms/step - loss: 0.4156 - accuracy: 0.8223 - precision: 0.8882 - recall: 0.7597 - root_mean_squared_error: 0.1244 - mean_squared_error: 0.0155 - mean_absolute_error: 0.0327 - val_loss: 0.3574 - val_accuracy: 0.8420 - val_precision: 0.9092 - val_recall: 0.7913 - val_root_mean_squared_error: 0.1146 - val_mean_squared_error: 0.0131 - val_mean_absolute_error: 0.0285\n",
      "Epoch 32/100\n",
      "213/213 [==============================] - 1s 6ms/step - loss: 0.4257 - accuracy: 0.8197 - precision: 0.8873 - recall: 0.7600 - root_mean_squared_error: 0.1253 - mean_squared_error: 0.0157 - mean_absolute_error: 0.0328 - val_loss: 0.3681 - val_accuracy: 0.8367 - val_precision: 0.8972 - val_recall: 0.7925 - val_root_mean_squared_error: 0.1167 - val_mean_squared_error: 0.0136 - val_mean_absolute_error: 0.0285\n",
      "Epoch 33/100\n",
      "213/213 [==============================] - 1s 6ms/step - loss: 0.4066 - accuracy: 0.8239 - precision: 0.8875 - recall: 0.7670 - root_mean_squared_error: 0.1231 - mean_squared_error: 0.0151 - mean_absolute_error: 0.0319 - val_loss: 0.3741 - val_accuracy: 0.8284 - val_precision: 0.8959 - val_recall: 0.7818 - val_root_mean_squared_error: 0.1180 - val_mean_squared_error: 0.0139 - val_mean_absolute_error: 0.0290\n",
      "Epoch 34/100\n",
      "208/213 [============================>.] - ETA: 0s - loss: 0.3932 - accuracy: 0.8284 - precision: 0.8929 - recall: 0.7682 - root_mean_squared_error: 0.1216 - mean_squared_error: 0.0148 - mean_absolute_error: 0.0312INFO:tensorflow:Assets written to: /content/drive/MyDrive/jet data/models\\cnn\\assets\n",
      "213/213 [==============================] - 13s 59ms/step - loss: 0.3933 - accuracy: 0.8279 - precision: 0.8926 - recall: 0.7682 - root_mean_squared_error: 0.1216 - mean_squared_error: 0.0148 - mean_absolute_error: 0.0312 - val_loss: 0.3410 - val_accuracy: 0.8479 - val_precision: 0.9021 - val_recall: 0.7989 - val_root_mean_squared_error: 0.1134 - val_mean_squared_error: 0.0129 - val_mean_absolute_error: 0.0269\n",
      "Epoch 35/100\n",
      "213/213 [==============================] - 1s 6ms/step - loss: 0.3844 - accuracy: 0.8323 - precision: 0.8955 - recall: 0.7782 - root_mean_squared_error: 0.1203 - mean_squared_error: 0.0145 - mean_absolute_error: 0.0304 - val_loss: 0.3531 - val_accuracy: 0.8420 - val_precision: 0.9032 - val_recall: 0.7925 - val_root_mean_squared_error: 0.1148 - val_mean_squared_error: 0.0132 - val_mean_absolute_error: 0.0277\n",
      "Epoch 36/100\n",
      "211/213 [============================>.] - ETA: 0s - loss: 0.3839 - accuracy: 0.8281 - precision: 0.8949 - recall: 0.7746 - root_mean_squared_error: 0.1203 - mean_squared_error: 0.0145 - mean_absolute_error: 0.0303INFO:tensorflow:Assets written to: /content/drive/MyDrive/jet data/models\\cnn\\assets\n"
     ]
    },
    {
     "name": "stdout",
     "output_type": "stream",
     "text": [
      "213/213 [==============================] - 12s 56ms/step - loss: 0.3832 - accuracy: 0.8283 - precision: 0.8951 - recall: 0.7751 - root_mean_squared_error: 0.1202 - mean_squared_error: 0.0144 - mean_absolute_error: 0.0303 - val_loss: 0.3236 - val_accuracy: 0.8544 - val_precision: 0.9168 - val_recall: 0.8054 - val_root_mean_squared_error: 0.1104 - val_mean_squared_error: 0.0122 - val_mean_absolute_error: 0.0256\n",
      "Epoch 37/100\n",
      "213/213 [==============================] - 1s 6ms/step - loss: 0.3796 - accuracy: 0.8317 - precision: 0.8950 - recall: 0.7777 - root_mean_squared_error: 0.1196 - mean_squared_error: 0.0143 - mean_absolute_error: 0.0299 - val_loss: 0.3177 - val_accuracy: 0.8514 - val_precision: 0.9119 - val_recall: 0.8119 - val_root_mean_squared_error: 0.1097 - val_mean_squared_error: 0.0120 - val_mean_absolute_error: 0.0252\n",
      "Epoch 38/100\n",
      "213/213 [==============================] - 1s 6ms/step - loss: 0.3699 - accuracy: 0.8367 - precision: 0.9003 - recall: 0.7839 - root_mean_squared_error: 0.1180 - mean_squared_error: 0.0139 - mean_absolute_error: 0.0293 - val_loss: 0.3078 - val_accuracy: 0.8520 - val_precision: 0.9191 - val_recall: 0.8101 - val_root_mean_squared_error: 0.1079 - val_mean_squared_error: 0.0116 - val_mean_absolute_error: 0.0250\n",
      "Epoch 39/100\n",
      "213/213 [==============================] - 1s 6ms/step - loss: 0.3769 - accuracy: 0.8276 - precision: 0.8912 - recall: 0.7785 - root_mean_squared_error: 0.1197 - mean_squared_error: 0.0143 - mean_absolute_error: 0.0297 - val_loss: 0.3329 - val_accuracy: 0.8461 - val_precision: 0.9031 - val_recall: 0.8137 - val_root_mean_squared_error: 0.1122 - val_mean_squared_error: 0.0126 - val_mean_absolute_error: 0.0254\n",
      "Epoch 40/100\n",
      "206/213 [============================>.] - ETA: 0s - loss: 0.3522 - accuracy: 0.8392 - precision: 0.9026 - recall: 0.7928 - root_mean_squared_error: 0.1160 - mean_squared_error: 0.0135 - mean_absolute_error: 0.0284INFO:tensorflow:Assets written to: /content/drive/MyDrive/jet data/models\\cnn\\assets\n",
      "213/213 [==============================] - 12s 55ms/step - loss: 0.3545 - accuracy: 0.8379 - precision: 0.9013 - recall: 0.7915 - root_mean_squared_error: 0.1164 - mean_squared_error: 0.0136 - mean_absolute_error: 0.0285 - val_loss: 0.2936 - val_accuracy: 0.8608 - val_precision: 0.9210 - val_recall: 0.8178 - val_root_mean_squared_error: 0.1058 - val_mean_squared_error: 0.0112 - val_mean_absolute_error: 0.0237\n",
      "Epoch 41/100\n",
      "213/213 [==============================] - 1s 5ms/step - loss: 0.3470 - accuracy: 0.8392 - precision: 0.9023 - recall: 0.7930 - root_mean_squared_error: 0.1152 - mean_squared_error: 0.0133 - mean_absolute_error: 0.0279 - val_loss: 0.2974 - val_accuracy: 0.8573 - val_precision: 0.9060 - val_recall: 0.8184 - val_root_mean_squared_error: 0.1065 - val_mean_squared_error: 0.0114 - val_mean_absolute_error: 0.0235\n",
      "Epoch 42/100\n",
      "213/213 [==============================] - 1s 6ms/step - loss: 0.3452 - accuracy: 0.8401 - precision: 0.8984 - recall: 0.7981 - root_mean_squared_error: 0.1148 - mean_squared_error: 0.0132 - mean_absolute_error: 0.0275 - val_loss: 0.3172 - val_accuracy: 0.8473 - val_precision: 0.9044 - val_recall: 0.8090 - val_root_mean_squared_error: 0.1102 - val_mean_squared_error: 0.0122 - val_mean_absolute_error: 0.0243\n",
      "Epoch 43/100\n",
      "213/213 [==============================] - 1s 5ms/step - loss: 0.3510 - accuracy: 0.8379 - precision: 0.8974 - recall: 0.7952 - root_mean_squared_error: 0.1159 - mean_squared_error: 0.0134 - mean_absolute_error: 0.0276 - val_loss: 0.3447 - val_accuracy: 0.8426 - val_precision: 0.9031 - val_recall: 0.7972 - val_root_mean_squared_error: 0.1137 - val_mean_squared_error: 0.0129 - val_mean_absolute_error: 0.0263\n",
      "Epoch 44/100\n",
      "213/213 [==============================] - 1s 5ms/step - loss: 0.3695 - accuracy: 0.8310 - precision: 0.8948 - recall: 0.7833 - root_mean_squared_error: 0.1184 - mean_squared_error: 0.0140 - mean_absolute_error: 0.0286 - val_loss: 0.3175 - val_accuracy: 0.8508 - val_precision: 0.9036 - val_recall: 0.8178 - val_root_mean_squared_error: 0.1103 - val_mean_squared_error: 0.0122 - val_mean_absolute_error: 0.0243\n",
      "Epoch 45/100\n",
      "213/213 [==============================] - 1s 5ms/step - loss: 0.3495 - accuracy: 0.8385 - precision: 0.8958 - recall: 0.7931 - root_mean_squared_error: 0.1155 - mean_squared_error: 0.0133 - mean_absolute_error: 0.0275 - val_loss: 0.3028 - val_accuracy: 0.8449 - val_precision: 0.9049 - val_recall: 0.8019 - val_root_mean_squared_error: 0.1086 - val_mean_squared_error: 0.0118 - val_mean_absolute_error: 0.0242\n",
      "Epoch 46/100\n",
      "209/213 [============================>.] - ETA: 0s - loss: 0.3374 - accuracy: 0.8442 - precision: 0.9058 - recall: 0.7980 - root_mean_squared_error: 0.1137 - mean_squared_error: 0.0129 - mean_absolute_error: 0.0268INFO:tensorflow:Assets written to: /content/drive/MyDrive/jet data/models\\cnn\\assets\n",
      "213/213 [==============================] - 12s 56ms/step - loss: 0.3375 - accuracy: 0.8445 - precision: 0.9062 - recall: 0.7978 - root_mean_squared_error: 0.1137 - mean_squared_error: 0.0129 - mean_absolute_error: 0.0268 - val_loss: 0.2805 - val_accuracy: 0.8685 - val_precision: 0.9204 - val_recall: 0.8255 - val_root_mean_squared_error: 0.1042 - val_mean_squared_error: 0.0109 - val_mean_absolute_error: 0.0227\n",
      "Epoch 47/100\n",
      "213/213 [==============================] - 1s 5ms/step - loss: 0.3445 - accuracy: 0.8405 - precision: 0.9005 - recall: 0.7917 - root_mean_squared_error: 0.1148 - mean_squared_error: 0.0132 - mean_absolute_error: 0.0272 - val_loss: 0.2842 - val_accuracy: 0.8591 - val_precision: 0.9268 - val_recall: 0.8213 - val_root_mean_squared_error: 0.1046 - val_mean_squared_error: 0.0109 - val_mean_absolute_error: 0.0227\n",
      "Epoch 48/100\n",
      "213/213 [==============================] - 1s 6ms/step - loss: 0.3224 - accuracy: 0.8501 - precision: 0.9048 - recall: 0.8030 - root_mean_squared_error: 0.1119 - mean_squared_error: 0.0125 - mean_absolute_error: 0.0259 - val_loss: 0.2919 - val_accuracy: 0.8585 - val_precision: 0.9090 - val_recall: 0.8249 - val_root_mean_squared_error: 0.1061 - val_mean_squared_error: 0.0113 - val_mean_absolute_error: 0.0225\n",
      "Epoch 49/100\n",
      "213/213 [==============================] - 1s 6ms/step - loss: 0.3324 - accuracy: 0.8460 - precision: 0.9054 - recall: 0.8050 - root_mean_squared_error: 0.1131 - mean_squared_error: 0.0128 - mean_absolute_error: 0.0264 - val_loss: 0.2960 - val_accuracy: 0.8597 - val_precision: 0.9081 - val_recall: 0.8272 - val_root_mean_squared_error: 0.1065 - val_mean_squared_error: 0.0113 - val_mean_absolute_error: 0.0225\n",
      "Epoch 50/100\n",
      "213/213 [==============================] - 1s 6ms/step - loss: 0.3325 - accuracy: 0.8461 - precision: 0.9053 - recall: 0.8027 - root_mean_squared_error: 0.1132 - mean_squared_error: 0.0128 - mean_absolute_error: 0.0263 - val_loss: 0.2828 - val_accuracy: 0.8555 - val_precision: 0.9096 - val_recall: 0.8243 - val_root_mean_squared_error: 0.1058 - val_mean_squared_error: 0.0112 - val_mean_absolute_error: 0.0220\n",
      "Epoch 51/100\n",
      "213/213 [==============================] - 1s 6ms/step - loss: 0.3494 - accuracy: 0.8399 - precision: 0.8992 - recall: 0.7986 - root_mean_squared_error: 0.1155 - mean_squared_error: 0.0133 - mean_absolute_error: 0.0272 - val_loss: 0.3060 - val_accuracy: 0.8597 - val_precision: 0.9162 - val_recall: 0.8190 - val_root_mean_squared_error: 0.1084 - val_mean_squared_error: 0.0118 - val_mean_absolute_error: 0.0234\n",
      "Epoch 52/100\n",
      "213/213 [==============================] - 1s 6ms/step - loss: 0.3286 - accuracy: 0.8457 - precision: 0.9077 - recall: 0.8024 - root_mean_squared_error: 0.1126 - mean_squared_error: 0.0127 - mean_absolute_error: 0.0261 - val_loss: 0.2882 - val_accuracy: 0.8585 - val_precision: 0.9055 - val_recall: 0.8249 - val_root_mean_squared_error: 0.1047 - val_mean_squared_error: 0.0110 - val_mean_absolute_error: 0.0220\n",
      "Epoch 53/100\n",
      "213/213 [==============================] - 1s 6ms/step - loss: 0.3226 - accuracy: 0.8436 - precision: 0.9034 - recall: 0.8030 - root_mean_squared_error: 0.1124 - mean_squared_error: 0.0126 - mean_absolute_error: 0.0256 - val_loss: 0.2915 - val_accuracy: 0.8573 - val_precision: 0.9051 - val_recall: 0.8213 - val_root_mean_squared_error: 0.1069 - val_mean_squared_error: 0.0114 - val_mean_absolute_error: 0.0224\n"
     ]
    },
    {
     "name": "stdout",
     "output_type": "stream",
     "text": [
      "Epoch 54/100\n",
      "213/213 [==============================] - 1s 6ms/step - loss: 0.3164 - accuracy: 0.8461 - precision: 0.9066 - recall: 0.8088 - root_mean_squared_error: 0.1107 - mean_squared_error: 0.0123 - mean_absolute_error: 0.0252 - val_loss: 0.2813 - val_accuracy: 0.8614 - val_precision: 0.9163 - val_recall: 0.8267 - val_root_mean_squared_error: 0.1043 - val_mean_squared_error: 0.0109 - val_mean_absolute_error: 0.0214\n",
      "Epoch 55/100\n",
      "213/213 [==============================] - 1s 6ms/step - loss: 0.3062 - accuracy: 0.8505 - precision: 0.9084 - recall: 0.8122 - root_mean_squared_error: 0.1096 - mean_squared_error: 0.0120 - mean_absolute_error: 0.0247 - val_loss: 0.2753 - val_accuracy: 0.8614 - val_precision: 0.9156 - val_recall: 0.8255 - val_root_mean_squared_error: 0.1031 - val_mean_squared_error: 0.0106 - val_mean_absolute_error: 0.0206\n",
      "Epoch 56/100\n",
      "211/213 [============================>.] - ETA: 0s - loss: 0.3164 - accuracy: 0.8482 - precision: 0.9035 - recall: 0.8070 - root_mean_squared_error: 0.1108 - mean_squared_error: 0.0123 - mean_absolute_error: 0.0250INFO:tensorflow:Assets written to: /content/drive/MyDrive/jet data/models\\cnn\\assets\n",
      "213/213 [==============================] - 12s 58ms/step - loss: 0.3173 - accuracy: 0.8474 - precision: 0.9028 - recall: 0.8066 - root_mean_squared_error: 0.1110 - mean_squared_error: 0.0123 - mean_absolute_error: 0.0250 - val_loss: 0.2738 - val_accuracy: 0.8691 - val_precision: 0.9179 - val_recall: 0.8373 - val_root_mean_squared_error: 0.1029 - val_mean_squared_error: 0.0106 - val_mean_absolute_error: 0.0210\n",
      "Epoch 57/100\n",
      "213/213 [==============================] - 1s 6ms/step - loss: 0.3208 - accuracy: 0.8440 - precision: 0.9003 - recall: 0.8041 - root_mean_squared_error: 0.1121 - mean_squared_error: 0.0126 - mean_absolute_error: 0.0255 - val_loss: 0.3009 - val_accuracy: 0.8650 - val_precision: 0.9152 - val_recall: 0.8272 - val_root_mean_squared_error: 0.1058 - val_mean_squared_error: 0.0112 - val_mean_absolute_error: 0.0219\n",
      "Epoch 58/100\n",
      "213/213 [==============================] - ETA: 0s - loss: 0.3217 - accuracy: 0.8419 - precision: 0.9061 - recall: 0.8035 - root_mean_squared_error: 0.1121 - mean_squared_error: 0.0126 - mean_absolute_error: 0.02 - 1s 6ms/step - loss: 0.3222 - accuracy: 0.8413 - precision: 0.9048 - recall: 0.8033 - root_mean_squared_error: 0.1123 - mean_squared_error: 0.0126 - mean_absolute_error: 0.0257 - val_loss: 0.2674 - val_accuracy: 0.8673 - val_precision: 0.9173 - val_recall: 0.8302 - val_root_mean_squared_error: 0.1029 - val_mean_squared_error: 0.0106 - val_mean_absolute_error: 0.0207\n",
      "Epoch 59/100\n",
      "204/213 [===========================>..] - ETA: 0s - loss: 0.3065 - accuracy: 0.8474 - precision: 0.9068 - recall: 0.8082 - root_mean_squared_error: 0.1100 - mean_squared_error: 0.0121 - mean_absolute_error: 0.0247INFO:tensorflow:Assets written to: /content/drive/MyDrive/jet data/models\\cnn\\assets\n",
      "213/213 [==============================] - 12s 57ms/step - loss: 0.3058 - accuracy: 0.8473 - precision: 0.9081 - recall: 0.8085 - root_mean_squared_error: 0.1098 - mean_squared_error: 0.0121 - mean_absolute_error: 0.0246 - val_loss: 0.2705 - val_accuracy: 0.8709 - val_precision: 0.9188 - val_recall: 0.8337 - val_root_mean_squared_error: 0.1024 - val_mean_squared_error: 0.0105 - val_mean_absolute_error: 0.0203\n",
      "Epoch 60/100\n",
      "205/213 [===========================>..] - ETA: 0s - loss: 0.3039 - accuracy: 0.8569 - precision: 0.9104 - recall: 0.8174 - root_mean_squared_error: 0.1092 - mean_squared_error: 0.0119 - mean_absolute_error: 0.0241INFO:tensorflow:Assets written to: /content/drive/MyDrive/jet data/models\\cnn\\assets\n",
      "213/213 [==============================] - 12s 56ms/step - loss: 0.3063 - accuracy: 0.8558 - precision: 0.9100 - recall: 0.8160 - root_mean_squared_error: 0.1094 - mean_squared_error: 0.0120 - mean_absolute_error: 0.0242 - val_loss: 0.2606 - val_accuracy: 0.8738 - val_precision: 0.9168 - val_recall: 0.8379 - val_root_mean_squared_error: 0.1004 - val_mean_squared_error: 0.0101 - val_mean_absolute_error: 0.0197\n",
      "Epoch 61/100\n",
      "213/213 [==============================] - 1s 6ms/step - loss: 0.3240 - accuracy: 0.8468 - precision: 0.9047 - recall: 0.8107 - root_mean_squared_error: 0.1121 - mean_squared_error: 0.0126 - mean_absolute_error: 0.0252 - val_loss: 0.2831 - val_accuracy: 0.8697 - val_precision: 0.9185 - val_recall: 0.8302 - val_root_mean_squared_error: 0.1041 - val_mean_squared_error: 0.0108 - val_mean_absolute_error: 0.0222\n",
      "Epoch 62/100\n",
      "213/213 [==============================] - 1s 6ms/step - loss: 0.3226 - accuracy: 0.8479 - precision: 0.9007 - recall: 0.8094 - root_mean_squared_error: 0.1120 - mean_squared_error: 0.0125 - mean_absolute_error: 0.0254 - val_loss: 0.2849 - val_accuracy: 0.8650 - val_precision: 0.9170 - val_recall: 0.8337 - val_root_mean_squared_error: 0.1030 - val_mean_squared_error: 0.0106 - val_mean_absolute_error: 0.0211\n",
      "Epoch 63/100\n",
      "213/213 [==============================] - 1s 6ms/step - loss: 0.3158 - accuracy: 0.8443 - precision: 0.9046 - recall: 0.8087 - root_mean_squared_error: 0.1109 - mean_squared_error: 0.0123 - mean_absolute_error: 0.0248 - val_loss: 0.2836 - val_accuracy: 0.8561 - val_precision: 0.9049 - val_recall: 0.8249 - val_root_mean_squared_error: 0.1056 - val_mean_squared_error: 0.0112 - val_mean_absolute_error: 0.0214\n",
      "Epoch 64/100\n",
      "213/213 [==============================] - 1s 6ms/step - loss: 0.3823 - accuracy: 0.8345 - precision: 0.8910 - recall: 0.7895 - root_mean_squared_error: 0.1184 - mean_squared_error: 0.0140 - mean_absolute_error: 0.0279 - val_loss: 0.2607 - val_accuracy: 0.8685 - val_precision: 0.9211 - val_recall: 0.8402 - val_root_mean_squared_error: 0.1009 - val_mean_squared_error: 0.0102 - val_mean_absolute_error: 0.0200\n",
      "Epoch 65/100\n",
      "213/213 [==============================] - 1s 6ms/step - loss: 0.2984 - accuracy: 0.8534 - precision: 0.9119 - recall: 0.8135 - root_mean_squared_error: 0.1084 - mean_squared_error: 0.0117 - mean_absolute_error: 0.0240 - val_loss: 0.2848 - val_accuracy: 0.8673 - val_precision: 0.8996 - val_recall: 0.8455 - val_root_mean_squared_error: 0.1044 - val_mean_squared_error: 0.0109 - val_mean_absolute_error: 0.0210\n",
      "Epoch 66/100\n",
      "213/213 [==============================] - 1s 6ms/step - loss: 0.2975 - accuracy: 0.8575 - precision: 0.9129 - recall: 0.8195 - root_mean_squared_error: 0.1082 - mean_squared_error: 0.0117 - mean_absolute_error: 0.0240 - val_loss: 0.2642 - val_accuracy: 0.8662 - val_precision: 0.9149 - val_recall: 0.8373 - val_root_mean_squared_error: 0.1015 - val_mean_squared_error: 0.0103 - val_mean_absolute_error: 0.0206\n",
      "Epoch 67/100\n",
      "213/213 [==============================] - 1s 6ms/step - loss: 0.2997 - accuracy: 0.8546 - precision: 0.9100 - recall: 0.8148 - root_mean_squared_error: 0.1090 - mean_squared_error: 0.0119 - mean_absolute_error: 0.0238 - val_loss: 0.2538 - val_accuracy: 0.8697 - val_precision: 0.9195 - val_recall: 0.8349 - val_root_mean_squared_error: 0.0999 - val_mean_squared_error: 0.0100 - val_mean_absolute_error: 0.0200\n",
      "Epoch 68/100\n",
      "213/213 [==============================] - 1s 6ms/step - loss: 0.2970 - accuracy: 0.8530 - precision: 0.9081 - recall: 0.8172 - root_mean_squared_error: 0.1087 - mean_squared_error: 0.0118 - mean_absolute_error: 0.0238 - val_loss: 0.2624 - val_accuracy: 0.8703 - val_precision: 0.9259 - val_recall: 0.8396 - val_root_mean_squared_error: 0.1006 - val_mean_squared_error: 0.0101 - val_mean_absolute_error: 0.0196\n",
      "Epoch 69/100\n",
      "213/213 [==============================] - 1s 6ms/step - loss: 0.3067 - accuracy: 0.8480 - precision: 0.9041 - recall: 0.8088 - root_mean_squared_error: 0.1097 - mean_squared_error: 0.0120 - mean_absolute_error: 0.0241 - val_loss: 0.2691 - val_accuracy: 0.8620 - val_precision: 0.9086 - val_recall: 0.8379 - val_root_mean_squared_error: 0.1031 - val_mean_squared_error: 0.0106 - val_mean_absolute_error: 0.0202\n",
      "Epoch 70/100\n",
      "213/213 [==============================] - 1s 6ms/step - loss: 0.3090 - accuracy: 0.8512 - precision: 0.9057 - recall: 0.8121 - root_mean_squared_error: 0.1106 - mean_squared_error: 0.0122 - mean_absolute_error: 0.0247 - val_loss: 0.2907 - val_accuracy: 0.8567 - val_precision: 0.9115 - val_recall: 0.8320 - val_root_mean_squared_error: 0.1047 - val_mean_squared_error: 0.0110 - val_mean_absolute_error: 0.0214\n"
     ]
    },
    {
     "name": "stdout",
     "output_type": "stream",
     "text": [
      "Epoch 71/100\n",
      "213/213 [==============================] - 1s 6ms/step - loss: 0.3053 - accuracy: 0.8511 - precision: 0.9083 - recall: 0.8121 - root_mean_squared_error: 0.1097 - mean_squared_error: 0.0120 - mean_absolute_error: 0.0243 - val_loss: 0.2544 - val_accuracy: 0.8738 - val_precision: 0.9253 - val_recall: 0.8467 - val_root_mean_squared_error: 0.0993 - val_mean_squared_error: 0.0099 - val_mean_absolute_error: 0.0194\n",
      "Epoch 72/100\n",
      "213/213 [==============================] - 1s 6ms/step - loss: 0.3102 - accuracy: 0.8515 - precision: 0.9062 - recall: 0.8109 - root_mean_squared_error: 0.1098 - mean_squared_error: 0.0121 - mean_absolute_error: 0.0242 - val_loss: 0.2699 - val_accuracy: 0.8614 - val_precision: 0.9111 - val_recall: 0.8337 - val_root_mean_squared_error: 0.1032 - val_mean_squared_error: 0.0106 - val_mean_absolute_error: 0.0203\n",
      "Epoch 73/100\n",
      "213/213 [==============================] - 1s 6ms/step - loss: 0.2873 - accuracy: 0.8587 - precision: 0.9152 - recall: 0.8207 - root_mean_squared_error: 0.1066 - mean_squared_error: 0.0114 - mean_absolute_error: 0.0230 - val_loss: 0.2865 - val_accuracy: 0.8579 - val_precision: 0.9074 - val_recall: 0.8267 - val_root_mean_squared_error: 0.1050 - val_mean_squared_error: 0.0110 - val_mean_absolute_error: 0.0214\n",
      "Epoch 74/100\n",
      "213/213 [==============================] - 1s 6ms/step - loss: 0.3152 - accuracy: 0.8432 - precision: 0.9069 - recall: 0.8085 - root_mean_squared_error: 0.1111 - mean_squared_error: 0.0123 - mean_absolute_error: 0.0247 - val_loss: 0.2661 - val_accuracy: 0.8685 - val_precision: 0.9179 - val_recall: 0.8373 - val_root_mean_squared_error: 0.1010 - val_mean_squared_error: 0.0102 - val_mean_absolute_error: 0.0198\n",
      "Epoch 75/100\n",
      "213/213 [==============================] - 1s 6ms/step - loss: 0.2925 - accuracy: 0.8561 - precision: 0.9154 - recall: 0.8162 - root_mean_squared_error: 0.1079 - mean_squared_error: 0.0116 - mean_absolute_error: 0.0234 - val_loss: 0.2575 - val_accuracy: 0.8567 - val_precision: 0.9136 - val_recall: 0.8290 - val_root_mean_squared_error: 0.1009 - val_mean_squared_error: 0.0102 - val_mean_absolute_error: 0.0199\n",
      "Epoch 76/100\n",
      "213/213 [==============================] - 1s 6ms/step - loss: 0.2970 - accuracy: 0.8501 - precision: 0.9111 - recall: 0.8153 - root_mean_squared_error: 0.1087 - mean_squared_error: 0.0118 - mean_absolute_error: 0.0237 - val_loss: 0.2830 - val_accuracy: 0.8555 - val_precision: 0.9083 - val_recall: 0.8231 - val_root_mean_squared_error: 0.1058 - val_mean_squared_error: 0.0112 - val_mean_absolute_error: 0.0218\n",
      "Epoch 77/100\n",
      "213/213 [==============================] - 1s 6ms/step - loss: 0.2973 - accuracy: 0.8561 - precision: 0.9081 - recall: 0.8172 - root_mean_squared_error: 0.1083 - mean_squared_error: 0.0117 - mean_absolute_error: 0.0237 - val_loss: 0.2529 - val_accuracy: 0.8709 - val_precision: 0.9157 - val_recall: 0.8455 - val_root_mean_squared_error: 0.0996 - val_mean_squared_error: 0.0099 - val_mean_absolute_error: 0.0190\n",
      "Epoch 78/100\n",
      "213/213 [==============================] - 1s 6ms/step - loss: 0.2825 - accuracy: 0.8558 - precision: 0.9139 - recall: 0.8204 - root_mean_squared_error: 0.1061 - mean_squared_error: 0.0113 - mean_absolute_error: 0.0226 - val_loss: 0.2454 - val_accuracy: 0.8709 - val_precision: 0.9220 - val_recall: 0.8367 - val_root_mean_squared_error: 0.0992 - val_mean_squared_error: 0.0098 - val_mean_absolute_error: 0.0191\n",
      "Epoch 79/100\n",
      "213/213 [==============================] - 1s 6ms/step - loss: 0.2726 - accuracy: 0.8625 - precision: 0.9196 - recall: 0.8253 - root_mean_squared_error: 0.1045 - mean_squared_error: 0.0109 - mean_absolute_error: 0.0221 - val_loss: 0.2589 - val_accuracy: 0.8726 - val_precision: 0.9177 - val_recall: 0.8420 - val_root_mean_squared_error: 0.1013 - val_mean_squared_error: 0.0103 - val_mean_absolute_error: 0.0196\n",
      "Epoch 80/100\n",
      "213/213 [==============================] - 1s 6ms/step - loss: 0.2902 - accuracy: 0.8533 - precision: 0.9090 - recall: 0.8168 - root_mean_squared_error: 0.1077 - mean_squared_error: 0.0116 - mean_absolute_error: 0.0232 - val_loss: 0.2458 - val_accuracy: 0.8656 - val_precision: 0.9202 - val_recall: 0.8367 - val_root_mean_squared_error: 0.0986 - val_mean_squared_error: 0.0097 - val_mean_absolute_error: 0.0191\n",
      "Epoch 81/100\n",
      "211/213 [============================>.] - ETA: 0s - loss: 0.2778 - accuracy: 0.8538 - precision: 0.9125 - recall: 0.8174 - root_mean_squared_error: 0.1058 - mean_squared_error: 0.0112 - mean_absolute_error: 0.0226INFO:tensorflow:Assets written to: /content/drive/MyDrive/jet data/models\\cnn\\assets\n",
      "213/213 [==============================] - 12s 57ms/step - loss: 0.2775 - accuracy: 0.8540 - precision: 0.9128 - recall: 0.8175 - root_mean_squared_error: 0.1057 - mean_squared_error: 0.0112 - mean_absolute_error: 0.0225 - val_loss: 0.2582 - val_accuracy: 0.8744 - val_precision: 0.9152 - val_recall: 0.8467 - val_root_mean_squared_error: 0.1007 - val_mean_squared_error: 0.0101 - val_mean_absolute_error: 0.0188\n",
      "Epoch 82/100\n",
      "213/213 [==============================] - 1s 6ms/step - loss: 0.3241 - accuracy: 0.8467 - precision: 0.9039 - recall: 0.8077 - root_mean_squared_error: 0.1118 - mean_squared_error: 0.0125 - mean_absolute_error: 0.0248 - val_loss: 0.3184 - val_accuracy: 0.8402 - val_precision: 0.8943 - val_recall: 0.8178 - val_root_mean_squared_error: 0.1112 - val_mean_squared_error: 0.0124 - val_mean_absolute_error: 0.0228\n",
      "Epoch 83/100\n",
      "213/213 [==============================] - 1s 6ms/step - loss: 0.3578 - accuracy: 0.8322 - precision: 0.8945 - recall: 0.7959 - root_mean_squared_error: 0.1166 - mean_squared_error: 0.0136 - mean_absolute_error: 0.0265 - val_loss: 0.3247 - val_accuracy: 0.8496 - val_precision: 0.8949 - val_recall: 0.8137 - val_root_mean_squared_error: 0.1112 - val_mean_squared_error: 0.0124 - val_mean_absolute_error: 0.0240\n",
      "Epoch 84/100\n",
      "213/213 [==============================] - 1s 5ms/step - loss: 0.3212 - accuracy: 0.8457 - precision: 0.9042 - recall: 0.8047 - root_mean_squared_error: 0.1120 - mean_squared_error: 0.0126 - mean_absolute_error: 0.0252 - val_loss: 0.2568 - val_accuracy: 0.8632 - val_precision: 0.9173 - val_recall: 0.8302 - val_root_mean_squared_error: 0.1014 - val_mean_squared_error: 0.0103 - val_mean_absolute_error: 0.0199\n",
      "Epoch 85/100\n",
      "213/213 [==============================] - 1s 5ms/step - loss: 0.2785 - accuracy: 0.8574 - precision: 0.9145 - recall: 0.8192 - root_mean_squared_error: 0.1055 - mean_squared_error: 0.0111 - mean_absolute_error: 0.0226 - val_loss: 0.2464 - val_accuracy: 0.8744 - val_precision: 0.9248 - val_recall: 0.8408 - val_root_mean_squared_error: 0.0991 - val_mean_squared_error: 0.0098 - val_mean_absolute_error: 0.0191\n",
      "Epoch 86/100\n",
      "213/213 [==============================] - 1s 5ms/step - loss: 0.2698 - accuracy: 0.8656 - precision: 0.9224 - recall: 0.8279 - root_mean_squared_error: 0.1036 - mean_squared_error: 0.0107 - mean_absolute_error: 0.0219 - val_loss: 0.2542 - val_accuracy: 0.8703 - val_precision: 0.9162 - val_recall: 0.8449 - val_root_mean_squared_error: 0.0995 - val_mean_squared_error: 0.0099 - val_mean_absolute_error: 0.0188\n",
      "Epoch 87/100\n",
      "208/213 [============================>.] - ETA: 0s - loss: 0.2755 - accuracy: 0.8618 - precision: 0.9164 - recall: 0.8265 - root_mean_squared_error: 0.1052 - mean_squared_error: 0.0111 - mean_absolute_error: 0.0219INFO:tensorflow:Assets written to: /content/drive/MyDrive/jet data/models\\cnn\\assets\n",
      "213/213 [==============================] - 12s 56ms/step - loss: 0.2755 - accuracy: 0.8619 - precision: 0.9164 - recall: 0.8263 - root_mean_squared_error: 0.1052 - mean_squared_error: 0.0111 - mean_absolute_error: 0.0220 - val_loss: 0.2418 - val_accuracy: 0.8785 - val_precision: 0.9218 - val_recall: 0.8479 - val_root_mean_squared_error: 0.0975 - val_mean_squared_error: 0.0095 - val_mean_absolute_error: 0.0187\n",
      "Epoch 88/100\n",
      "213/213 [==============================] - 1s 6ms/step - loss: 0.2694 - accuracy: 0.8568 - precision: 0.9195 - recall: 0.8231 - root_mean_squared_error: 0.1044 - mean_squared_error: 0.0109 - mean_absolute_error: 0.0219 - val_loss: 0.2568 - val_accuracy: 0.8650 - val_precision: 0.9160 - val_recall: 0.8355 - val_root_mean_squared_error: 0.1009 - val_mean_squared_error: 0.0102 - val_mean_absolute_error: 0.0195\n"
     ]
    },
    {
     "name": "stdout",
     "output_type": "stream",
     "text": [
      "Epoch 89/100\n",
      "213/213 [==============================] - 1s 6ms/step - loss: 0.2778 - accuracy: 0.8662 - precision: 0.9211 - recall: 0.8289 - root_mean_squared_error: 0.1052 - mean_squared_error: 0.0111 - mean_absolute_error: 0.0221 - val_loss: 0.2601 - val_accuracy: 0.8632 - val_precision: 0.9089 - val_recall: 0.8355 - val_root_mean_squared_error: 0.1004 - val_mean_squared_error: 0.0101 - val_mean_absolute_error: 0.0194\n",
      "Epoch 90/100\n",
      "213/213 [==============================] - 1s 6ms/step - loss: 0.3344 - accuracy: 0.8438 - precision: 0.8959 - recall: 0.8055 - root_mean_squared_error: 0.1133 - mean_squared_error: 0.0128 - mean_absolute_error: 0.0249 - val_loss: 0.2917 - val_accuracy: 0.8585 - val_precision: 0.9170 - val_recall: 0.8208 - val_root_mean_squared_error: 0.1045 - val_mean_squared_error: 0.0109 - val_mean_absolute_error: 0.0212\n",
      "Epoch 91/100\n",
      "213/213 [==============================] - 1s 5ms/step - loss: 0.3129 - accuracy: 0.8477 - precision: 0.9021 - recall: 0.8071 - root_mean_squared_error: 0.1114 - mean_squared_error: 0.0124 - mean_absolute_error: 0.0248 - val_loss: 0.2656 - val_accuracy: 0.8685 - val_precision: 0.9206 - val_recall: 0.8343 - val_root_mean_squared_error: 0.1007 - val_mean_squared_error: 0.0101 - val_mean_absolute_error: 0.0200\n",
      "Epoch 92/100\n",
      "213/213 [==============================] - 1s 5ms/step - loss: 0.2877 - accuracy: 0.8589 - precision: 0.9122 - recall: 0.8201 - root_mean_squared_error: 0.1069 - mean_squared_error: 0.0114 - mean_absolute_error: 0.0228 - val_loss: 0.2569 - val_accuracy: 0.8679 - val_precision: 0.9154 - val_recall: 0.8355 - val_root_mean_squared_error: 0.1000 - val_mean_squared_error: 0.0100 - val_mean_absolute_error: 0.0194\n",
      "Epoch 93/100\n",
      "213/213 [==============================] - 1s 5ms/step - loss: 0.2832 - accuracy: 0.8558 - precision: 0.9151 - recall: 0.8170 - root_mean_squared_error: 0.1065 - mean_squared_error: 0.0114 - mean_absolute_error: 0.0229 - val_loss: 0.2551 - val_accuracy: 0.8703 - val_precision: 0.9241 - val_recall: 0.8396 - val_root_mean_squared_error: 0.0994 - val_mean_squared_error: 0.0099 - val_mean_absolute_error: 0.0190\n",
      "Epoch 94/100\n",
      "213/213 [==============================] - 1s 5ms/step - loss: 0.2774 - accuracy: 0.8553 - precision: 0.9133 - recall: 0.8241 - root_mean_squared_error: 0.1055 - mean_squared_error: 0.0111 - mean_absolute_error: 0.0222 - val_loss: 0.2561 - val_accuracy: 0.8667 - val_precision: 0.9175 - val_recall: 0.8396 - val_root_mean_squared_error: 0.1000 - val_mean_squared_error: 0.0100 - val_mean_absolute_error: 0.0191\n",
      "Epoch 95/100\n",
      "213/213 [==============================] - 1s 6ms/step - loss: 0.2743 - accuracy: 0.8584 - precision: 0.9131 - recall: 0.8201 - root_mean_squared_error: 0.1052 - mean_squared_error: 0.0111 - mean_absolute_error: 0.0222 - val_loss: 0.2513 - val_accuracy: 0.8667 - val_precision: 0.9252 - val_recall: 0.8455 - val_root_mean_squared_error: 0.0978 - val_mean_squared_error: 0.0096 - val_mean_absolute_error: 0.0186\n",
      "Epoch 96/100\n",
      "213/213 [==============================] - 1s 6ms/step - loss: 0.2737 - accuracy: 0.8615 - precision: 0.9150 - recall: 0.8231 - root_mean_squared_error: 0.1049 - mean_squared_error: 0.0110 - mean_absolute_error: 0.0220 - val_loss: 0.2448 - val_accuracy: 0.8732 - val_precision: 0.9239 - val_recall: 0.8449 - val_root_mean_squared_error: 0.0977 - val_mean_squared_error: 0.0095 - val_mean_absolute_error: 0.0188\n",
      "Epoch 97/100\n",
      "213/213 [==============================] - 1s 6ms/step - loss: 0.2667 - accuracy: 0.8612 - precision: 0.9187 - recall: 0.8254 - root_mean_squared_error: 0.1038 - mean_squared_error: 0.0108 - mean_absolute_error: 0.0215 - val_loss: 0.2455 - val_accuracy: 0.8691 - val_precision: 0.9157 - val_recall: 0.8449 - val_root_mean_squared_error: 0.0975 - val_mean_squared_error: 0.0095 - val_mean_absolute_error: 0.0184\n",
      "Epoch 98/100\n",
      "213/213 [==============================] - 1s 6ms/step - loss: 0.3532 - accuracy: 0.8410 - precision: 0.8973 - recall: 0.8028 - root_mean_squared_error: 0.1136 - mean_squared_error: 0.0129 - mean_absolute_error: 0.0247 - val_loss: 0.5399 - val_accuracy: 0.8007 - val_precision: 0.8457 - val_recall: 0.7689 - val_root_mean_squared_error: 0.1322 - val_mean_squared_error: 0.0175 - val_mean_absolute_error: 0.0300\n",
      "Epoch 99/100\n",
      "213/213 [==============================] - 1s 6ms/step - loss: 0.3588 - accuracy: 0.8373 - precision: 0.8953 - recall: 0.7918 - root_mean_squared_error: 0.1164 - mean_squared_error: 0.0136 - mean_absolute_error: 0.0270 - val_loss: 0.2470 - val_accuracy: 0.8738 - val_precision: 0.9236 - val_recall: 0.8408 - val_root_mean_squared_error: 0.0982 - val_mean_squared_error: 0.0096 - val_mean_absolute_error: 0.0191\n",
      "Epoch 100/100\n",
      "213/213 [==============================] - 1s 6ms/step - loss: 0.2722 - accuracy: 0.8593 - precision: 0.9167 - recall: 0.8235 - root_mean_squared_error: 0.1044 - mean_squared_error: 0.0109 - mean_absolute_error: 0.0221 - val_loss: 0.2416 - val_accuracy: 0.8662 - val_precision: 0.9211 - val_recall: 0.8402 - val_root_mean_squared_error: 0.0985 - val_mean_squared_error: 0.0097 - val_mean_absolute_error: 0.0187\n"
     ]
    }
   ],
   "source": [
    "# Train the model\n",
    "history = model.fit(X_train, Y_train_encoded, batch_size = batch_size, epochs = 100, \n",
    "                   steps_per_epoch = len(X_train) // batch_size,\n",
    "                   validation_steps = len(X_test) // batch_size, \n",
    "                   validation_data = (X_test, Y_test_encoded),\n",
    "                   callbacks = [model_checkpoint_callback])"
   ]
  },
  {
   "cell_type": "code",
   "execution_count": 18,
   "id": "6a751e81",
   "metadata": {},
   "outputs": [
    {
     "data": {
      "image/png": "[encoded data removed]",
      "text/plain": [
       "<Figure size 432x288 with 1 Axes>"
      ]
     },
     "metadata": {
      "needs_background": "light"
     },
     "output_type": "display_data"
    },
    {
     "data": {
      "image/png": "[encoded data removed]",
      "text/plain": [
       "<Figure size 432x288 with 1 Axes>"
      ]
     },
     "metadata": {
      "needs_background": "light"
     },
     "output_type": "display_data"
    }
   ],
   "source": [
    "import matplotlib.pyplot as plt\n",
    "acc = history.history['accuracy']\n",
    "val_acc = history.history['val_accuracy']\n",
    "loss = history.history['loss']\n",
    "val_loss = history.history['val_loss']\n",
    "\n",
    "epochs = range(len(acc))\n",
    "\n",
    "plt.plot(epochs, acc, 'r', label='Training accuracy')\n",
    "plt.plot(epochs, val_acc, 'b', label='Validation accuracy')\n",
    "plt.title('Training and validation accuracy')\n",
    "\n",
    "plt.figure()\n",
    "\n",
    "plt.plot(epochs, loss, 'r', label='Training Loss')\n",
    "plt.plot(epochs, val_loss, 'b', label='Validation Loss')\n",
    "plt.title('Training and validation loss')\n",
    "plt.legend()\n",
    "\n",
    "plt.show()"
   ]
  },
  {
   "cell_type": "code",
   "execution_count": 19,
   "id": "7a0607ff",
   "metadata": {
    "colab": {
     "base_uri": "https://localhost:8080/"
    },
    "id": "7a0607ff",
    "outputId": "5b248be3-ea84-4de3-ba90-6d70bad3f1d7"
   },
   "outputs": [],
   "source": [
    "# Evaluate the model on the test set\n"
   ]
  },
  {
   "cell_type": "code",
   "execution_count": 20,
   "id": "5e8db91f",
   "metadata": {},
   "outputs": [
    {
     "name": "stdout",
     "output_type": "stream",
     "text": [
      "The Training metrics are:\n",
      "213/213 [==============================] - 1s 4ms/step - loss: 0.2318 - accuracy: 0.8731 - precision: 0.9306 - recall: 0.8382 - root_mean_squared_error: 0.0981 - mean_squared_error: 0.0096 - mean_absolute_error: 0.0194\n"
     ]
    },
    {
     "data": {
      "text/plain": [
       "[0.2318483293056488,\n",
       " 0.8730927109718323,\n",
       " 0.9306076169013977,\n",
       " 0.8381748795509338,\n",
       " 0.0980684757232666,\n",
       " 0.009617429226636887,\n",
       " 0.019365595653653145]"
      ]
     },
     "execution_count": 20,
     "metadata": {},
     "output_type": "execute_result"
    }
   ],
   "source": [
    "print('The Training metrics are:')\n",
    "model.evaluate(X_train, Y_train_encoded)"
   ]
  },
  {
   "cell_type": "code",
   "execution_count": 21,
   "id": "31b6ed49",
   "metadata": {},
   "outputs": [
    {
     "name": "stdout",
     "output_type": "stream",
     "text": [
      "The validation metrics are:\n",
      "54/54 [==============================] - 0s 2ms/step - loss: 0.2473 - accuracy: 0.8662 - precision: 0.9209 - recall: 0.8404 - root_mean_squared_error: 0.0988 - mean_squared_error: 0.0098 - mean_absolute_error: 0.0188\n"
     ]
    },
    {
     "data": {
      "text/plain": [
       "[0.24725839495658875,\n",
       " 0.8661971688270569,\n",
       " 0.9209003448486328,\n",
       " 0.8403756022453308,\n",
       " 0.09876532107591629,\n",
       " 0.009754586964845657,\n",
       " 0.01877587102353573]"
      ]
     },
     "execution_count": 21,
     "metadata": {},
     "output_type": "execute_result"
    }
   ],
   "source": [
    "print('The validation metrics are:')\n",
    "model.evaluate(X_test, Y_test_encoded)"
   ]
  },
  {
   "cell_type": "code",
   "execution_count": null,
   "id": "7WrYttFYmIGy",
   "metadata": {
    "id": "7WrYttFYmIGy"
   },
   "outputs": [],
   "source": []
  },
  {
   "cell_type": "code",
   "execution_count": null,
   "id": "95da7288",
   "metadata": {},
   "outputs": [],
   "source": []
  },
  {
   "cell_type": "code",
   "execution_count": null,
   "id": "b9fe1be3",
   "metadata": {},
   "outputs": [],
   "source": []
  },
  {
   "cell_type": "code",
   "execution_count": null,
   "id": "20fcdc04",
   "metadata": {},
   "outputs": [],
   "source": []
  }
 ],
 "metadata": {
  "colab": {
   "provenance": []
  },
  "kernelspec": {
   "display_name": "Python 3 (ipykernel)",
   "language": "python",
   "name": "python3"
  },
  "language_info": {
   "codemirror_mode": {
    "name": "ipython",
    "version": 3
   },
   "file_extension": ".py",
   "mimetype": "text/x-python",
   "name": "python",
   "nbconvert_exporter": "python",
   "pygments_lexer": "ipython3",
   "version": "3.8.13"
  }
 },
 "nbformat": 4,
 "nbformat_minor": 5
}
